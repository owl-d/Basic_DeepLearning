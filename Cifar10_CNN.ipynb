{
  "nbformat": 4,
  "nbformat_minor": 0,
  "metadata": {
    "colab": {
      "provenance": [],
      "gpuType": "T4",
      "authorship_tag": "ABX9TyMEnOWmNg0dTeasb4b+DvbV",
      "include_colab_link": true
    },
    "kernelspec": {
      "name": "python3",
      "display_name": "Python 3"
    },
    "language_info": {
      "name": "python"
    },
    "accelerator": "GPU"
  },
  "cells": [
    {
      "cell_type": "markdown",
      "metadata": {
        "id": "view-in-github",
        "colab_type": "text"
      },
      "source": [
        "<a href=\"https://colab.research.google.com/github/owl-d/Basic_DeepLearning/blob/main/Cifar10_CNN.ipynb\" target=\"_parent\"><img src=\"https://colab.research.google.com/assets/colab-badge.svg\" alt=\"Open In Colab\"/></a>"
      ]
    },
    {
      "cell_type": "code",
      "execution_count": null,
      "metadata": {
        "id": "fABr290Tfu1Q"
      },
      "outputs": [],
      "source": [
        "import torch\n",
        "import torchvision\n",
        "import torchvision.transforms as transforms"
      ]
    },
    {
      "cell_type": "code",
      "source": [
        "# GPU 확인\n",
        "\n",
        "device = torch.device('cuda:0' if torch.cuda.is_available() else 'cpu')\n",
        "\n",
        "# CUDA 기기가 존재한다면, 아래 코드가 CUDA 장치를 출력합니다:\n",
        "print(device)"
      ],
      "metadata": {
        "colab": {
          "base_uri": "https://localhost:8080/"
        },
        "id": "02DeuXo7g_qM",
        "outputId": "70fd3e45-6d8d-4696-88cc-a65ebbef1fad"
      },
      "execution_count": null,
      "outputs": [
        {
          "output_type": "stream",
          "name": "stdout",
          "text": [
            "cuda:0\n"
          ]
        }
      ]
    },
    {
      "cell_type": "code",
      "source": [
        "# torchvision 데이터셋의 출력(output)은 [0, 1] 범위를 갖는 PILImage 이미지\n",
        "# 이를 [-1, 1]의 범위로 정규화된 Tensor로 변환\n",
        "\n",
        "transform = transforms.Compose(\n",
        "    [transforms.ToTensor(),\n",
        "     transforms.Normalize((0.5, 0.5, 0.5), (0.5, 0.5, 0.5))])\n",
        "\n",
        "batch_size = 4\n",
        "\n",
        "trainset = torchvision.datasets.CIFAR10(root='./data', train=True,\n",
        "                                        download=True, transform=transform)\n",
        "trainloader = torch.utils.data.DataLoader(trainset, batch_size=batch_size,\n",
        "                                          shuffle=True, num_workers=2)\n",
        "\n",
        "testset = torchvision.datasets.CIFAR10(root='./data', train=False,\n",
        "                                       download=True, transform=transform)\n",
        "testloader = torch.utils.data.DataLoader(testset, batch_size=batch_size,\n",
        "                                         shuffle=False, num_workers=2)\n",
        "\n",
        "classes = ('plane', 'car', 'bird', 'cat',\n",
        "           'deer', 'dog', 'frog', 'horse', 'ship', 'truck')"
      ],
      "metadata": {
        "colab": {
          "base_uri": "https://localhost:8080/"
        },
        "id": "zbqNsg7afzCA",
        "outputId": "63e3cbe8-a70b-426c-c247-63c2a83242b2"
      },
      "execution_count": null,
      "outputs": [
        {
          "output_type": "stream",
          "name": "stdout",
          "text": [
            "Downloading https://www.cs.toronto.edu/~kriz/cifar-10-python.tar.gz to ./data/cifar-10-python.tar.gz\n"
          ]
        },
        {
          "output_type": "stream",
          "name": "stderr",
          "text": [
            "100%|██████████| 170498071/170498071 [00:03<00:00, 46465138.69it/s]\n"
          ]
        },
        {
          "output_type": "stream",
          "name": "stdout",
          "text": [
            "Extracting ./data/cifar-10-python.tar.gz to ./data\n",
            "Files already downloaded and verified\n"
          ]
        }
      ]
    },
    {
      "cell_type": "code",
      "source": [
        "# 학습용 이미지 시각화\n",
        "\n",
        "import matplotlib.pyplot as plt\n",
        "import numpy as np\n",
        "\n",
        "# 이미지를 보여주기 위한 함수\n",
        "\n",
        "def imshow(img):\n",
        "    img = img / 2 + 0.5     # unnormalize\n",
        "    npimg = img.numpy()\n",
        "    plt.imshow(np.transpose(npimg, (1, 2, 0)))\n",
        "    plt.show()\n",
        "\n",
        "\n",
        "# 학습용 이미지를 무작위로 가져오기\n",
        "dataiter = iter(trainloader)\n",
        "images, labels = next(dataiter)\n",
        "\n",
        "# 이미지 보여주기\n",
        "imshow(torchvision.utils.make_grid(images))\n",
        "# 정답(label) 출력\n",
        "print(' '.join(f'{classes[labels[j]]:5s}' for j in range(batch_size)))"
      ],
      "metadata": {
        "colab": {
          "base_uri": "https://localhost:8080/",
          "height": 211
        },
        "id": "w03TsKLof3J0",
        "outputId": "bf35c311-0608-4729-d992-b1d7224aecb2"
      },
      "execution_count": null,
      "outputs": [
        {
          "output_type": "display_data",
          "data": {
            "text/plain": [
              "<Figure size 640x480 with 1 Axes>"
            ],
            "image/png": "[encoded data removed]"
          },
          "metadata": {}
        },
        {
          "output_type": "stream",
          "name": "stdout",
          "text": [
            "horse dog   bird  ship \n"
          ]
        }
      ]
    },
    {
      "cell_type": "code",
      "source": [
        "# 합성곱 신경망 정의\n",
        "\n",
        "import torch.nn as nn\n",
        "import torch.nn.functional as F\n",
        "\n",
        "\n",
        "class Net(nn.Module):\n",
        "    def __init__(self):\n",
        "        super().__init__()\n",
        "        self.conv1 = nn.Conv2d(3, 6, 5) # input : 3 channel\n",
        "        self.pool = nn.MaxPool2d(2, 2)\n",
        "        self.conv2 = nn.Conv2d(6, 16, 5)\n",
        "        self.fc1 = nn.Linear(16 * 5 * 5, 120)\n",
        "        self.fc2 = nn.Linear(120, 84)\n",
        "        self.fc3 = nn.Linear(84, 10)\n",
        "\n",
        "    def forward(self, x):\n",
        "        x = self.pool(F.relu(self.conv1(x)))\n",
        "        x = self.pool(F.relu(self.conv2(x)))\n",
        "        x = torch.flatten(x, 1) # 배치를 제외한 모든 차원을 평탄화(flatten)\n",
        "        x = F.relu(self.fc1(x))\n",
        "        x = F.relu(self.fc2(x))\n",
        "        x = self.fc3(x)\n",
        "        return x\n",
        "\n",
        "\n",
        "net = Net()\n",
        "net.to(device)"
      ],
      "metadata": {
        "colab": {
          "base_uri": "https://localhost:8080/"
        },
        "id": "HLUm7bn8gD2Q",
        "outputId": "cace6351-1895-44c6-9c7f-5c97a7c700ea"
      },
      "execution_count": null,
      "outputs": [
        {
          "output_type": "execute_result",
          "data": {
            "text/plain": [
              "Net(\n",
              "  (conv1): Conv2d(3, 6, kernel_size=(5, 5), stride=(1, 1))\n",
              "  (pool): MaxPool2d(kernel_size=2, stride=2, padding=0, dilation=1, ceil_mode=False)\n",
              "  (conv2): Conv2d(6, 16, kernel_size=(5, 5), stride=(1, 1))\n",
              "  (fc1): Linear(in_features=400, out_features=120, bias=True)\n",
              "  (fc2): Linear(in_features=120, out_features=84, bias=True)\n",
              "  (fc3): Linear(in_features=84, out_features=10, bias=True)\n",
              ")"
            ]
          },
          "metadata": {},
          "execution_count": 7
        }
      ]
    },
    {
      "cell_type": "code",
      "source": [
        "# 손실 함수와 옵티마이저 정의\n",
        "\n",
        "import torch.optim as optim\n",
        "\n",
        "criterion = nn.CrossEntropyLoss()\n",
        "optimizer = optim.SGD(net.parameters(), lr=0.001, momentum=0.9)"
      ],
      "metadata": {
        "id": "R3cb8_-4gD81"
      },
      "execution_count": null,
      "outputs": []
    },
    {
      "cell_type": "code",
      "source": [
        "# 신경망 학습\n",
        "\n",
        "for epoch in range(10):   # 데이터셋을 수차례 반복합니다.\n",
        "\n",
        "    running_loss = 0.0\n",
        "    for i, data in enumerate(trainloader, 0):\n",
        "        # [inputs, labels]의 목록인 data로부터 입력을 받은 후\n",
        "        inputs, labels = data[0].to(device), data[1].to(device)\n",
        "\n",
        "        # 변화도(Gradient) 매개변수를 0으로 만들고\n",
        "        optimizer.zero_grad()\n",
        "\n",
        "        # 순전파 + 역전파 + 최적화를 한 후\n",
        "        outputs = net(inputs)\n",
        "        loss = criterion(outputs, labels)\n",
        "        loss.backward()\n",
        "        optimizer.step()\n",
        "\n",
        "        # 통계를 출력합니다.\n",
        "        running_loss += loss.item()\n",
        "        if i % 2000 == 1999:    # print every 2000 mini-batches\n",
        "            print(f'[{epoch + 1}, {i + 1:5d}] loss: {running_loss / 2000:.3f}')\n",
        "            running_loss = 0.0\n",
        "\n",
        "print('Finished Training')"
      ],
      "metadata": {
        "colab": {
          "base_uri": "https://localhost:8080/"
        },
        "id": "NVScFMVngEDM",
        "outputId": "bc3fe9d1-c73a-4447-c6aa-337e8029a99d"
      },
      "execution_count": null,
      "outputs": [
        {
          "output_type": "stream",
          "name": "stdout",
          "text": [
            "[1,  2000] loss: 2.228\n",
            "[1,  4000] loss: 1.881\n",
            "[1,  6000] loss: 1.681\n",
            "[1,  8000] loss: 1.581\n",
            "[1, 10000] loss: 1.521\n",
            "[1, 12000] loss: 1.483\n",
            "[2,  2000] loss: 1.420\n",
            "[2,  4000] loss: 1.389\n",
            "[2,  6000] loss: 1.352\n",
            "[2,  8000] loss: 1.338\n",
            "[2, 10000] loss: 1.327\n",
            "[2, 12000] loss: 1.310\n",
            "[3,  2000] loss: 1.230\n",
            "[3,  4000] loss: 1.226\n",
            "[3,  6000] loss: 1.226\n",
            "[3,  8000] loss: 1.216\n",
            "[3, 10000] loss: 1.214\n",
            "[3, 12000] loss: 1.181\n",
            "[4,  2000] loss: 1.097\n",
            "[4,  4000] loss: 1.138\n",
            "[4,  6000] loss: 1.114\n",
            "[4,  8000] loss: 1.116\n",
            "[4, 10000] loss: 1.127\n",
            "[4, 12000] loss: 1.109\n",
            "[5,  2000] loss: 1.042\n",
            "[5,  4000] loss: 1.061\n",
            "[5,  6000] loss: 1.074\n",
            "[5,  8000] loss: 1.031\n",
            "[5, 10000] loss: 1.050\n",
            "[5, 12000] loss: 1.030\n",
            "[6,  2000] loss: 0.960\n",
            "[6,  4000] loss: 0.992\n",
            "[6,  6000] loss: 1.009\n",
            "[6,  8000] loss: 0.986\n",
            "[6, 10000] loss: 0.988\n",
            "[6, 12000] loss: 0.969\n",
            "[7,  2000] loss: 0.913\n",
            "[7,  4000] loss: 0.911\n",
            "[7,  6000] loss: 0.935\n",
            "[7,  8000] loss: 0.959\n",
            "[7, 10000] loss: 0.962\n",
            "[7, 12000] loss: 0.946\n",
            "[8,  2000] loss: 0.867\n",
            "[8,  4000] loss: 0.901\n",
            "[8,  6000] loss: 0.899\n",
            "[8,  8000] loss: 0.912\n",
            "[8, 10000] loss: 0.894\n",
            "[8, 12000] loss: 0.906\n",
            "[9,  2000] loss: 0.816\n",
            "[9,  4000] loss: 0.829\n",
            "[9,  6000] loss: 0.886\n",
            "[9,  8000] loss: 0.884\n",
            "[9, 10000] loss: 0.867\n",
            "[9, 12000] loss: 0.884\n",
            "[10,  2000] loss: 0.777\n",
            "[10,  4000] loss: 0.808\n",
            "[10,  6000] loss: 0.837\n",
            "[10,  8000] loss: 0.840\n",
            "[10, 10000] loss: 0.853\n",
            "[10, 12000] loss: 0.859\n",
            "Finished Training\n"
          ]
        }
      ]
    },
    {
      "cell_type": "code",
      "source": [
        "# 학습한 모델 정의\n",
        "\n",
        "PATH = './cifar_net.pth'\n",
        "torch.save(net.state_dict(), PATH)"
      ],
      "metadata": {
        "id": "hPR49vnngEFx"
      },
      "execution_count": null,
      "outputs": []
    },
    {
      "cell_type": "code",
      "source": [
        "# 테스트 데이터셋으로 학습한 신경망 검사\n",
        "\n",
        "dataiter = iter(testloader)\n",
        "images, labels = next(dataiter)\n",
        "\n",
        "# 테스트용 이미지를 출력합니다.\n",
        "imshow(torchvision.utils.make_grid(images))\n",
        "print('GroundTruth: ', ' '.join(f'{classes[labels[j]]:5s}' for j in range(4)))"
      ],
      "metadata": {
        "colab": {
          "base_uri": "https://localhost:8080/",
          "height": 211
        },
        "id": "nbhLK4yxgEIB",
        "outputId": "7af7f93e-2c0f-4736-a833-bce5d0ed1126"
      },
      "execution_count": null,
      "outputs": [
        {
          "output_type": "display_data",
          "data": {
            "text/plain": [
              "<Figure size 640x480 with 1 Axes>"
            ],
            "image/png": "[encoded data removed]"
          },
          "metadata": {}
        },
        {
          "output_type": "stream",
          "name": "stdout",
          "text": [
            "GroundTruth:  cat   ship  ship  plane\n"
          ]
        }
      ]
    },
    {
      "cell_type": "code",
      "source": [
        "# 저장했던 모델 불러오기\n",
        "\n",
        "net = Net()\n",
        "net.load_state_dict(torch.load(PATH))"
      ],
      "metadata": {
        "colab": {
          "base_uri": "https://localhost:8080/"
        },
        "id": "JtIR1xF7giO1",
        "outputId": "02c14826-b720-42c0-9a9d-c294effa48a3"
      },
      "execution_count": null,
      "outputs": [
        {
          "output_type": "execute_result",
          "data": {
            "text/plain": [
              "<All keys matched successfully>"
            ]
          },
          "metadata": {},
          "execution_count": 12
        }
      ]
    },
    {
      "cell_type": "code",
      "source": [
        "# 신경망 예측 결과 확인\n",
        "\n",
        "outputs = net(images)"
      ],
      "metadata": {
        "id": "mmgakKQCgnaN"
      },
      "execution_count": null,
      "outputs": []
    },
    {
      "cell_type": "code",
      "source": [
        "# 출력은 10개 클래스 각각에 대한 값으로 나타낸다. 가장 높은 값의 인덱스가 예측값이다.\n",
        "\n",
        "_, predicted = torch.max(outputs, 1)\n",
        "\n",
        "print('Predicted: ', ' '.join(f'{classes[predicted[j]]:5s}'\n",
        "                              for j in range(4)))"
      ],
      "metadata": {
        "colab": {
          "base_uri": "https://localhost:8080/"
        },
        "id": "HHm9FZ2Ignqj",
        "outputId": "c5f8c0b6-c559-4336-c58c-e55d6ef06a1b"
      },
      "execution_count": null,
      "outputs": [
        {
          "output_type": "stream",
          "name": "stdout",
          "text": [
            "Predicted:  cat   ship  plane plane\n"
          ]
        }
      ]
    },
    {
      "cell_type": "markdown",
      "source": [],
      "metadata": {
        "id": "TCtHN7aI8DGz"
      }
    },
    {
      "cell_type": "code",
      "source": [
        "# 전체 데이터셋에 대해서 확인\n",
        "\n",
        "correct = 0\n",
        "total = 0\n",
        "# 학습 중이 아니므로, 출력에 대한 변화도를 계산할 필요가 없습니다\n",
        "with torch.no_grad():\n",
        "    for data in testloader:\n",
        "        images, labels = data\n",
        "        # 신경망에 이미지를 통과시켜 출력을 계산합니다\n",
        "        outputs = net(images)\n",
        "        # 가장 높은 값(energy)를 갖는 분류(class)를 정답으로 선택하겠습니다\n",
        "        _, predicted = torch.max(outputs.data, 1)\n",
        "        total += labels.size(0)\n",
        "        correct += (predicted == labels).sum().item()\n",
        "\n",
        "print(f'Accuracy of the network on the 10000 test images: {100 * correct // total} %')"
      ],
      "metadata": {
        "colab": {
          "base_uri": "https://localhost:8080/"
        },
        "id": "YULC2Qpxg0pl",
        "outputId": "16a3825c-737d-4538-aafb-05cb8546c8b4"
      },
      "execution_count": null,
      "outputs": [
        {
          "output_type": "stream",
          "name": "stdout",
          "text": [
            "Accuracy of the network on the 10000 test images: 63 %\n"
          ]
        }
      ]
    },
    {
      "cell_type": "markdown",
      "source": [],
      "metadata": {
        "id": "XndGQ23c8HfW"
      }
    },
    {
      "cell_type": "code",
      "source": [
        "# 각 클래스 별로 정확도 확인\n",
        "\n",
        "# 각 분류(class)에 대한 예측값 계산을 위해 준비\n",
        "correct_pred = {classname: 0 for classname in classes}\n",
        "total_pred = {classname: 0 for classname in classes}\n",
        "\n",
        "# 변화도는 여전히 필요하지 않습니다\n",
        "with torch.no_grad():\n",
        "    for data in testloader:\n",
        "        images, labels = data\n",
        "        outputs = net(images)\n",
        "        _, predictions = torch.max(outputs, 1)\n",
        "        # 각 분류별로 올바른 예측 수를 모읍니다\n",
        "        for label, prediction in zip(labels, predictions):\n",
        "            if label == prediction:\n",
        "                correct_pred[classes[label]] += 1\n",
        "            total_pred[classes[label]] += 1\n",
        "\n",
        "\n",
        "# 각 분류별 정확도(accuracy)를 출력합니다\n",
        "for classname, correct_count in correct_pred.items():\n",
        "    accuracy = 100 * float(correct_count) / total_pred[classname]\n",
        "    print(f'Accuracy for class: {classname:5s} is {accuracy:.1f} %')"
      ],
      "metadata": {
        "colab": {
          "base_uri": "https://localhost:8080/"
        },
        "id": "m4HdJiSZg59u",
        "outputId": "16d6484c-6f31-4ff3-dcf1-f2a01a883768"
      },
      "execution_count": null,
      "outputs": [
        {
          "output_type": "stream",
          "name": "stdout",
          "text": [
            "Accuracy for class: plane is 72.9 %\n",
            "Accuracy for class: car   is 84.1 %\n",
            "Accuracy for class: bird  is 47.6 %\n",
            "Accuracy for class: cat   is 49.4 %\n",
            "Accuracy for class: deer  is 61.9 %\n",
            "Accuracy for class: dog   is 37.6 %\n",
            "Accuracy for class: frog  is 76.8 %\n",
            "Accuracy for class: horse is 67.1 %\n",
            "Accuracy for class: ship  is 70.3 %\n",
            "Accuracy for class: truck is 65.0 %\n"
          ]
        }
      ]
    }
  ]
}