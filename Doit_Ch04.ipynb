{
  "nbformat": 4,
  "nbformat_minor": 0,
  "metadata": {
    "colab": {
      "name": "Doit_Ch04.ipynb",
      "provenance": [],
      "collapsed_sections": [],
      "authorship_tag": "ABX9TyOqIbJn7izWDhJ2dKErIq7D",
      "include_colab_link": true
    },
    "kernelspec": {
      "name": "python3",
      "display_name": "Python 3"
    },
    "language_info": {
      "name": "python"
    },
    "accelerator": "GPU"
  },
  "cells": [
    {
      "cell_type": "markdown",
      "metadata": {
        "id": "view-in-github",
        "colab_type": "text"
      },
      "source": [
        "<a href=\"https://colab.research.google.com/github/owl-d/Basic_DeepLearning/blob/main/Doit_Ch04.ipynb\" target=\"_parent\"><img src=\"https://colab.research.google.com/assets/colab-badge.svg\" alt=\"Open In Colab\"/></a>"
      ]
    },
    {
      "cell_type": "markdown",
      "metadata": {
        "id": "_-4A_dB0TUHP"
      },
      "source": [
        "***04-04. 위스콘신 유방암 데이터 세트 이용해 양성샘플(악성종양)인지 음성샘플(정상종양)인지 이진 분류***"
      ]
    },
    {
      "cell_type": "code",
      "metadata": {
        "id": "pR0XtCuJq2av"
      },
      "source": [
        "#1. load_breast_cancer() 함수 호출하기\n",
        "from sklearn.datasets import load_breast_cancer\n",
        "cancer = load_breast_cancer()"
      ],
      "execution_count": 1,
      "outputs": []
    },
    {
      "cell_type": "code",
      "metadata": {
        "id": "saauKfLlrPrP",
        "colab": {
          "base_uri": "https://localhost:8080/"
        },
        "outputId": "0a647232-d900-4d67-86df-5626c9fc15f9"
      },
      "source": [
        "#2. 입력 데이터 확인하기\n",
        "print(cancer.data.shape, cancer.target.shape)"
      ],
      "execution_count": 2,
      "outputs": [
        {
          "output_type": "stream",
          "text": [
            "(569, 30) (569,)\n"
          ],
          "name": "stdout"
        }
      ]
    },
    {
      "cell_type": "code",
      "metadata": {
        "id": "O93wGElVrPdY",
        "colab": {
          "base_uri": "https://localhost:8080/"
        },
        "outputId": "5e6378c5-e035-4c56-e50d-7eb86916f280"
      },
      "source": [
        "print(cancer.data[:3])"
      ],
      "execution_count": 3,
      "outputs": [
        {
          "output_type": "stream",
          "text": [
            "[[1.799e+01 1.038e+01 1.228e+02 1.001e+03 1.184e-01 2.776e-01 3.001e-01\n",
            "  1.471e-01 2.419e-01 7.871e-02 1.095e+00 9.053e-01 8.589e+00 1.534e+02\n",
            "  6.399e-03 4.904e-02 5.373e-02 1.587e-02 3.003e-02 6.193e-03 2.538e+01\n",
            "  1.733e+01 1.846e+02 2.019e+03 1.622e-01 6.656e-01 7.119e-01 2.654e-01\n",
            "  4.601e-01 1.189e-01]\n",
            " [2.057e+01 1.777e+01 1.329e+02 1.326e+03 8.474e-02 7.864e-02 8.690e-02\n",
            "  7.017e-02 1.812e-01 5.667e-02 5.435e-01 7.339e-01 3.398e+00 7.408e+01\n",
            "  5.225e-03 1.308e-02 1.860e-02 1.340e-02 1.389e-02 3.532e-03 2.499e+01\n",
            "  2.341e+01 1.588e+02 1.956e+03 1.238e-01 1.866e-01 2.416e-01 1.860e-01\n",
            "  2.750e-01 8.902e-02]\n",
            " [1.969e+01 2.125e+01 1.300e+02 1.203e+03 1.096e-01 1.599e-01 1.974e-01\n",
            "  1.279e-01 2.069e-01 5.999e-02 7.456e-01 7.869e-01 4.585e+00 9.403e+01\n",
            "  6.150e-03 4.006e-02 3.832e-02 2.058e-02 2.250e-02 4.571e-03 2.357e+01\n",
            "  2.553e+01 1.525e+02 1.709e+03 1.444e-01 4.245e-01 4.504e-01 2.430e-01\n",
            "  3.613e-01 8.758e-02]]\n"
          ],
          "name": "stdout"
        }
      ]
    },
    {
      "cell_type": "code",
      "metadata": {
        "id": "F0f-tAiSrSBW",
        "colab": {
          "base_uri": "https://localhost:8080/",
          "height": 279
        },
        "outputId": "09e7556d-1d7a-43e0-e41e-6baab6189d30"
      },
      "source": [
        "#3. 박스 플롯으로 30개 특성의 사분위 관찰하기 \n",
        "import matplotlib.pyplot as plt\n",
        "\n",
        "plt.boxplot(cancer.data)\n",
        "plt.xlabel('feature')\n",
        "plt.ylabel('value')\n",
        "plt.show()"
      ],
      "execution_count": 4,
      "outputs": [
        {
          "output_type": "display_data",
          "data": {
            "image/png": "[encoded data removed]",
            "text/plain": [
              "<Figure size 432x288 with 1 Axes>"
            ]
          },
          "metadata": {
            "tags": [],
            "needs_background": "light"
          }
        }
      ]
    },
    {
      "cell_type": "code",
      "metadata": {
        "id": "eUrvqlKorcag",
        "colab": {
          "base_uri": "https://localhost:8080/"
        },
        "outputId": "b9df7467-938b-4cd0-eb56-0262e3fe8ebd"
      },
      "source": [
        "#4.눈에 띄는 특성 살펴보기 : 모두 면적(area)와 관련\n",
        "cancer.feature_names[[3,13,23]]"
      ],
      "execution_count": 5,
      "outputs": [
        {
          "output_type": "execute_result",
          "data": {
            "text/plain": [
              "array(['mean area', 'area error', 'worst area'], dtype='<U23')"
            ]
          },
          "metadata": {
            "tags": []
          },
          "execution_count": 5
        }
      ]
    },
    {
      "cell_type": "code",
      "metadata": {
        "id": "NYv7qgWhriEA",
        "colab": {
          "base_uri": "https://localhost:8080/"
        },
        "outputId": "e13e3bbb-18fd-4630-f6bd-a1dfc95960fe"
      },
      "source": [
        "#5. 타깃 데이터 확인하기\n",
        "#0이면 음성샘플(정상), 1이면 악성샘플(악성)\n",
        "#타깃은 0 또는 1의 값을 가지며, 0인 샘플은 212개, 1인 샘플은 357개이다.\n",
        "import numpy as np\n",
        "\n",
        "np.unique(cancer.target, return_counts=True)"
      ],
      "execution_count": 6,
      "outputs": [
        {
          "output_type": "execute_result",
          "data": {
            "text/plain": [
              "(array([0, 1]), array([212, 357]))"
            ]
          },
          "metadata": {
            "tags": []
          },
          "execution_count": 6
        }
      ]
    },
    {
      "cell_type": "code",
      "metadata": {
        "id": "h94nfuV2rpwc"
      },
      "source": [
        "#6. 훈련 데이터 세트 저장하기\n",
        "x = cancer.data\n",
        "y = cancer.target"
      ],
      "execution_count": 7,
      "outputs": []
    },
    {
      "cell_type": "markdown",
      "metadata": {
        "id": "ai2OphDyVjeM"
      },
      "source": [
        "***04-05. 로지스틱 회귀 위한 뉴런 만들기***"
      ]
    },
    {
      "cell_type": "code",
      "metadata": {
        "id": "crmrD_NUVq9T"
      },
      "source": [
        "#1. train_test_split() 함수로 훈련 데이터 세트 나누기\n",
        "\n",
        "from sklearn.model_selection import train_test_split\n",
        "\n",
        "x_train, x_test, y_train, y_test = train_test_split(x, y, stratify=y, test_size=0.2, random_state=42)\n",
        "#stratify=y : 훈련 데이터 나눌 때 클래스 비율 동일하게 만든다. 원래 기본적으로 섞지만 일부 클래스 비율 불균형한 경우 사용\n",
        "#test_size=0.2 : 입력된 데이터 세트의 20%를 테스트 세트로 사용한다. 기본은 25%\n",
        "#random_state=42 : 실전에는 사용하지 않음. 난수 생성을 제어하여 결과 항상 일정하도록 만듦."
      ],
      "execution_count": 8,
      "outputs": []
    },
    {
      "cell_type": "code",
      "metadata": {
        "colab": {
          "base_uri": "https://localhost:8080/"
        },
        "id": "0nnM9VltXb6C",
        "outputId": "7dda3435-2b3e-4478-ea74-7ff4e9698c43"
      },
      "source": [
        "#2. 결과 확인하기 : 4:1의 비율(455,114)로 잘 나누어졌다.\n",
        "\n",
        "print(x_train.shape, x_test.shape)"
      ],
      "execution_count": 9,
      "outputs": [
        {
          "output_type": "stream",
          "text": [
            "(455, 30) (114, 30)\n"
          ],
          "name": "stdout"
        }
      ]
    },
    {
      "cell_type": "code",
      "metadata": {
        "colab": {
          "base_uri": "https://localhost:8080/"
        },
        "id": "87hPqHEIXs3f",
        "outputId": "46c1fec1-d33e-4b0c-add0-da89872ae56f"
      },
      "source": [
        "#3. unique() 함수로 훈련 세트의 타깃 확인하기 : class 비율 유지되고 있는 것 확인\n",
        "\n",
        "np.unique(y_train, return_counts=True)"
      ],
      "execution_count": 10,
      "outputs": [
        {
          "output_type": "execute_result",
          "data": {
            "text/plain": [
              "(array([0, 1]), array([170, 285]))"
            ]
          },
          "metadata": {
            "tags": []
          },
          "execution_count": 10
        }
      ]
    },
    {
      "cell_type": "markdown",
      "metadata": {
        "id": "fI8MqQ1wYDW4"
      },
      "source": [
        "**로지스틱 회귀 구현하기**"
      ]
    },
    {
      "cell_type": "code",
      "metadata": {
        "id": "L8hw3czsYAyI"
      },
      "source": [
        "class LogisticNeuron:\n",
        "\n",
        "  def __init__(self):\n",
        "    self.w = None\n",
        "    self.b = None\n",
        "\n",
        "  def forpass(self, x): #정방향 계산\n",
        "    z = np.sum(x*self.w) + self.b #가중합 구하기 위해 np.sum 사용\n",
        "    return z\n",
        "\n",
        "  def backprop(self, x, err): #역방향 계산\n",
        "    w_grad = x * err\n",
        "    b_grad = 1 * err\n",
        "    return w_grad, b_grad\n",
        "\n",
        "  def activation(self, z):  #활성화 함수 메서드\n",
        "    a = 1 / (1 + np.exp(-z))  #시그모이드 계산\n",
        "    return a\n",
        "\n",
        "  def fit(self, x, y, epochs=100): #훈련 메서드\n",
        "    self.w = np.ones(x.shape[1]) #가중치 개수를 x에 맞춰 1로 초기화\n",
        "    self.b = 0\n",
        "    for i in range(epochs):\n",
        "      for x_i, y_i in zip(x, y):\n",
        "        z = self.forpass(x_i)   #정방향 계산\n",
        "        a = self.activation(z)  #활성화 함수 적용\n",
        "        err = -(y_i - a)        #오차 계산\n",
        "        w_grad, b_grad = self.backprop(x_i, err)  #역방향 계산\n",
        "        self.w -= w_grad        #가중치 업데이트\n",
        "        self.b -= b_grad        #절편 업데이트\n",
        "\n",
        "  def predict(self, x):\n",
        "    z = [self.forpass(x_i) for x_i in x]  #선형함수 적용\n",
        "    a = self.activation(np.array(z))      #활성화 함수 적용\n",
        "    return a > 0.5                        #계단 함수 적용\n"
      ],
      "execution_count": 11,
      "outputs": []
    },
    {
      "cell_type": "code",
      "metadata": {
        "colab": {
          "base_uri": "https://localhost:8080/"
        },
        "id": "zKN8nFQjZOOr",
        "outputId": "dc9f6942-3608-464e-fa9c-c59db59790bd"
      },
      "source": [
        "#모델 훈련하기\n",
        "\n",
        "neuron = LogisticNeuron()\n",
        "neuron.fit(x_train, y_train)"
      ],
      "execution_count": 12,
      "outputs": [
        {
          "output_type": "stream",
          "text": [
            "/usr/local/lib/python3.7/dist-packages/ipykernel_launcher.py:17: RuntimeWarning: overflow encountered in exp\n"
          ],
          "name": "stderr"
        }
      ]
    },
    {
      "cell_type": "code",
      "metadata": {
        "colab": {
          "base_uri": "https://localhost:8080/"
        },
        "id": "9I346t5ocBIO",
        "outputId": "05bae0c3-abc9-4a81-eb14-0cd8d8fcdc5f"
      },
      "source": [
        "#테스트 세트 사용해 모델의 정활도 평가하기\n",
        "\n",
        "np.mean(neuron.predict(x_test) == y_test)"
      ],
      "execution_count": 13,
      "outputs": [
        {
          "output_type": "stream",
          "text": [
            "/usr/local/lib/python3.7/dist-packages/ipykernel_launcher.py:17: RuntimeWarning: overflow encountered in exp\n"
          ],
          "name": "stderr"
        },
        {
          "output_type": "execute_result",
          "data": {
            "text/plain": [
              "0.8245614035087719"
            ]
          },
          "metadata": {
            "tags": []
          },
          "execution_count": 13
        }
      ]
    },
    {
      "cell_type": "markdown",
      "metadata": {
        "id": "XZ5M-6XfJZfS"
      },
      "source": [
        "***04-06 단일층 신경망 구현***"
      ]
    },
    {
      "cell_type": "code",
      "metadata": {
        "id": "VtPVqKeKJZGN"
      },
      "source": [
        "class SingleLayer:\n",
        "\n",
        "  def __init__(self):\n",
        "    self.w = None\n",
        "    self.b = None\n",
        "    self.losses = []\n",
        "\n",
        "  def forpass(self, x): #정방향 계산\n",
        "    z = np.sum(x*self.w) + self.b #가중합 구하기 위해 np.sum 사용\n",
        "    return z\n",
        "\n",
        "  def backprop(self, x, err): #역방향 계산\n",
        "    w_grad = x * err\n",
        "    b_grad = 1 * err\n",
        "    return w_grad, b_grad\n",
        "\n",
        "  def activation(self, z):  #활성화 함수 메서드\n",
        "    z = np.clip(z, -100, None)\n",
        "    a = 1 / (1 + np.exp(-z))  #시그모이드 계산\n",
        "    return a\n",
        "\n",
        "  def fit(self, x, y, epochs=100): #훈련 메서드\n",
        "    self.w = np.ones(x.shape[1]) #가중치 개수를 x에 맞춰 1로 초기화\n",
        "    self.b = 0\n",
        "    for i in range(epochs):\n",
        "      loss = 0\n",
        "      indexes = np.random.permutation(np.arange(len(x))) #index 섞기\n",
        "      for i in indexes:\n",
        "        z = self.forpass(x[i])   #정방향 계산\n",
        "        a = self.activation(z)  #활성화 함수 적용\n",
        "        err = -(y[i] - a)        #오차 계산\n",
        "        w_grad, b_grad = self.backprop(x[i], err)  #역방향 계산\n",
        "        self.w -= w_grad        #가중치 업데이트\n",
        "        self.b -= b_grad        #절편 업데이트\n",
        "        a = np.clip(a, 1e-10, 1-1e-10)  #안전한 로그 계산 위해 클리핑 한 후 손실 누적\n",
        "        loss += -(y[i]*np.log(a)+(1-y[i])*np.log(1-a))\n",
        "\n",
        "      self.losses.append(loss/len(y)) #각 에폭마다 평균 손실 저장\n",
        "\n",
        "  def predict(self, x):\n",
        "    z = [self.forpass(x_i) for x_i in x]  #정방향 계산\n",
        "    return np.array(z) > 0                #계단 함수 적용(sigmoid 함수 적용하지 않아도 z의 값으로 알 수 있음)\n",
        "\n",
        "  def score(self, x, y):  #모델의 정확도\n",
        "    return np.mean(self.predict(x)==y)"
      ],
      "execution_count": 14,
      "outputs": []
    },
    {
      "cell_type": "code",
      "metadata": {
        "colab": {
          "base_uri": "https://localhost:8080/"
        },
        "id": "PxEmo3qXJe5C",
        "outputId": "20b5b566-3813-458f-94af-555c0439e081"
      },
      "source": [
        "#단일층 신경망 훈련하기\n",
        "layer = SingleLayer()\n",
        "layer.fit(x_train, y_train)\n",
        "layer.score(x_test, y_test)"
      ],
      "execution_count": 15,
      "outputs": [
        {
          "output_type": "execute_result",
          "data": {
            "text/plain": [
              "0.9298245614035088"
            ]
          },
          "metadata": {
            "tags": []
          },
          "execution_count": 15
        }
      ]
    },
    {
      "cell_type": "code",
      "metadata": {
        "colab": {
          "base_uri": "https://localhost:8080/",
          "height": 279
        },
        "id": "sLkj3_xmOsr1",
        "outputId": "2bf9b265-d32a-4d73-dad9-e5105bb601c4"
      },
      "source": [
        "#손실 함수 누적값 확인하기\n",
        "plt.plot(layer.losses)\n",
        "plt.xlabel('epoch')\n",
        "plt.ylabel('loss')\n",
        "plt.show()"
      ],
      "execution_count": 16,
      "outputs": [
        {
          "output_type": "display_data",
          "data": {
            "image/png": "[encoded data removed]",
            "text/plain": [
              "<Figure size 432x288 with 1 Axes>"
            ]
          },
          "metadata": {
            "tags": [],
            "needs_background": "light"
          }
        }
      ]
    },
    {
      "cell_type": "markdown",
      "metadata": {
        "id": "BeV6fmviPBaM"
      },
      "source": [
        "***04-07 사이킷런으로 로지스틱 회귀 수행***"
      ]
    },
    {
      "cell_type": "code",
      "metadata": {
        "id": "ILEjnLEqPGcc"
      },
      "source": [
        "#1. 로지스틱 손실 함수 지정하기\n",
        "\n",
        "from sklearn.linear_model import SGDClassifier\n",
        "sgd = SGDClassifier(loss='log', max_iter=100, tol=1e-3, random_state=42)\n",
        "\n",
        "#loss='log' : 로지스틱 회귀 적용\n",
        "#max_iter=100 : 반복 횟수 100으로 지정\n",
        "#tol=le-2 : 반복할 때마다 로지스틱 손실 함수의 값이 tol에 지정한 값만큼 감소하지 않으면 반복 중단\n",
        "#random_state=42 : 난수 초깃값 42로 설정"
      ],
      "execution_count": 17,
      "outputs": []
    },
    {
      "cell_type": "code",
      "metadata": {
        "colab": {
          "base_uri": "https://localhost:8080/"
        },
        "id": "al-N5MbnQPMa",
        "outputId": "237601c7-0ece-4710-ccec-93fb8e65cf26"
      },
      "source": [
        "#2. 사이킷런으로 훈련하고 평가하기\n",
        "\n",
        "sgd.fit(x_train, y_train) #훈련\n",
        "sgd.score(x_test, y_test) #정확도 계산"
      ],
      "execution_count": 18,
      "outputs": [
        {
          "output_type": "execute_result",
          "data": {
            "text/plain": [
              "0.8333333333333334"
            ]
          },
          "metadata": {
            "tags": []
          },
          "execution_count": 18
        }
      ]
    },
    {
      "cell_type": "code",
      "metadata": {
        "colab": {
          "base_uri": "https://localhost:8080/"
        },
        "id": "Aa5_XQbcQhBE",
        "outputId": "3e2fed0b-c188-4f27-da95-ef32920fe795"
      },
      "source": [
        "#3. 사이킷런으로 예측하기\n",
        "\n",
        "sgd.predict(x_test[0:10])"
      ],
      "execution_count": 19,
      "outputs": [
        {
          "output_type": "execute_result",
          "data": {
            "text/plain": [
              "array([0, 1, 0, 0, 0, 0, 1, 0, 0, 0])"
            ]
          },
          "metadata": {
            "tags": []
          },
          "execution_count": 19
        }
      ]
    }
  ]
}