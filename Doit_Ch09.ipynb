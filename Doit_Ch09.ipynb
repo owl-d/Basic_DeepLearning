{
  "nbformat": 4,
  "nbformat_minor": 0,
  "metadata": {
    "colab": {
      "name": "Doit_Ch9.ipynb",
      "provenance": [],
      "collapsed_sections": [],
      "authorship_tag": "ABX9TyN0FxKOb/9eMMprBkvw2Pp4",
      "include_colab_link": true
    },
    "kernelspec": {
      "name": "python3",
      "display_name": "Python 3"
    },
    "language_info": {
      "name": "python"
    }
  },
  "cells": [
    {
      "cell_type": "markdown",
      "metadata": {
        "id": "view-in-github",
        "colab_type": "text"
      },
      "source": [
        "<a href=\"https://colab.research.google.com/github/owl-d/Basic_DeepLearning/blob/main/Doit_Ch9.ipynb\" target=\"_parent\"><img src=\"https://colab.research.google.com/assets/colab-badge.svg\" alt=\"Open In Colab\"/></a>"
      ]
    },
    {
      "cell_type": "markdown",
      "metadata": {
        "id": "jCQzEQEDs18F"
      },
      "source": [
        "***09-2 순환 신경망을 만들고 텍스트를 분류합니다.***"
      ]
    },
    {
      "cell_type": "code",
      "metadata": {
        "id": "0cwqWkyNtPyB"
      },
      "source": [
        "import numpy as np\n",
        "from tensorflow.keras.datasets import imdb"
      ],
      "execution_count": 1,
      "outputs": []
    },
    {
      "cell_type": "code",
      "metadata": {
        "colab": {
          "base_uri": "https://localhost:8080/"
        },
        "id": "kehklqn0tRq_",
        "outputId": "27aa82e8-5bbf-4b8c-fcaa-c7ef67180f36"
      },
      "source": [
        "(x_train_all, y_train_all), (x_test, y_test) = imdb.load_data(skip_top=20, num_words=100)"
      ],
      "execution_count": 2,
      "outputs": [
        {
          "output_type": "stream",
          "text": [
            "Downloading data from https://storage.googleapis.com/tensorflow/tf-keras-datasets/imdb.npz\n",
            "17465344/17464789 [==============================] - 0s 0us/step\n",
            "17473536/17464789 [==============================] - 0s 0us/step\n"
          ],
          "name": "stdout"
        }
      ]
    },
    {
      "cell_type": "code",
      "metadata": {
        "colab": {
          "base_uri": "https://localhost:8080/"
        },
        "id": "R98kbBsRtR2L",
        "outputId": "85d49f3a-3cfe-441b-ab3f-d7d7b146922b"
      },
      "source": [
        "#훈련 세트의 샘플 확인 : 2는 어휘 사전에 없는 단어\n",
        "print(x_train_all[0])"
      ],
      "execution_count": 3,
      "outputs": [
        {
          "output_type": "stream",
          "text": [
            "[2, 2, 22, 2, 43, 2, 2, 2, 2, 65, 2, 2, 66, 2, 2, 2, 36, 2, 2, 25, 2, 43, 2, 2, 50, 2, 2, 2, 35, 2, 2, 2, 2, 2, 2, 2, 2, 2, 2, 2, 39, 2, 2, 2, 2, 2, 2, 38, 2, 2, 2, 2, 50, 2, 2, 2, 2, 2, 2, 22, 2, 2, 2, 2, 2, 22, 71, 87, 2, 2, 43, 2, 38, 76, 2, 2, 2, 2, 22, 2, 2, 2, 2, 2, 2, 2, 2, 2, 62, 2, 2, 2, 2, 2, 2, 2, 2, 2, 2, 2, 2, 66, 2, 33, 2, 2, 2, 2, 38, 2, 2, 25, 2, 51, 36, 2, 48, 25, 2, 33, 2, 22, 2, 2, 28, 77, 52, 2, 2, 2, 2, 82, 2, 2, 2, 2, 2, 2, 2, 2, 2, 2, 2, 2, 2, 2, 36, 71, 43, 2, 2, 26, 2, 2, 46, 2, 2, 2, 2, 2, 2, 88, 2, 2, 2, 2, 98, 32, 2, 56, 26, 2, 2, 2, 2, 2, 2, 2, 22, 21, 2, 2, 26, 2, 2, 2, 30, 2, 2, 51, 36, 28, 2, 92, 25, 2, 2, 2, 65, 2, 38, 2, 88, 2, 2, 2, 2, 2, 2, 2, 2, 32, 2, 2, 2, 2, 2, 32]\n"
          ],
          "name": "stdout"
        }
      ]
    },
    {
      "cell_type": "code",
      "metadata": {
        "colab": {
          "base_uri": "https://localhost:8080/"
        },
        "id": "JtvxjfhytR-P",
        "outputId": "1129b8fd-20c7-4ace-e2a4-45315194c6b3"
      },
      "source": [
        "#훈련 세트에서 2 제외 : 2는 어휘 사전에 없는 단어, 0은 패딩, 1은 글의 시작 나타냄\n",
        "for i in range(len(x_train_all)):\n",
        "    x_train_all[i] = [w for w in x_train_all[i] if w > 2]\n",
        "\n",
        "print(x_train_all[0])"
      ],
      "execution_count": 4,
      "outputs": [
        {
          "output_type": "stream",
          "text": [
            "[22, 43, 65, 66, 36, 25, 43, 50, 35, 39, 38, 50, 22, 22, 71, 87, 43, 38, 76, 22, 62, 66, 33, 38, 25, 51, 36, 48, 25, 33, 22, 28, 77, 52, 82, 36, 71, 43, 26, 46, 88, 98, 32, 56, 26, 22, 21, 26, 30, 51, 36, 28, 92, 25, 65, 38, 88, 32, 32]\n"
          ],
          "name": "stdout"
        }
      ]
    },
    {
      "cell_type": "code",
      "metadata": {
        "colab": {
          "base_uri": "https://localhost:8080/"
        },
        "id": "5dCDLBxOtSAU",
        "outputId": "6d4b684b-fa9b-4a6e-d840-8f08a3cfc248"
      },
      "source": [
        "#어휘 사전 내려받기\n",
        "word_to_index = imdb.get_word_index()\n",
        "\n",
        "word_to_index['movie']"
      ],
      "execution_count": 5,
      "outputs": [
        {
          "output_type": "stream",
          "text": [
            "Downloading data from https://storage.googleapis.com/tensorflow/tf-keras-datasets/imdb_word_index.json\n",
            "1646592/1641221 [==============================] - 0s 0us/step\n",
            "1654784/1641221 [==============================] - 0s 0us/step\n"
          ],
          "name": "stdout"
        },
        {
          "output_type": "execute_result",
          "data": {
            "text/plain": [
              "17"
            ]
          },
          "metadata": {},
          "execution_count": 5
        }
      ]
    },
    {
      "cell_type": "code",
      "metadata": {
        "colab": {
          "base_uri": "https://localhost:8080/"
        },
        "id": "UxIUgenJtSCq",
        "outputId": "dfd2280b-6ae6-417a-d789-00d78926f271"
      },
      "source": [
        "#훈련 세트의 정수를 영단어로 변환\n",
        "index_to_word = {word_to_index[k]: k for k in word_to_index}\n",
        "\n",
        "for w in x_train_all[0]:\n",
        "    print(index_to_word[w - 3], end=' ')"
      ],
      "execution_count": 6,
      "outputs": [
        {
          "output_type": "stream",
          "text": [
            "film just story really they you just there an from so there film film were great just so much film would really at so you what they if you at film have been good also they were just are out because them all up are film but are be what they have don't you story so because all all "
          ],
          "name": "stdout"
        }
      ]
    },
    {
      "cell_type": "code",
      "metadata": {
        "colab": {
          "base_uri": "https://localhost:8080/"
        },
        "id": "DXBvqhkPtSIs",
        "outputId": "97c29c31-d6d6-4f8f-8bae-b7f5995fc9c9"
      },
      "source": [
        "#훈련 세트 크기 확인\n",
        "print(x_train_all.shape, y_train_all.shape)"
      ],
      "execution_count": 7,
      "outputs": [
        {
          "output_type": "stream",
          "text": [
            "(25000,) (25000,)\n"
          ],
          "name": "stdout"
        }
      ]
    },
    {
      "cell_type": "code",
      "metadata": {
        "colab": {
          "base_uri": "https://localhost:8080/"
        },
        "id": "b2rIHBahtliq",
        "outputId": "f062340f-1137-4358-d0ee-383c94520f0f"
      },
      "source": [
        "#훈련 샘플의 길이 확인 : 샘플의 길이가 다르면 모델을 제대로 훈련시킬 수 없다.\n",
        "print(len(x_train_all[0]), len(x_train_all[1]))"
      ],
      "execution_count": 8,
      "outputs": [
        {
          "output_type": "stream",
          "text": [
            "59 32\n"
          ],
          "name": "stdout"
        }
      ]
    },
    {
      "cell_type": "code",
      "metadata": {
        "colab": {
          "base_uri": "https://localhost:8080/"
        },
        "id": "vb_O8wtztla7",
        "outputId": "0f041ebd-db69-4b26-e1e4-8002fbfd0e9e"
      },
      "source": [
        "#훈련 세트의 타깃 데이터 확인 : 긍정(1)과 부정(0)\n",
        "print(y_train_all[:10])"
      ],
      "execution_count": 9,
      "outputs": [
        {
          "output_type": "stream",
          "text": [
            "[1 0 0 1 0 0 1 0 1 0]\n"
          ],
          "name": "stdout"
        }
      ]
    },
    {
      "cell_type": "code",
      "metadata": {
        "id": "V4ZQVAFjtrUj"
      },
      "source": [
        "#검증 세트 준비\n",
        "np.random.seed(42)\n",
        "random_index = np.random.permutation(25000)\n",
        "\n",
        "x_train = x_train_all[random_index[:20000]]\n",
        "y_train = y_train_all[random_index[:20000]]\n",
        "x_val = x_train_all[random_index[20000:]]\n",
        "y_val = y_train_all[random_index[20000:]]"
      ],
      "execution_count": 10,
      "outputs": []
    },
    {
      "cell_type": "code",
      "metadata": {
        "id": "zmP1ekr7tq-T"
      },
      "source": [
        "#샘플의 길이 맞추기 : 일정 길이가 넘으면 샘플 자르고, 길이가 모자라면 왼쪽에 0을 채운다.\n",
        "from tensorflow.keras.preprocessing import sequence\n",
        "\n",
        "maxlen=100\n",
        "x_train_seq = sequence.pad_sequences(x_train, maxlen=maxlen)\n",
        "x_val_seq = sequence.pad_sequences(x_val, maxlen=maxlen)"
      ],
      "execution_count": 11,
      "outputs": []
    },
    {
      "cell_type": "code",
      "metadata": {
        "colab": {
          "base_uri": "https://localhost:8080/"
        },
        "id": "A80Kn2r2t0j6",
        "outputId": "0581f543-3418-403b-cb70-2153a55e5964"
      },
      "source": [
        "#길이를 조정한 훈련 세트의 크기와 샘플 확인\n",
        "print(x_train_seq.shape, x_val_seq.shape)"
      ],
      "execution_count": 12,
      "outputs": [
        {
          "output_type": "stream",
          "text": [
            "(20000, 100) (5000, 100)\n"
          ],
          "name": "stdout"
        }
      ]
    },
    {
      "cell_type": "code",
      "metadata": {
        "colab": {
          "base_uri": "https://localhost:8080/"
        },
        "id": "TgeBw-utt033",
        "outputId": "bee1bb02-da48-49bf-9b2a-4703187c22b5"
      },
      "source": [
        "#샘플의 왼쪽에 0이 추가된 것을 확인\n",
        "print(x_train_seq[0])"
      ],
      "execution_count": 13,
      "outputs": [
        {
          "output_type": "stream",
          "text": [
            "[ 0  0  0  0  0  0  0  0  0  0  0  0  0  0  0  0  0  0  0  0  0  0  0  0\n",
            "  0  0  0  0  0  0  0  0  0  0  0  0  0  0  0  0  0  0  0  0  0  0  0  0\n",
            "  0  0  0  0  0  0  0  0  0  0  0  0  0  0 35 40 27 28 40 22 83 31 85 45\n",
            " 24 23 31 70 31 76 30 98 32 22 28 51 75 56 30 33 97 53 38 46 53 74 31 35\n",
            " 23 34 22 58]\n"
          ],
          "name": "stdout"
        }
      ]
    },
    {
      "cell_type": "code",
      "metadata": {
        "id": "ojg3ZVeBt07v"
      },
      "source": [
        "#샘플을 원-핫 인코딩하기\n",
        "from tensorflow.keras.utils import to_categorical\n",
        "\n",
        "x_train_onehot = to_categorical(x_train_seq)\n",
        "x_val_onehot = to_categorical(x_val_seq)"
      ],
      "execution_count": 14,
      "outputs": []
    },
    {
      "cell_type": "code",
      "metadata": {
        "colab": {
          "base_uri": "https://localhost:8080/"
        },
        "id": "NowmKjXIt092",
        "outputId": "a8224347-583e-433e-a9d3-f857ecabfc8b"
      },
      "source": [
        "print(x_train_onehot.shape)"
      ],
      "execution_count": 15,
      "outputs": [
        {
          "output_type": "stream",
          "text": [
            "(20000, 100, 100)\n"
          ],
          "name": "stdout"
        }
      ]
    },
    {
      "cell_type": "code",
      "metadata": {
        "colab": {
          "base_uri": "https://localhost:8080/"
        },
        "id": "PR15ayj9t1F-",
        "outputId": "e10c878e-4198-4d32-94e8-c5cfe4ea7c8c"
      },
      "source": [
        "print(x_train_onehot.nbytes)"
      ],
      "execution_count": 16,
      "outputs": [
        {
          "output_type": "stream",
          "text": [
            "800000000\n"
          ],
          "name": "stdout"
        }
      ]
    },
    {
      "cell_type": "code",
      "metadata": {
        "id": "Dd6fOaP4t_vt"
      },
      "source": [
        "import tensorflow as tf"
      ],
      "execution_count": 17,
      "outputs": []
    },
    {
      "cell_type": "code",
      "metadata": {
        "id": "jJ_nVxHet_rO"
      },
      "source": [
        "#순환 신경망 클래스 구현\n",
        "class RecurrentNetwork:\n",
        "    \n",
        "    def __init__(self, n_cells=10, batch_size=32, learning_rate=0.1):\n",
        "        self.n_cells = n_cells     # 셀 개수\n",
        "        self.batch_size = batch_size     # 배치 크기\n",
        "        self.w1h = None            # 은닉 상태에 대한 가중치\n",
        "        self.w1x = None            # 입력에 대한 가중치\n",
        "        self.b1 = None             # 순환층의 절편\n",
        "        self.w2 = None             # 출력층의 가중치\n",
        "        self.b2 = None             # 출력층의 절편\n",
        "        self.h = None              # 순환층의 활성화 출력\n",
        "        self.losses = []           # 훈련 손실\n",
        "        self.val_losses = []       # 검증 손실\n",
        "        self.lr = learning_rate    # 학습률\n",
        "\n",
        "    def forpass(self, x):\n",
        "        self.h = [np.zeros((x.shape[0], self.n_cells))]   # 은닉 상태를 초기화합니다.\n",
        "        # 배치 차원과 타임 스텝 차원을 바꿉니다.\n",
        "        seq = np.swapaxes(x, 0, 1)\n",
        "        # 순환 층의 선형 식을 계산합니다.\n",
        "        for x in seq:\n",
        "            z1 = np.dot(x, self.w1x) + np.dot(self.h[-1], self.w1h) + self.b1\n",
        "            h = np.tanh(z1)                    # 활성화 함수를 적용합니다.\n",
        "            self.h.append(h)                   # 역전파를 위해 은닉 상태 저장합니다.\n",
        "            z2 = np.dot(h, self.w2) + self.b2  # 출력층의 선형 식을 계산합니다.\n",
        "        return z2\n",
        "\n",
        "    def backprop(self, x, err):\n",
        "        m = len(x)       # 샘플 개수\n",
        "        \n",
        "        # 출력층의 가중치와 절편에 대한 그래디언트를 계산합니다.\n",
        "        w2_grad = np.dot(self.h[-1].T, err) / m\n",
        "        b2_grad = np.sum(err) / m\n",
        "        # 배치 차원과 타임 스텝 차원을 바꿉니다.\n",
        "        seq = np.swapaxes(x, 0, 1)\n",
        "        \n",
        "        w1h_grad = w1x_grad = b1_grad = 0\n",
        "        # 셀 직전까지 그래디언트를 계산합니다.\n",
        "        err_to_cell = np.dot(err, self.w2.T) * (1 - self.h[-1] ** 2)\n",
        "        # 모든 타임 스텝을 거슬러가면서 그래디언트를 전파합니다.\n",
        "        for x, h in zip(seq[::-1][:10], self.h[:-1][::-1][:10]):\n",
        "            w1h_grad += np.dot(h.T, err_to_cell)\n",
        "            w1x_grad += np.dot(x.T, err_to_cell)\n",
        "            b1_grad += np.sum(err_to_cell, axis=0)\n",
        "            # 이전 타임 스텝의 셀 직전까지 그래디언트를 계산합니다.\n",
        "            err_to_cell = np.dot(err_to_cell, self.w1h) * (1 - h ** 2)\n",
        "        \n",
        "        w1h_grad /= m\n",
        "        w1x_grad /= m\n",
        "        b1_grad /= m\n",
        "    \n",
        "        return w1h_grad, w1x_grad, b1_grad, w2_grad, b2_grad\n",
        "    \n",
        "    def sigmoid(self, z):\n",
        "        z = np.clip(z, -100, None)            # 안전한 np.exp() 계산을 위해\n",
        "        a = 1 / (1 + np.exp(-z))              # 시그모이드 계산\n",
        "        return a\n",
        "    \n",
        "    def init_weights(self, n_features, n_classes):\n",
        "        orth_init = tf.initializers.Orthogonal()\n",
        "        glorot_init = tf.initializers.GlorotUniform()\n",
        "        \n",
        "        self.w1h = orth_init((self.n_cells, self.n_cells)).numpy() # (셀 개수, 셀 개수)\n",
        "        self.w1x = glorot_init((n_features, self.n_cells)).numpy() # (특성 개수, 셀 개수)\n",
        "        self.b1 = np.zeros(self.n_cells)                           # 은닉층의 크기\n",
        "        self.w2 = glorot_init((self.n_cells, n_classes)).numpy()   # (셀 개수, 클래스 개수)\n",
        "        self.b2 = np.zeros(n_classes)\n",
        "        \n",
        "    def fit(self, x, y, epochs=100, x_val=None, y_val=None):\n",
        "        y = y.reshape(-1, 1)\n",
        "        y_val = y_val.reshape(-1, 1)\n",
        "        np.random.seed(42)\n",
        "        self.init_weights(x.shape[2], y.shape[1])    # 은닉층과 출력층의 가중치를 초기화합니다.\n",
        "        # epochs만큼 반복합니다.\n",
        "        for i in range(epochs):\n",
        "            print('에포크', i, end=' ')\n",
        "            # 제너레이터 함수에서 반환한 미니배치를 순환합니다.\n",
        "            batch_losses = []\n",
        "            for x_batch, y_batch in self.gen_batch(x, y):\n",
        "                print('.', end='')\n",
        "                a = self.training(x_batch, y_batch)\n",
        "                # 안전한 로그 계산을 위해 클리핑합니다.\n",
        "                a = np.clip(a, 1e-10, 1-1e-10)\n",
        "                # 로그 손실과 규제 손실을 더하여 리스트에 추가합니다.\n",
        "                loss = np.mean(-(y_batch*np.log(a) + (1-y_batch)*np.log(1-a)))\n",
        "                batch_losses.append(loss)\n",
        "            print()\n",
        "            self.losses.append(np.mean(batch_losses))\n",
        "            # 검증 세트에 대한 손실을 계산합니다.\n",
        "            self.update_val_loss(x_val, y_val)\n",
        "\n",
        "    # 미니배치 제너레이터 함수\n",
        "    def gen_batch(self, x, y):\n",
        "        length = len(x)\n",
        "        bins = length // self.batch_size # 미니배치 횟수\n",
        "        if length % self.batch_size:\n",
        "            bins += 1                    # 나누어 떨어지지 않을 때\n",
        "        indexes = np.random.permutation(np.arange(len(x))) # 인덱스를 섞습니다.\n",
        "        x = x[indexes]\n",
        "        y = y[indexes]\n",
        "        for i in range(bins):\n",
        "            start = self.batch_size * i\n",
        "            end = self.batch_size * (i + 1)\n",
        "            yield x[start:end], y[start:end]   # batch_size만큼 슬라이싱하여 반환합니다.\n",
        "            \n",
        "    def training(self, x, y):\n",
        "        m = len(x)                # 샘플 개수를 저장합니다.\n",
        "        z = self.forpass(x)       # 정방향 계산을 수행합니다.\n",
        "        a = self.sigmoid(z)       # 활성화 함수를 적용합니다.\n",
        "        err = -(y - a)            # 오차를 계산합니다.\n",
        "        # 오차를 역전파하여 그래디언트를 계산합니다.\n",
        "        w1h_grad, w1x_grad, b1_grad, w2_grad, b2_grad = self.backprop(x, err)\n",
        "        # 셀의 가중치와 절편을 업데이트합니다.\n",
        "        self.w1h -= self.lr * w1h_grad\n",
        "        self.w1x -= self.lr * w1x_grad\n",
        "        self.b1 -= self.lr * b1_grad\n",
        "        # 출력층의 가중치와 절편을 업데이트합니다.\n",
        "        self.w2 -= self.lr * w2_grad\n",
        "        self.b2 -= self.lr * b2_grad\n",
        "        return a\n",
        "   \n",
        "    def predict(self, x):\n",
        "        z = self.forpass(x)          # 정방향 계산을 수행합니다.\n",
        "        return z > 0                 # 스텝 함수를 적용합니다.\n",
        "    \n",
        "    def score(self, x, y):\n",
        "        # 예측과 타깃 열 벡터를 비교하여 True의 비율을 반환합니다.\n",
        "        return np.mean(self.predict(x) == y.reshape(-1, 1))\n",
        "\n",
        "    def update_val_loss(self, x_val, y_val):\n",
        "        z = self.forpass(x_val)            # 정방향 계산을 수행합니다.\n",
        "        a = self.sigmoid(z)                # 활성화 함수를 적용합니다.\n",
        "        a = np.clip(a, 1e-10, 1-1e-10)     # 출력 값을 클리핑합니다.\n",
        "        val_loss = np.mean(-(y_val*np.log(a) + (1-y_val)*np.log(1-a)))\n",
        "        self.val_losses.append(val_loss)"
      ],
      "execution_count": 18,
      "outputs": []
    },
    {
      "cell_type": "code",
      "metadata": {
        "colab": {
          "base_uri": "https://localhost:8080/"
        },
        "id": "26ho6otMt_pX",
        "outputId": "29861402-29b3-4752-84cd-6a8ea9245fbc"
      },
      "source": [
        "#순환 신경망 모델 훈련시키기\n",
        "rn = RecurrentNetwork(n_cells=32, batch_size=32, learning_rate=0.01)\n",
        "\n",
        "rn.fit(x_train_onehot, y_train, epochs=20, x_val=x_val_onehot, y_val=y_val)"
      ],
      "execution_count": 19,
      "outputs": [
        {
          "output_type": "stream",
          "text": [
            "에포크 0 .................................................................................................................................................................................................................................................................................................................................................................................................................................................................................................................................................................................................................................................\n",
            "에포크 1 .................................................................................................................................................................................................................................................................................................................................................................................................................................................................................................................................................................................................................................................\n",
            "에포크 2 .................................................................................................................................................................................................................................................................................................................................................................................................................................................................................................................................................................................................................................................\n",
            "에포크 3 .................................................................................................................................................................................................................................................................................................................................................................................................................................................................................................................................................................................................................................................\n",
            "에포크 4 .................................................................................................................................................................................................................................................................................................................................................................................................................................................................................................................................................................................................................................................\n",
            "에포크 5 .................................................................................................................................................................................................................................................................................................................................................................................................................................................................................................................................................................................................................................................\n",
            "에포크 6 .................................................................................................................................................................................................................................................................................................................................................................................................................................................................................................................................................................................................................................................\n",
            "에포크 7 .................................................................................................................................................................................................................................................................................................................................................................................................................................................................................................................................................................................................................................................\n",
            "에포크 8 .................................................................................................................................................................................................................................................................................................................................................................................................................................................................................................................................................................................................................................................\n",
            "에포크 9 .................................................................................................................................................................................................................................................................................................................................................................................................................................................................................................................................................................................................................................................\n",
            "에포크 10 .................................................................................................................................................................................................................................................................................................................................................................................................................................................................................................................................................................................................................................................\n",
            "에포크 11 .................................................................................................................................................................................................................................................................................................................................................................................................................................................................................................................................................................................................................................................\n",
            "에포크 12 .................................................................................................................................................................................................................................................................................................................................................................................................................................................................................................................................................................................................................................................\n",
            "에포크 13 .................................................................................................................................................................................................................................................................................................................................................................................................................................................................................................................................................................................................................................................\n",
            "에포크 14 .................................................................................................................................................................................................................................................................................................................................................................................................................................................................................................................................................................................................................................................\n",
            "에포크 15 .................................................................................................................................................................................................................................................................................................................................................................................................................................................................................................................................................................................................................................................\n",
            "에포크 16 .................................................................................................................................................................................................................................................................................................................................................................................................................................................................................................................................................................................................................................................\n",
            "에포크 17 .................................................................................................................................................................................................................................................................................................................................................................................................................................................................................................................................................................................................................................................\n",
            "에포크 18 .................................................................................................................................................................................................................................................................................................................................................................................................................................................................................................................................................................................................................................................\n",
            "에포크 19 .................................................................................................................................................................................................................................................................................................................................................................................................................................................................................................................................................................................................................................................\n"
          ],
          "name": "stdout"
        }
      ]
    },
    {
      "cell_type": "code",
      "metadata": {
        "id": "6ohoBS61t_nF"
      },
      "source": [
        "import matplotlib.pyplot as plt"
      ],
      "execution_count": 20,
      "outputs": []
    },
    {
      "cell_type": "code",
      "metadata": {
        "colab": {
          "base_uri": "https://localhost:8080/",
          "height": 265
        },
        "id": "B2F7O7VVt_cI",
        "outputId": "26d2a3a3-aab5-476c-fb70-32c052c3dcc2"
      },
      "source": [
        "#훈련, 검증 세트에 대한 손실 그래프 그리기 : 그래프가 들쭉날쭉하지만 비교적 손실이 잘 감소한다.\n",
        "plt.plot(rn.losses)\n",
        "plt.plot(rn.val_losses)\n",
        "plt.show()"
      ],
      "execution_count": 21,
      "outputs": [
        {
          "output_type": "display_data",
          "data": {
            "image/png": "[encoded data removed]",
            "text/plain": [
              "<Figure size 432x288 with 1 Axes>"
            ]
          },
          "metadata": {
            "needs_background": "light"
          }
        }
      ]
    },
    {
      "cell_type": "code",
      "metadata": {
        "colab": {
          "base_uri": "https://localhost:8080/"
        },
        "id": "YrCCWD7-uJ47",
        "outputId": "412f2f87-6416-4da1-8089-79253eeb1fb1"
      },
      "source": [
        "#검증 세트의 정확도\n",
        "rn.score(x_val_onehot, y_val)"
      ],
      "execution_count": 22,
      "outputs": [
        {
          "output_type": "execute_result",
          "data": {
            "text/plain": [
              "0.6408"
            ]
          },
          "metadata": {},
          "execution_count": 22
        }
      ]
    },
    {
      "cell_type": "markdown",
      "metadata": {
        "id": "Ro4VZJtcs2O2"
      },
      "source": [
        "***09-3 텐서플로로 순환 신경망을 만듭니다.***"
      ]
    },
    {
      "cell_type": "code",
      "metadata": {
        "id": "XsJyVAUquRr4"
      },
      "source": [
        "from tensorflow.keras.models import Sequential\n",
        "from tensorflow.keras.layers import Dense, SimpleRNN"
      ],
      "execution_count": 23,
      "outputs": []
    },
    {
      "cell_type": "code",
      "metadata": {
        "colab": {
          "base_uri": "https://localhost:8080/"
        },
        "id": "w6309VXQuRn8",
        "outputId": "9e1ac173-8ec6-4080-aa3f-0e4762431877"
      },
      "source": [
        "#모델 만들기\n",
        "model = Sequential()\n",
        "\n",
        "model.add(SimpleRNN(32, input_shape=(100, 100)))\n",
        "model.add(Dense(1, activation='sigmoid'))\n",
        "\n",
        "model.summary()"
      ],
      "execution_count": 24,
      "outputs": [
        {
          "output_type": "stream",
          "text": [
            "Model: \"sequential\"\n",
            "_________________________________________________________________\n",
            "Layer (type)                 Output Shape              Param #   \n",
            "=================================================================\n",
            "simple_rnn (SimpleRNN)       (None, 32)                4256      \n",
            "_________________________________________________________________\n",
            "dense (Dense)                (None, 1)                 33        \n",
            "=================================================================\n",
            "Total params: 4,289\n",
            "Trainable params: 4,289\n",
            "Non-trainable params: 0\n",
            "_________________________________________________________________\n"
          ],
          "name": "stdout"
        }
      ]
    },
    {
      "cell_type": "code",
      "metadata": {
        "colab": {
          "base_uri": "https://localhost:8080/"
        },
        "id": "bk38BwIduRlc",
        "outputId": "b081eb3e-916c-47ab-8de8-1ddec7ad159e"
      },
      "source": [
        "#모델 컴파일하고 훈련시키기\n",
        "model.compile(optimizer='sgd', loss='binary_crossentropy', metrics=['accuracy'])\n",
        "\n",
        "history = model.fit(x_train_onehot, y_train, epochs=20, batch_size=32, \n",
        "                    validation_data=(x_val_onehot, y_val))"
      ],
      "execution_count": 25,
      "outputs": [
        {
          "output_type": "stream",
          "text": [
            "Epoch 1/20\n",
            "625/625 [==============================] - 13s 19ms/step - loss: 0.6994 - accuracy: 0.5126 - val_loss: 0.6938 - val_accuracy: 0.5230\n",
            "Epoch 2/20\n",
            "625/625 [==============================] - 12s 18ms/step - loss: 0.6861 - accuracy: 0.5461 - val_loss: 0.6791 - val_accuracy: 0.5688\n",
            "Epoch 3/20\n",
            "625/625 [==============================] - 12s 19ms/step - loss: 0.6583 - accuracy: 0.6053 - val_loss: 0.6366 - val_accuracy: 0.6436\n",
            "Epoch 4/20\n",
            "625/625 [==============================] - 12s 19ms/step - loss: 0.6347 - accuracy: 0.6440 - val_loss: 0.6853 - val_accuracy: 0.6058\n",
            "Epoch 5/20\n",
            "625/625 [==============================] - 11s 18ms/step - loss: 0.6174 - accuracy: 0.6635 - val_loss: 0.6028 - val_accuracy: 0.6748\n",
            "Epoch 6/20\n",
            "625/625 [==============================] - 12s 19ms/step - loss: 0.6078 - accuracy: 0.6734 - val_loss: 0.5899 - val_accuracy: 0.6896\n",
            "Epoch 7/20\n",
            "625/625 [==============================] - 12s 18ms/step - loss: 0.5960 - accuracy: 0.6847 - val_loss: 0.5849 - val_accuracy: 0.6962\n",
            "Epoch 8/20\n",
            "625/625 [==============================] - 12s 19ms/step - loss: 0.5901 - accuracy: 0.6884 - val_loss: 0.5899 - val_accuracy: 0.6876\n",
            "Epoch 9/20\n",
            "625/625 [==============================] - 11s 18ms/step - loss: 0.5868 - accuracy: 0.6931 - val_loss: 0.5822 - val_accuracy: 0.6930\n",
            "Epoch 10/20\n",
            "625/625 [==============================] - 11s 18ms/step - loss: 0.5855 - accuracy: 0.6952 - val_loss: 0.5758 - val_accuracy: 0.7046\n",
            "Epoch 11/20\n",
            "625/625 [==============================] - 11s 18ms/step - loss: 0.5810 - accuracy: 0.6993 - val_loss: 0.5737 - val_accuracy: 0.7068\n",
            "Epoch 12/20\n",
            "625/625 [==============================] - 11s 18ms/step - loss: 0.5812 - accuracy: 0.6973 - val_loss: 0.5728 - val_accuracy: 0.7086\n",
            "Epoch 13/20\n",
            "625/625 [==============================] - 11s 18ms/step - loss: 0.5762 - accuracy: 0.7010 - val_loss: 0.5732 - val_accuracy: 0.7020\n",
            "Epoch 14/20\n",
            "625/625 [==============================] - 11s 18ms/step - loss: 0.5756 - accuracy: 0.7010 - val_loss: 0.5963 - val_accuracy: 0.6886\n",
            "Epoch 15/20\n",
            "625/625 [==============================] - 11s 18ms/step - loss: 0.5700 - accuracy: 0.7095 - val_loss: 0.5714 - val_accuracy: 0.7056\n",
            "Epoch 16/20\n",
            "625/625 [==============================] - 11s 18ms/step - loss: 0.5703 - accuracy: 0.7057 - val_loss: 0.6141 - val_accuracy: 0.6818\n",
            "Epoch 17/20\n",
            "625/625 [==============================] - 11s 18ms/step - loss: 0.5645 - accuracy: 0.7103 - val_loss: 0.5964 - val_accuracy: 0.6770\n",
            "Epoch 18/20\n",
            "625/625 [==============================] - 11s 18ms/step - loss: 0.5684 - accuracy: 0.7096 - val_loss: 0.5904 - val_accuracy: 0.6800\n",
            "Epoch 19/20\n",
            "625/625 [==============================] - 11s 18ms/step - loss: 0.5652 - accuracy: 0.7100 - val_loss: 0.5807 - val_accuracy: 0.6976\n",
            "Epoch 20/20\n",
            "625/625 [==============================] - 11s 18ms/step - loss: 0.5638 - accuracy: 0.7086 - val_loss: 0.5890 - val_accuracy: 0.6810\n"
          ],
          "name": "stdout"
        }
      ]
    },
    {
      "cell_type": "code",
      "metadata": {
        "colab": {
          "base_uri": "https://localhost:8080/",
          "height": 265
        },
        "id": "I31xzhoiuRek",
        "outputId": "230d1a03-69a5-4333-ac4c-2f77986a1482"
      },
      "source": [
        "#훈련, 검증 세트에 대한 손실 그래프\n",
        "plt.plot(history.history['loss'])\n",
        "plt.plot(history.history['val_loss'])\n",
        "plt.show()"
      ],
      "execution_count": 26,
      "outputs": [
        {
          "output_type": "display_data",
          "data": {
            "image/png": "[encoded data removed]",
            "text/plain": [
              "<Figure size 432x288 with 1 Axes>"
            ]
          },
          "metadata": {
            "needs_background": "light"
          }
        }
      ]
    },
    {
      "cell_type": "code",
      "metadata": {
        "colab": {
          "base_uri": "https://localhost:8080/",
          "height": 265
        },
        "id": "NlsDZUKJuaw1",
        "outputId": "f3953a87-cfd9-42d8-e9a0-14c529130680"
      },
      "source": [
        "#훈련, 검증 세트에 대한 정확도 그래프 : 과대 적합되는 현상이 보인다.\n",
        "plt.plot(history.history['accuracy'])\n",
        "plt.plot(history.history['val_accuracy'])\n",
        "plt.show()"
      ],
      "execution_count": 27,
      "outputs": [
        {
          "output_type": "display_data",
          "data": {
            "image/png": "[encoded data removed]",
            "text/plain": [
              "<Figure size 432x288 with 1 Axes>"
            ]
          },
          "metadata": {
            "needs_background": "light"
          }
        }
      ]
    },
    {
      "cell_type": "code",
      "metadata": {
        "colab": {
          "base_uri": "https://localhost:8080/"
        },
        "id": "apZiWaLIua0s",
        "outputId": "1d6e1525-2bbb-49a3-9c1a-7673d7d65cfb"
      },
      "source": [
        "#검증 세트 정확도 평가\n",
        "loss, accuracy = model.evaluate(x_val_onehot, y_val, verbose=0)\n",
        "print(accuracy)"
      ],
      "execution_count": 28,
      "outputs": [
        {
          "output_type": "stream",
          "text": [
            "0.6809999942779541\n"
          ],
          "name": "stdout"
        }
      ]
    },
    {
      "cell_type": "code",
      "metadata": {
        "id": "hiCRKHfvua3M"
      },
      "source": [
        "#임베딩 클래스 임포트 : 단어를 고정된 길이의 실수 벡터로 임베딩\n",
        "from tensorflow.keras.layers import Embedding"
      ],
      "execution_count": 29,
      "outputs": []
    },
    {
      "cell_type": "code",
      "metadata": {
        "id": "Gj8ADVQ5uhsN"
      },
      "source": [
        "#훈련 데이터 준비\n",
        "(x_train_all, y_train_all), (x_test, y_test) = imdb.load_data(skip_top=20, num_words=1000)\n",
        "\n",
        "for i in range(len(x_train_all)):\n",
        "    x_train_all[i] = [w for w in x_train_all[i] if w > 2]\n",
        "    \n",
        "x_train = x_train_all[random_index[:20000]]\n",
        "y_train = y_train_all[random_index[:20000]]\n",
        "x_val = x_train_all[random_index[20000:]]\n",
        "y_val = y_train_all[random_index[20000:]]"
      ],
      "execution_count": 30,
      "outputs": []
    },
    {
      "cell_type": "code",
      "metadata": {
        "id": "cFLVB-Icuhug"
      },
      "source": [
        "#샘플 길이 맞추기\n",
        "maxlen=100\n",
        "x_train_seq = sequence.pad_sequences(x_train, maxlen=maxlen)\n",
        "x_val_seq = sequence.pad_sequences(x_val, maxlen=maxlen)"
      ],
      "execution_count": 31,
      "outputs": []
    },
    {
      "cell_type": "code",
      "metadata": {
        "colab": {
          "base_uri": "https://localhost:8080/"
        },
        "id": "DW8ER_7QuhyI",
        "outputId": "bc042c5c-3df0-4d4a-da38-e46aefc8710a"
      },
      "source": [
        "#모델 만들기\n",
        "model_ebd = Sequential()\n",
        "\n",
        "model_ebd.add(Embedding(1000, 32))\n",
        "model_ebd.add(SimpleRNN(8))\n",
        "model_ebd.add(Dense(1, activation='sigmoid'))\n",
        "\n",
        "model_ebd.summary()"
      ],
      "execution_count": 32,
      "outputs": [
        {
          "output_type": "stream",
          "text": [
            "Model: \"sequential_1\"\n",
            "_________________________________________________________________\n",
            "Layer (type)                 Output Shape              Param #   \n",
            "=================================================================\n",
            "embedding (Embedding)        (None, None, 32)          32000     \n",
            "_________________________________________________________________\n",
            "simple_rnn_1 (SimpleRNN)     (None, 8)                 328       \n",
            "_________________________________________________________________\n",
            "dense_1 (Dense)              (None, 1)                 9         \n",
            "=================================================================\n",
            "Total params: 32,337\n",
            "Trainable params: 32,337\n",
            "Non-trainable params: 0\n",
            "_________________________________________________________________\n"
          ],
          "name": "stdout"
        }
      ]
    },
    {
      "cell_type": "code",
      "metadata": {
        "colab": {
          "base_uri": "https://localhost:8080/"
        },
        "id": "lkcwWTYjupun",
        "outputId": "51c1a708-4d30-42da-9459-fca446951805"
      },
      "source": [
        "#모델 컴파일하고 훈련\n",
        "model_ebd.compile(optimizer='adam', loss='binary_crossentropy', metrics=['accuracy'])\n",
        "\n",
        "history = model_ebd.fit(x_train_seq, y_train, epochs=10, batch_size=32, \n",
        "                        validation_data=(x_val_seq, y_val))"
      ],
      "execution_count": 33,
      "outputs": [
        {
          "output_type": "stream",
          "text": [
            "Epoch 1/10\n",
            "625/625 [==============================] - 13s 20ms/step - loss: 0.4920 - accuracy: 0.7745 - val_loss: 0.4213 - val_accuracy: 0.8210\n",
            "Epoch 2/10\n",
            "625/625 [==============================] - 12s 19ms/step - loss: 0.3823 - accuracy: 0.8389 - val_loss: 0.4171 - val_accuracy: 0.8268\n",
            "Epoch 3/10\n",
            "625/625 [==============================] - 12s 19ms/step - loss: 0.3498 - accuracy: 0.8520 - val_loss: 0.4008 - val_accuracy: 0.8242\n",
            "Epoch 4/10\n",
            "625/625 [==============================] - 12s 19ms/step - loss: 0.3274 - accuracy: 0.8634 - val_loss: 0.4089 - val_accuracy: 0.8204\n",
            "Epoch 5/10\n",
            "625/625 [==============================] - 12s 19ms/step - loss: 0.3143 - accuracy: 0.8719 - val_loss: 0.4337 - val_accuracy: 0.8122\n",
            "Epoch 6/10\n",
            "625/625 [==============================] - 12s 20ms/step - loss: 0.2884 - accuracy: 0.8846 - val_loss: 0.4507 - val_accuracy: 0.8144\n",
            "Epoch 7/10\n",
            "625/625 [==============================] - 12s 19ms/step - loss: 0.2780 - accuracy: 0.8888 - val_loss: 0.4627 - val_accuracy: 0.8034\n",
            "Epoch 8/10\n",
            "625/625 [==============================] - 12s 19ms/step - loss: 0.2599 - accuracy: 0.8966 - val_loss: 0.4588 - val_accuracy: 0.8162\n",
            "Epoch 9/10\n",
            "625/625 [==============================] - 12s 19ms/step - loss: 0.2428 - accuracy: 0.9050 - val_loss: 0.4731 - val_accuracy: 0.8106\n",
            "Epoch 10/10\n",
            "625/625 [==============================] - 12s 19ms/step - loss: 0.2408 - accuracy: 0.9068 - val_loss: 0.5049 - val_accuracy: 0.8156\n"
          ],
          "name": "stdout"
        }
      ]
    },
    {
      "cell_type": "code",
      "metadata": {
        "colab": {
          "base_uri": "https://localhost:8080/",
          "height": 265
        },
        "id": "qlFgoUCYupw0",
        "outputId": "50c08208-47e1-43fd-a753-03d700f229fc"
      },
      "source": [
        "#손실 그래프\n",
        "plt.plot(history.history['loss'])\n",
        "plt.plot(history.history['val_loss'])\n",
        "plt.show()"
      ],
      "execution_count": 34,
      "outputs": [
        {
          "output_type": "display_data",
          "data": {
            "image/png": "[encoded data removed]",
            "text/plain": [
              "<Figure size 432x288 with 1 Axes>"
            ]
          },
          "metadata": {
            "needs_background": "light"
          }
        }
      ]
    },
    {
      "cell_type": "code",
      "metadata": {
        "colab": {
          "base_uri": "https://localhost:8080/",
          "height": 265
        },
        "id": "uGbX7Apfup2U",
        "outputId": "6eefc4a7-cfc6-4085-cbbd-e359d4545b70"
      },
      "source": [
        "#정확도 그래프\n",
        "plt.plot(history.history['accuracy'])\n",
        "plt.plot(history.history['val_accuracy'])\n",
        "plt.show()"
      ],
      "execution_count": 35,
      "outputs": [
        {
          "output_type": "display_data",
          "data": {
            "image/png": "[encoded data removed]",
            "text/plain": [
              "<Figure size 432x288 with 1 Axes>"
            ]
          },
          "metadata": {
            "needs_background": "light"
          }
        }
      ]
    },
    {
      "cell_type": "code",
      "metadata": {
        "colab": {
          "base_uri": "https://localhost:8080/"
        },
        "id": "uJDULm6kuh3Z",
        "outputId": "9b860ff5-2daa-44e3-86cc-dce836d75716"
      },
      "source": [
        "#검증 세트 정확도 평가\n",
        "loss, accuracy = model_ebd.evaluate(x_val_seq, y_val, verbose=0)\n",
        "print(accuracy)"
      ],
      "execution_count": 36,
      "outputs": [
        {
          "output_type": "stream",
          "text": [
            "0.8155999779701233\n"
          ],
          "name": "stdout"
        }
      ]
    },
    {
      "cell_type": "markdown",
      "metadata": {
        "id": "IWcxSwnPs2XV"
      },
      "source": [
        "***09-4 LSTM 순환 신경망을 만들고 텍스트를 분류합니다.***"
      ]
    },
    {
      "cell_type": "code",
      "metadata": {
        "id": "GffRbHfZu2HG"
      },
      "source": [
        "from tensorflow.keras.layers import LSTM"
      ],
      "execution_count": 37,
      "outputs": []
    },
    {
      "cell_type": "code",
      "metadata": {
        "colab": {
          "base_uri": "https://localhost:8080/"
        },
        "id": "DJnYBaBau2B1",
        "outputId": "c06ec967-60b7-4d90-f50a-209bc988acde"
      },
      "source": [
        "#LSTM 순환 신경망 만들기\n",
        "model_lstm = Sequential()\n",
        "\n",
        "model_lstm.add(Embedding(1000, 32))\n",
        "model_lstm.add(LSTM(8))\n",
        "model_lstm.add(Dense(1, activation='sigmoid'))\n",
        "\n",
        "model_lstm.summary()"
      ],
      "execution_count": 38,
      "outputs": [
        {
          "output_type": "stream",
          "text": [
            "Model: \"sequential_2\"\n",
            "_________________________________________________________________\n",
            "Layer (type)                 Output Shape              Param #   \n",
            "=================================================================\n",
            "embedding_1 (Embedding)      (None, None, 32)          32000     \n",
            "_________________________________________________________________\n",
            "lstm (LSTM)                  (None, 8)                 1312      \n",
            "_________________________________________________________________\n",
            "dense_2 (Dense)              (None, 1)                 9         \n",
            "=================================================================\n",
            "Total params: 33,321\n",
            "Trainable params: 33,321\n",
            "Non-trainable params: 0\n",
            "_________________________________________________________________\n"
          ],
          "name": "stdout"
        }
      ]
    },
    {
      "cell_type": "code",
      "metadata": {
        "colab": {
          "base_uri": "https://localhost:8080/"
        },
        "id": "E4de4J2ru1_6",
        "outputId": "02d13927-0ab0-4e8a-a803-b7ad837103ac"
      },
      "source": [
        "#모델 훈련\n",
        "model_lstm.compile(optimizer='adam', loss='binary_crossentropy', metrics=['accuracy'])\n",
        "\n",
        "history = model_lstm.fit(x_train_seq, y_train, epochs=10, batch_size=32, \n",
        "                         validation_data=(x_val_seq, y_val))"
      ],
      "execution_count": 39,
      "outputs": [
        {
          "output_type": "stream",
          "text": [
            "Epoch 1/10\n",
            "625/625 [==============================] - 20s 30ms/step - loss: 0.4475 - accuracy: 0.7986 - val_loss: 0.3994 - val_accuracy: 0.8270\n",
            "Epoch 2/10\n",
            "625/625 [==============================] - 18s 29ms/step - loss: 0.3363 - accuracy: 0.8583 - val_loss: 0.3561 - val_accuracy: 0.8416\n",
            "Epoch 3/10\n",
            "625/625 [==============================] - 18s 29ms/step - loss: 0.3133 - accuracy: 0.8691 - val_loss: 0.3533 - val_accuracy: 0.8404\n",
            "Epoch 4/10\n",
            "625/625 [==============================] - 18s 29ms/step - loss: 0.2976 - accuracy: 0.8748 - val_loss: 0.3567 - val_accuracy: 0.8438\n",
            "Epoch 5/10\n",
            "625/625 [==============================] - 18s 29ms/step - loss: 0.2870 - accuracy: 0.8780 - val_loss: 0.3604 - val_accuracy: 0.8348\n",
            "Epoch 6/10\n",
            "625/625 [==============================] - 18s 29ms/step - loss: 0.2706 - accuracy: 0.8856 - val_loss: 0.3683 - val_accuracy: 0.8384\n",
            "Epoch 7/10\n",
            "625/625 [==============================] - 18s 29ms/step - loss: 0.2603 - accuracy: 0.8918 - val_loss: 0.3776 - val_accuracy: 0.8394\n",
            "Epoch 8/10\n",
            "625/625 [==============================] - 18s 29ms/step - loss: 0.2469 - accuracy: 0.8967 - val_loss: 0.3871 - val_accuracy: 0.8366\n",
            "Epoch 9/10\n",
            "625/625 [==============================] - 18s 29ms/step - loss: 0.2394 - accuracy: 0.9002 - val_loss: 0.4114 - val_accuracy: 0.8294\n",
            "Epoch 10/10\n",
            "625/625 [==============================] - 18s 29ms/step - loss: 0.2303 - accuracy: 0.9051 - val_loss: 0.4213 - val_accuracy: 0.8296\n"
          ],
          "name": "stdout"
        }
      ]
    },
    {
      "cell_type": "code",
      "metadata": {
        "colab": {
          "base_uri": "https://localhost:8080/",
          "height": 265
        },
        "id": "GltAx3cTu1-C",
        "outputId": "85a51d74-9dfc-4c25-e415-83f3f3f2d273"
      },
      "source": [
        "plt.plot(history.history['loss'])\n",
        "plt.plot(history.history['val_loss'])\n",
        "plt.show()"
      ],
      "execution_count": 40,
      "outputs": [
        {
          "output_type": "display_data",
          "data": {
            "image/png": "[encoded data removed]",
            "text/plain": [
              "<Figure size 432x288 with 1 Axes>"
            ]
          },
          "metadata": {
            "needs_background": "light"
          }
        }
      ]
    },
    {
      "cell_type": "code",
      "metadata": {
        "colab": {
          "base_uri": "https://localhost:8080/",
          "height": 265
        },
        "id": "cEZAgRV6u176",
        "outputId": "b98875c6-868a-4230-c06c-d8ba0c5736fa"
      },
      "source": [
        "plt.plot(history.history['accuracy'])\n",
        "plt.plot(history.history['val_accuracy'])\n",
        "plt.show()"
      ],
      "execution_count": 41,
      "outputs": [
        {
          "output_type": "display_data",
          "data": {
            "image/png": "[encoded data removed]",
            "text/plain": [
              "<Figure size 432x288 with 1 Axes>"
            ]
          },
          "metadata": {
            "needs_background": "light"
          }
        }
      ]
    },
    {
      "cell_type": "code",
      "metadata": {
        "colab": {
          "base_uri": "https://localhost:8080/"
        },
        "id": "DLrWvErLu10b",
        "outputId": "124bec63-66d2-4d9f-8fe7-f815f80aff51"
      },
      "source": [
        "#검증 세트 정확도 평가\n",
        "loss, accuracy = model_lstm.evaluate(x_val_seq, y_val, verbose=0)\n",
        "print(accuracy)"
      ],
      "execution_count": 42,
      "outputs": [
        {
          "output_type": "stream",
          "text": [
            "0.8295999765396118\n"
          ],
          "name": "stdout"
        }
      ]
    }
  ]
}
