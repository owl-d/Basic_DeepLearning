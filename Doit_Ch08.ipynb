{
  "nbformat": 4,
  "nbformat_minor": 0,
  "metadata": {
    "colab": {
      "name": "Doit_Ch08.ipynb",
      "provenance": [],
      "authorship_tag": "ABX9TyPXVbPrn+wS9JEyZWBSUbbB",
      "include_colab_link": true
    },
    "kernelspec": {
      "name": "python3",
      "display_name": "Python 3"
    },
    "language_info": {
      "name": "python"
    }
  },
  "cells": [
    {
      "cell_type": "markdown",
      "metadata": {
        "id": "view-in-github",
        "colab_type": "text"
      },
      "source": [
        "<a href=\"https://colab.research.google.com/github/owl-d/Basic_DeepLearning/blob/main/Doit_Ch08.ipynb\" target=\"_parent\"><img src=\"https://colab.research.google.com/assets/colab-badge.svg\" alt=\"Open In Colab\"/></a>"
      ]
    },
    {
      "cell_type": "markdown",
      "metadata": {
        "id": "UIx9g6ysTUla"
      },
      "source": [
        "***08-1 합성곱***"
      ]
    },
    {
      "cell_type": "code",
      "metadata": {
        "id": "JFhZfl4zPsKZ"
      },
      "source": [
        "import numpy as np"
      ],
      "execution_count": 1,
      "outputs": []
    },
    {
      "cell_type": "code",
      "metadata": {
        "id": "TePLaGR1TvGg"
      },
      "source": [
        "w = np.array([2, 1, 5, 3])\n",
        "x = np.array([2, 8, 3, 7, 1, 2, 0, 4, 5])"
      ],
      "execution_count": 2,
      "outputs": []
    },
    {
      "cell_type": "code",
      "metadata": {
        "colab": {
          "base_uri": "https://localhost:8080/"
        },
        "id": "f0YFREXWTvkn",
        "outputId": "5b96e6de-5815-417e-f5b3-85cb7d7a42cd"
      },
      "source": [
        "w_r = np.flip(w)\n",
        "print(w_r)"
      ],
      "execution_count": 3,
      "outputs": [
        {
          "output_type": "stream",
          "text": [
            "[3 5 1 2]\n"
          ],
          "name": "stdout"
        }
      ]
    },
    {
      "cell_type": "code",
      "metadata": {
        "colab": {
          "base_uri": "https://localhost:8080/"
        },
        "id": "Wm0j_zT6Tvqb",
        "outputId": "d874b1ba-5072-4a1e-b31a-39e84eb82041"
      },
      "source": [
        "w[0:4:2]"
      ],
      "execution_count": 4,
      "outputs": [
        {
          "output_type": "execute_result",
          "data": {
            "text/plain": [
              "array([2, 5])"
            ]
          },
          "metadata": {
            "tags": []
          },
          "execution_count": 4
        }
      ]
    },
    {
      "cell_type": "code",
      "metadata": {
        "colab": {
          "base_uri": "https://localhost:8080/"
        },
        "id": "dtpVjdZ5Tvtq",
        "outputId": "37e53d9d-c866-455d-c4d1-3efbc27cb39e"
      },
      "source": [
        "for i in range(6):\n",
        "    print(np.dot(x[i:i+4], w_r))"
      ],
      "execution_count": 5,
      "outputs": [
        {
          "output_type": "stream",
          "text": [
            "63\n",
            "48\n",
            "49\n",
            "28\n",
            "21\n",
            "20\n"
          ],
          "name": "stdout"
        }
      ]
    },
    {
      "cell_type": "code",
      "metadata": {
        "id": "J5HScKKhTv37"
      },
      "source": [
        "from scipy.signal import convolve"
      ],
      "execution_count": 6,
      "outputs": []
    },
    {
      "cell_type": "code",
      "metadata": {
        "colab": {
          "base_uri": "https://localhost:8080/"
        },
        "id": "NEclanNKTv6M",
        "outputId": "625fd7fa-a6ee-400a-ce01-baa6fcc44da1"
      },
      "source": [
        "convolve(x, w, mode='valid')"
      ],
      "execution_count": 7,
      "outputs": [
        {
          "output_type": "execute_result",
          "data": {
            "text/plain": [
              "array([63, 48, 49, 28, 21, 20])"
            ]
          },
          "metadata": {
            "tags": []
          },
          "execution_count": 7
        }
      ]
    },
    {
      "cell_type": "code",
      "metadata": {
        "id": "yC1McNF6T779"
      },
      "source": [
        "from scipy.signal import correlate"
      ],
      "execution_count": 8,
      "outputs": []
    },
    {
      "cell_type": "code",
      "metadata": {
        "colab": {
          "base_uri": "https://localhost:8080/"
        },
        "id": "DDdjzSKQT7-T",
        "outputId": "06faa759-1dbb-4228-ec0f-3df7bdacbae2"
      },
      "source": [
        "correlate(x, w, mode='valid')"
      ],
      "execution_count": 9,
      "outputs": [
        {
          "output_type": "execute_result",
          "data": {
            "text/plain": [
              "array([48, 57, 24, 25, 16, 39])"
            ]
          },
          "metadata": {
            "tags": []
          },
          "execution_count": 9
        }
      ]
    },
    {
      "cell_type": "code",
      "metadata": {
        "colab": {
          "base_uri": "https://localhost:8080/"
        },
        "id": "B16guBgbT8Az",
        "outputId": "2542cc19-4813-4451-d7bc-37bc22b91d9d"
      },
      "source": [
        "correlate(x, w, mode='full')"
      ],
      "execution_count": 10,
      "outputs": [
        {
          "output_type": "execute_result",
          "data": {
            "text/plain": [
              "array([ 6, 34, 51, 48, 57, 24, 25, 16, 39, 29, 13, 10])"
            ]
          },
          "metadata": {
            "tags": []
          },
          "execution_count": 10
        }
      ]
    },
    {
      "cell_type": "code",
      "metadata": {
        "colab": {
          "base_uri": "https://localhost:8080/"
        },
        "id": "LyA9UG_QT8DT",
        "outputId": "d7e431f3-4f1c-4ad5-b39a-2e027e4cb552"
      },
      "source": [
        "correlate(x, w, mode='same')"
      ],
      "execution_count": 11,
      "outputs": [
        {
          "output_type": "execute_result",
          "data": {
            "text/plain": [
              "array([34, 51, 48, 57, 24, 25, 16, 39, 29])"
            ]
          },
          "metadata": {
            "tags": []
          },
          "execution_count": 11
        }
      ]
    },
    {
      "cell_type": "code",
      "metadata": {
        "id": "Z16qjPyHUIvN"
      },
      "source": [
        "x = np.array([[1, 2, 3],\n",
        "              [4, 5, 6],\n",
        "              [7, 8, 9]])\n",
        "w = np.array([[2, 0], [0, 0]])"
      ],
      "execution_count": 12,
      "outputs": []
    },
    {
      "cell_type": "code",
      "metadata": {
        "colab": {
          "base_uri": "https://localhost:8080/"
        },
        "id": "b3rToY9gUIzj",
        "outputId": "0d51bf5b-bf6b-4738-9715-8ae8040d2d56"
      },
      "source": [
        "from scipy.signal import correlate2d\n",
        "\n",
        "correlate2d(x, w, mode='valid')"
      ],
      "execution_count": 13,
      "outputs": [
        {
          "output_type": "execute_result",
          "data": {
            "text/plain": [
              "array([[ 2,  4],\n",
              "       [ 8, 10]])"
            ]
          },
          "metadata": {
            "tags": []
          },
          "execution_count": 13
        }
      ]
    },
    {
      "cell_type": "code",
      "metadata": {
        "colab": {
          "base_uri": "https://localhost:8080/"
        },
        "id": "AElo_T0hUI1m",
        "outputId": "bd00cf9d-642a-4e5e-a755-426a6b0ab167"
      },
      "source": [
        "np.flip(w)"
      ],
      "execution_count": 14,
      "outputs": [
        {
          "output_type": "execute_result",
          "data": {
            "text/plain": [
              "array([[0, 0],\n",
              "       [0, 2]])"
            ]
          },
          "metadata": {
            "tags": []
          },
          "execution_count": 14
        }
      ]
    },
    {
      "cell_type": "code",
      "metadata": {
        "colab": {
          "base_uri": "https://localhost:8080/"
        },
        "id": "WDgNLL0qUNAF",
        "outputId": "2cce10f3-91eb-45b4-f36c-ef37f9884e31"
      },
      "source": [
        "from scipy.signal import convolve2d\n",
        "\n",
        "convolve2d(x, w, mode='valid')"
      ],
      "execution_count": 15,
      "outputs": [
        {
          "output_type": "execute_result",
          "data": {
            "text/plain": [
              "array([[10, 12],\n",
              "       [16, 18]])"
            ]
          },
          "metadata": {
            "tags": []
          },
          "execution_count": 15
        }
      ]
    },
    {
      "cell_type": "code",
      "metadata": {
        "colab": {
          "base_uri": "https://localhost:8080/"
        },
        "id": "U4Ozr2Q6UNEc",
        "outputId": "e2f5201a-de7f-4e2a-cb0e-64dd9e88bf33"
      },
      "source": [
        "correlate2d(x, w, mode='same')"
      ],
      "execution_count": 16,
      "outputs": [
        {
          "output_type": "execute_result",
          "data": {
            "text/plain": [
              "array([[ 2,  4,  6],\n",
              "       [ 8, 10, 12],\n",
              "       [14, 16, 18]])"
            ]
          },
          "metadata": {
            "tags": []
          },
          "execution_count": 16
        }
      ]
    },
    {
      "cell_type": "code",
      "metadata": {
        "id": "Co-t6JTWUNGq"
      },
      "source": [
        "import tensorflow as tf"
      ],
      "execution_count": 17,
      "outputs": []
    },
    {
      "cell_type": "code",
      "metadata": {
        "id": "0Ke-IvelUI5B"
      },
      "source": [
        "x_4d = x.astype(np.float).reshape(1, 3, 3, 1)\n",
        "w_4d = w.reshape(2, 2, 1, 1)"
      ],
      "execution_count": 18,
      "outputs": []
    },
    {
      "cell_type": "code",
      "metadata": {
        "colab": {
          "base_uri": "https://localhost:8080/"
        },
        "id": "PzRDJ8ZAUI62",
        "outputId": "8e70bab5-fdc7-4f1d-f495-88af01d068a3"
      },
      "source": [
        "c_out = tf.nn.conv2d(x_4d, w_4d, strides=1, padding='SAME')\n",
        "c_out.numpy().reshape(3, 3)"
      ],
      "execution_count": 19,
      "outputs": [
        {
          "output_type": "execute_result",
          "data": {
            "text/plain": [
              "array([[ 2.,  4.,  6.],\n",
              "       [ 8., 10., 12.],\n",
              "       [14., 16., 18.]])"
            ]
          },
          "metadata": {
            "tags": []
          },
          "execution_count": 19
        }
      ]
    },
    {
      "cell_type": "markdown",
      "metadata": {
        "id": "0iEvr2wjTbY0"
      },
      "source": [
        "***08-2 풀링***"
      ]
    },
    {
      "cell_type": "code",
      "metadata": {
        "id": "KlEz2nXIUZmC"
      },
      "source": [
        "x = np.array([[1, 2, 3, 4],\n",
        "              [5, 6, 7, 8],\n",
        "              [9, 10, 11, 12],\n",
        "              [13, 14, 15, 16]])\n",
        "x = x.reshape(1, 4, 4, 1)"
      ],
      "execution_count": 20,
      "outputs": []
    },
    {
      "cell_type": "code",
      "metadata": {
        "colab": {
          "base_uri": "https://localhost:8080/"
        },
        "id": "biQy3aFdUmqu",
        "outputId": "0dfd2601-67fe-4185-8b43-7661f60e8ff0"
      },
      "source": [
        "p_out = tf.nn.max_pool2d(x, ksize=2, strides=2, padding='VALID')\n",
        "p_out.numpy().reshape(2, 2)"
      ],
      "execution_count": 21,
      "outputs": [
        {
          "output_type": "execute_result",
          "data": {
            "text/plain": [
              "array([[ 6.,  8.],\n",
              "       [14., 16.]], dtype=float32)"
            ]
          },
          "metadata": {
            "tags": []
          },
          "execution_count": 21
        }
      ]
    },
    {
      "cell_type": "markdown",
      "metadata": {
        "id": "u1C-zRaMUnRT"
      },
      "source": [
        "***08-3 합성곱 신경망의 구조***"
      ]
    },
    {
      "cell_type": "code",
      "metadata": {
        "id": "Sme85FAsUnYD"
      },
      "source": [
        "def relu(x):\n",
        "    return np.maximum(x, 0)"
      ],
      "execution_count": 22,
      "outputs": []
    },
    {
      "cell_type": "code",
      "metadata": {
        "colab": {
          "base_uri": "https://localhost:8080/"
        },
        "id": "Qf7ms6GIUtmO",
        "outputId": "7b671743-eb5e-4508-ba4a-adc66443ee23"
      },
      "source": [
        "x = np.array([-1, 2, -3, 4, -5])\n",
        "\n",
        "relu(x)"
      ],
      "execution_count": 23,
      "outputs": [
        {
          "output_type": "execute_result",
          "data": {
            "text/plain": [
              "array([0, 2, 0, 4, 0])"
            ]
          },
          "metadata": {
            "tags": []
          },
          "execution_count": 23
        }
      ]
    },
    {
      "cell_type": "code",
      "metadata": {
        "colab": {
          "base_uri": "https://localhost:8080/"
        },
        "id": "2pxlRglEUtqa",
        "outputId": "adc9d1d0-0ab9-47a3-8235-7870a7cf730e"
      },
      "source": [
        "r_out = tf.nn.relu(x)\n",
        "r_out.numpy()"
      ],
      "execution_count": 24,
      "outputs": [
        {
          "output_type": "execute_result",
          "data": {
            "text/plain": [
              "array([0, 2, 0, 4, 0])"
            ]
          },
          "metadata": {
            "tags": []
          },
          "execution_count": 24
        }
      ]
    },
    {
      "cell_type": "markdown",
      "metadata": {
        "id": "OqvgiKxyUxFj"
      },
      "source": [
        "***08-4 합성곱 신경망 만들고 훈련***"
      ]
    },
    {
      "cell_type": "code",
      "metadata": {
        "id": "NVoKMyMQUxMs"
      },
      "source": [
        "import tensorflow as tf\n",
        "\n",
        "class ConvolutionNetwork:\n",
        "    \n",
        "    def __init__(self, n_kernels=10, units=10, batch_size=32, learning_rate=0.1):\n",
        "        self.n_kernels = n_kernels  # 합성곱의 커널 개수\n",
        "        self.kernel_size = 3        # 커널 크기\n",
        "        self.optimizer = None       # 옵티마이저\n",
        "        self.conv_w = None          # 합성곱 층의 가중치\n",
        "        self.conv_b = None          # 합성곱 층의 절편\n",
        "        self.units = units          # 은닉층의 뉴런 개수\n",
        "        self.batch_size = batch_size  # 배치 크기\n",
        "        self.w1 = None              # 은닉층의 가중치\n",
        "        self.b1 = None              # 은닉층의 절편\n",
        "        self.w2 = None              # 출력층의 가중치\n",
        "        self.b2 = None              # 출력층의 절편\n",
        "        self.a1 = None              # 은닉층의 활성화 출력\n",
        "        self.losses = []            # 훈련 손실\n",
        "        self.val_losses = []        # 검증 손실\n",
        "        self.lr = learning_rate     # 학습률\n",
        "\n",
        "    def forpass(self, x):\n",
        "        # 3x3 합성곱 연산을 수행합니다.\n",
        "        c_out = tf.nn.conv2d(x, self.conv_w, strides=1, padding='SAME') + self.conv_b\n",
        "        # 렐루 활성화 함수를 적용합니다.\n",
        "        r_out = tf.nn.relu(c_out)\n",
        "        # 2x2 최대 풀링을 적용합니다.\n",
        "        p_out = tf.nn.max_pool2d(r_out, ksize=2, strides=2, padding='VALID')\n",
        "        # 첫 번째 배치 차원을 제외하고 출력을 일렬로 펼칩니다.\n",
        "        f_out = tf.reshape(p_out, [x.shape[0], -1])\n",
        "        z1 = tf.matmul(f_out, self.w1) + self.b1     # 첫 번째 층의 선형 식을 계산합니다\n",
        "        a1 = tf.nn.relu(z1)                          # 활성화 함수를 적용합니다\n",
        "        z2 = tf.matmul(a1, self.w2) + self.b2        # 두 번째 층의 선형 식을 계산합니다.\n",
        "        return z2\n",
        "    \n",
        "    def init_weights(self, input_shape, n_classes):\n",
        "        g = tf.initializers.glorot_uniform()\n",
        "        self.conv_w = tf.Variable(g((3, 3, 1, self.n_kernels)))\n",
        "        self.conv_b = tf.Variable(np.zeros(self.n_kernels), dtype=float)\n",
        "        n_features = 14 * 14 * self.n_kernels\n",
        "        self.w1 = tf.Variable(g((n_features, self.units)))          # (특성 개수, 은닉층의 크기)\n",
        "        self.b1 = tf.Variable(np.zeros(self.units), dtype=float)    # 은닉층의 크기\n",
        "        self.w2 = tf.Variable(g((self.units, n_classes)))           # (은닉층의 크기, 클래스 개수)\n",
        "        self.b2 = tf.Variable(np.zeros(n_classes), dtype=float)     # 클래스 개수\n",
        "        \n",
        "    def fit(self, x, y, epochs=100, x_val=None, y_val=None):\n",
        "        self.init_weights(x.shape, y.shape[1])    # 은닉층과 출력층의 가중치를 초기화합니다.\n",
        "        self.optimizer = tf.optimizers.SGD(learning_rate=self.lr)\n",
        "        # epochs만큼 반복합니다.\n",
        "        for i in range(epochs):\n",
        "            print('에포크', i, end=' ')\n",
        "            # 제너레이터 함수에서 반환한 미니배치를 순환합니다.\n",
        "            batch_losses = []\n",
        "            for x_batch, y_batch in self.gen_batch(x, y):\n",
        "                print('.', end='')\n",
        "                self.training(x_batch, y_batch)\n",
        "                # 배치 손실을 기록합니다.\n",
        "                batch_losses.append(self.get_loss(x_batch, y_batch))\n",
        "            print()\n",
        "            # 배치 손실 평균내어 훈련 손실 값으로 저장합니다.\n",
        "            self.losses.append(np.mean(batch_losses))\n",
        "            # 검증 세트에 대한 손실을 계산합니다.\n",
        "            self.val_losses.append(self.get_loss(x_val, y_val))\n",
        "\n",
        "    # 미니배치 제너레이터 함수\n",
        "    def gen_batch(self, x, y):\n",
        "        bins = len(x) // self.batch_size                   # 미니배치 횟수\n",
        "        indexes = np.random.permutation(np.arange(len(x))) # 인덱스를 섞습니다.\n",
        "        x = x[indexes]\n",
        "        y = y[indexes]\n",
        "        for i in range(bins):\n",
        "            start = self.batch_size * i\n",
        "            end = self.batch_size * (i + 1)\n",
        "            yield x[start:end], y[start:end]   # batch_size만큼 슬라이싱하여 반환합니다.\n",
        "            \n",
        "    def training(self, x, y):\n",
        "        m = len(x)                    # 샘플 개수를 저장합니다.\n",
        "        with tf.GradientTape() as tape:\n",
        "            z = self.forpass(x)       # 정방향 계산을 수행합니다.\n",
        "            # 손실을 계산합니다.\n",
        "            loss = tf.nn.softmax_cross_entropy_with_logits(y, z)\n",
        "            loss = tf.reduce_mean(loss) #배치의 각 샘플에 대한 손실의 평균 계산\n",
        "\n",
        "        weights_list = [self.conv_w, self.conv_b,\n",
        "                        self.w1, self.b1, self.w2, self.b2]\n",
        "        # 가중치에 대한 그래디언트를 계산합니다.\n",
        "        grads = tape.gradient(loss, weights_list)\n",
        "        # 가중치를 업데이트합니다.\n",
        "        self.optimizer.apply_gradients(zip(grads, weights_list))\n",
        "   \n",
        "    def predict(self, x):\n",
        "        z = self.forpass(x)                 # 정방향 계산을 수행합니다.\n",
        "        return np.argmax(z.numpy(), axis=1) # 가장 큰 값의 인덱스를 반환합니다.\n",
        "    \n",
        "    def score(self, x, y):\n",
        "        # 예측과 타깃 열 벡터를 비교하여 True의 비율을 반환합니다.\n",
        "        return np.mean(self.predict(x) == np.argmax(y, axis=1))\n",
        "\n",
        "    def get_loss(self, x, y):\n",
        "        z = self.forpass(x)                 # 정방향 계산을 수행합니다.\n",
        "        # 손실을 계산하여 저장합니다.\n",
        "        loss = tf.reduce_mean(tf.nn.softmax_cross_entropy_with_logits(y, z))\n",
        "        return loss.numpy()"
      ],
      "execution_count": 25,
      "outputs": []
    },
    {
      "cell_type": "code",
      "metadata": {
        "colab": {
          "base_uri": "https://localhost:8080/"
        },
        "id": "9-MVlFBwU7Kt",
        "outputId": "30ceab25-a6c9-4a79-bafe-838221c9d307"
      },
      "source": [
        "x = tf.Variable(np.array([1.0, 2.0, 3.0]))\n",
        "with tf.GradientTape() as tape:\n",
        "    y = x ** 3 + 2 * x + 5\n",
        "\n",
        "# 그래디언트 계산\n",
        "print(tape.gradient(y, x))"
      ],
      "execution_count": 26,
      "outputs": [
        {
          "output_type": "stream",
          "text": [
            "tf.Tensor([ 5. 14. 29.], shape=(3,), dtype=float64)\n"
          ],
          "name": "stdout"
        }
      ]
    },
    {
      "cell_type": "code",
      "metadata": {
        "colab": {
          "base_uri": "https://localhost:8080/"
        },
        "id": "oC5A1nM8U7Mp",
        "outputId": "b837e9f9-1f57-41ee-dc67-c143c8348a40"
      },
      "source": [
        "x = tf.Variable(np.array([1.0, 2.0, 3.0]))\n",
        "with tf.GradientTape() as tape:\n",
        "    y = tf.nn.softmax(x)\n",
        "\n",
        "# 그래디언트를 계산합니다.\n",
        "print(tape.gradient(y, x))"
      ],
      "execution_count": 27,
      "outputs": [
        {
          "output_type": "stream",
          "text": [
            "tf.Tensor([1.99908031e-17 5.43406367e-17 1.47713165e-16], shape=(3,), dtype=float64)\n"
          ],
          "name": "stdout"
        }
      ]
    },
    {
      "cell_type": "code",
      "metadata": {
        "colab": {
          "base_uri": "https://localhost:8080/"
        },
        "id": "rnLlqY9YU7Ox",
        "outputId": "d35d4c94-daf7-4317-fcbf-493f022992a8"
      },
      "source": [
        "#1. 패션 MNIST 데이터 세트 불러오기\n",
        "(x_train_all, y_train_all), (x_test, y_test) = tf.keras.datasets.fashion_mnist.load_data()"
      ],
      "execution_count": 28,
      "outputs": [
        {
          "output_type": "stream",
          "text": [
            "Downloading data from https://storage.googleapis.com/tensorflow/tf-keras-datasets/train-labels-idx1-ubyte.gz\n",
            "32768/29515 [=================================] - 0s 0us/step\n",
            "Downloading data from https://storage.googleapis.com/tensorflow/tf-keras-datasets/train-images-idx3-ubyte.gz\n",
            "26427392/26421880 [==============================] - 0s 0us/step\n",
            "Downloading data from https://storage.googleapis.com/tensorflow/tf-keras-datasets/t10k-labels-idx1-ubyte.gz\n",
            "8192/5148 [===============================================] - 0s 0us/step\n",
            "Downloading data from https://storage.googleapis.com/tensorflow/tf-keras-datasets/t10k-images-idx3-ubyte.gz\n",
            "4423680/4422102 [==============================] - 0s 0us/step\n"
          ],
          "name": "stdout"
        }
      ]
    },
    {
      "cell_type": "code",
      "metadata": {
        "id": "ORJuRZCnU7RC"
      },
      "source": [
        "#2. 사이킷런으로 훈련 데이터 세트를 훈련 세트와 검증 세트로 나누기\n",
        "from sklearn.model_selection import train_test_split\n",
        "x_train, x_val, y_train, y_val = train_test_split(x_train_all, y_train_all, stratify=y_train_all, \n",
        "                                                  test_size=0.2, random_state=42)"
      ],
      "execution_count": 29,
      "outputs": []
    },
    {
      "cell_type": "code",
      "metadata": {
        "id": "Uc1TSlXtU7Sx"
      },
      "source": [
        "#3. 타깃을 원-핫 인코딩으로 변환하기\n",
        "y_train_encoded = tf.keras.utils.to_categorical(y_train)\n",
        "y_val_encoded = tf.keras.utils.to_categorical(y_val)"
      ],
      "execution_count": 30,
      "outputs": []
    },
    {
      "cell_type": "code",
      "metadata": {
        "id": "QHF902uoU7Tk"
      },
      "source": [
        "#4. 입력 데이터 준비하기\n",
        "x_train = x_train.reshape(-1, 28, 28, 1) #(샘플 수, 높이, 너비, 컬러채널) 컬러채널 : 흑백이므로 1\n",
        "x_val = x_val.reshape(-1, 28, 28, 1)"
      ],
      "execution_count": 31,
      "outputs": []
    },
    {
      "cell_type": "code",
      "metadata": {
        "colab": {
          "base_uri": "https://localhost:8080/"
        },
        "id": "FH-3o0rjU7VR",
        "outputId": "bddfef28-e343-46fb-a880-299cc7f27068"
      },
      "source": [
        "x_train.shape"
      ],
      "execution_count": 32,
      "outputs": [
        {
          "output_type": "execute_result",
          "data": {
            "text/plain": [
              "(48000, 28, 28, 1)"
            ]
          },
          "metadata": {
            "tags": []
          },
          "execution_count": 32
        }
      ]
    },
    {
      "cell_type": "code",
      "metadata": {
        "id": "VAy2jIYXU7XR"
      },
      "source": [
        "#5. 입력 데이터 표준화 전처리\n",
        "x_train = x_train / 255\n",
        "x_val = x_val / 255"
      ],
      "execution_count": 33,
      "outputs": []
    },
    {
      "cell_type": "code",
      "metadata": {
        "colab": {
          "base_uri": "https://localhost:8080/"
        },
        "id": "O773XwbJVLp7",
        "outputId": "7abe00a4-3377-42a4-9097-d09a036f9b63"
      },
      "source": [
        "#6. 모델 훈련\n",
        "cn = ConvolutionNetwork(n_kernels=10, units=100, batch_size=128, learning_rate=0.01)\n",
        "cn.fit(x_train, y_train_encoded, \n",
        "       x_val=x_val, y_val=y_val_encoded, epochs=20)"
      ],
      "execution_count": 34,
      "outputs": [
        {
          "output_type": "stream",
          "text": [
            "에포크 0 .......................................................................................................................................................................................................................................................................................................................................................................................\n",
            "에포크 1 .......................................................................................................................................................................................................................................................................................................................................................................................\n",
            "에포크 2 .......................................................................................................................................................................................................................................................................................................................................................................................\n",
            "에포크 3 .......................................................................................................................................................................................................................................................................................................................................................................................\n",
            "에포크 4 .......................................................................................................................................................................................................................................................................................................................................................................................\n",
            "에포크 5 .......................................................................................................................................................................................................................................................................................................................................................................................\n",
            "에포크 6 .......................................................................................................................................................................................................................................................................................................................................................................................\n",
            "에포크 7 .......................................................................................................................................................................................................................................................................................................................................................................................\n",
            "에포크 8 .......................................................................................................................................................................................................................................................................................................................................................................................\n",
            "에포크 9 .......................................................................................................................................................................................................................................................................................................................................................................................\n",
            "에포크 10 .......................................................................................................................................................................................................................................................................................................................................................................................\n",
            "에포크 11 .......................................................................................................................................................................................................................................................................................................................................................................................\n",
            "에포크 12 .......................................................................................................................................................................................................................................................................................................................................................................................\n",
            "에포크 13 .......................................................................................................................................................................................................................................................................................................................................................................................\n",
            "에포크 14 .......................................................................................................................................................................................................................................................................................................................................................................................\n",
            "에포크 15 .......................................................................................................................................................................................................................................................................................................................................................................................\n",
            "에포크 16 .......................................................................................................................................................................................................................................................................................................................................................................................\n",
            "에포크 17 .......................................................................................................................................................................................................................................................................................................................................................................................\n",
            "에포크 18 .......................................................................................................................................................................................................................................................................................................................................................................................\n",
            "에포크 19 .......................................................................................................................................................................................................................................................................................................................................................................................\n"
          ],
          "name": "stdout"
        }
      ]
    },
    {
      "cell_type": "code",
      "metadata": {
        "id": "XCF3_G5qVQYw"
      },
      "source": [
        "import matplotlib.pyplot as plt"
      ],
      "execution_count": 35,
      "outputs": []
    },
    {
      "cell_type": "code",
      "metadata": {
        "colab": {
          "base_uri": "https://localhost:8080/",
          "height": 279
        },
        "id": "zraBDGgLVQrQ",
        "outputId": "3ceb416d-2727-4c39-9ba4-e9e682466229"
      },
      "source": [
        "#7. 훈련, 검증 손실 그래프와 검증 세트의 정확도 확인\n",
        "plt.plot(cn.losses)\n",
        "plt.plot(cn.val_losses)\n",
        "plt.ylabel('loss')\n",
        "plt.xlabel('iteration')\n",
        "plt.legend(['train_loss', 'val_loss'])\n",
        "plt.show()"
      ],
      "execution_count": 36,
      "outputs": [
        {
          "output_type": "display_data",
          "data": {
            "image/png": "[encoded data removed]",
            "text/plain": [
              "<Figure size 432x288 with 1 Axes>"
            ]
          },
          "metadata": {
            "tags": [],
            "needs_background": "light"
          }
        }
      ]
    },
    {
      "cell_type": "code",
      "metadata": {
        "colab": {
          "base_uri": "https://localhost:8080/"
        },
        "id": "hKrXZ58JVUG5",
        "outputId": "5476fd98-404d-43ab-cdbe-99bfa7ae22e1"
      },
      "source": [
        "cn.score(x_val, y_val_encoded)"
      ],
      "execution_count": 37,
      "outputs": [
        {
          "output_type": "execute_result",
          "data": {
            "text/plain": [
              "0.87225"
            ]
          },
          "metadata": {
            "tags": []
          },
          "execution_count": 37
        }
      ]
    },
    {
      "cell_type": "markdown",
      "metadata": {
        "id": "x91e4wDOVUoC"
      },
      "source": [
        "***08-5 케라스로 합성곱 신경망 만들기***"
      ]
    },
    {
      "cell_type": "code",
      "metadata": {
        "id": "0ZPR-i07VUvI"
      },
      "source": [
        "from tensorflow.keras.layers import Conv2D, MaxPooling2D, Flatten, Dense"
      ],
      "execution_count": 38,
      "outputs": []
    },
    {
      "cell_type": "code",
      "metadata": {
        "id": "b4-kNM6qVbkp"
      },
      "source": [
        "conv1 = tf.keras.Sequential()\n",
        "conv1.add(Conv2D(10, (3, 3), activation='relu', padding='same', input_shape=(28, 28, 1))) #합성곱층\n",
        "conv1.add(MaxPooling2D((2, 2))) #풀링층\n",
        "conv1.add(Flatten()) #완전연결층에 주입할 수 있도록 특성 맵 펼치기\n",
        "conv1.add(Dense(100, activation='relu')) #첫 번째 완전 연결층\n",
        "conv1.add(Dense(10, activation='softmax')) #두 번째 완전 연결층"
      ],
      "execution_count": 39,
      "outputs": []
    },
    {
      "cell_type": "code",
      "metadata": {
        "colab": {
          "base_uri": "https://localhost:8080/"
        },
        "id": "JbEY7pByVbmg",
        "outputId": "ba55d176-b52a-4bb2-df6b-93deccd6c5d9"
      },
      "source": [
        "#conv1의 구조 자세히 조사\n",
        "conv1.summary()"
      ],
      "execution_count": 40,
      "outputs": [
        {
          "output_type": "stream",
          "text": [
            "Model: \"sequential\"\n",
            "_________________________________________________________________\n",
            "Layer (type)                 Output Shape              Param #   \n",
            "=================================================================\n",
            "conv2d (Conv2D)              (None, 28, 28, 10)        100       \n",
            "_________________________________________________________________\n",
            "max_pooling2d (MaxPooling2D) (None, 14, 14, 10)        0         \n",
            "_________________________________________________________________\n",
            "flatten (Flatten)            (None, 1960)              0         \n",
            "_________________________________________________________________\n",
            "dense (Dense)                (None, 100)               196100    \n",
            "_________________________________________________________________\n",
            "dense_1 (Dense)              (None, 10)                1010      \n",
            "=================================================================\n",
            "Total params: 197,210\n",
            "Trainable params: 197,210\n",
            "Non-trainable params: 0\n",
            "_________________________________________________________________\n"
          ],
          "name": "stdout"
        }
      ]
    },
    {
      "cell_type": "code",
      "metadata": {
        "id": "Q7NHsqQPVbpF"
      },
      "source": [
        "conv1.compile(optimizer='adam', loss='categorical_crossentropy', #아담 옵티마이저 사용\n",
        "              metrics=['accuracy'])"
      ],
      "execution_count": 41,
      "outputs": []
    },
    {
      "cell_type": "code",
      "metadata": {
        "colab": {
          "base_uri": "https://localhost:8080/"
        },
        "id": "YCNlfu4gVbrS",
        "outputId": "76dae927-3a7f-4776-d70e-ebb3390f0d2a"
      },
      "source": [
        "history = conv1.fit(x_train, y_train_encoded, epochs=20, \n",
        "                    validation_data=(x_val, y_val_encoded))"
      ],
      "execution_count": 42,
      "outputs": [
        {
          "output_type": "stream",
          "text": [
            "Epoch 1/20\n",
            "1500/1500 [==============================] - 23s 15ms/step - loss: 0.4422 - accuracy: 0.8435 - val_loss: 0.3311 - val_accuracy: 0.8808\n",
            "Epoch 2/20\n",
            "1500/1500 [==============================] - 22s 15ms/step - loss: 0.3064 - accuracy: 0.8894 - val_loss: 0.2981 - val_accuracy: 0.8935\n",
            "Epoch 3/20\n",
            "1500/1500 [==============================] - 22s 15ms/step - loss: 0.2618 - accuracy: 0.9032 - val_loss: 0.2641 - val_accuracy: 0.9049\n",
            "Epoch 4/20\n",
            "1500/1500 [==============================] - 28s 19ms/step - loss: 0.2292 - accuracy: 0.9157 - val_loss: 0.2540 - val_accuracy: 0.9111\n",
            "Epoch 5/20\n",
            "1500/1500 [==============================] - 29s 20ms/step - loss: 0.2048 - accuracy: 0.9245 - val_loss: 0.2474 - val_accuracy: 0.9107\n",
            "Epoch 6/20\n",
            "1500/1500 [==============================] - 29s 20ms/step - loss: 0.1841 - accuracy: 0.9324 - val_loss: 0.2465 - val_accuracy: 0.9154\n",
            "Epoch 7/20\n",
            "1500/1500 [==============================] - 29s 20ms/step - loss: 0.1647 - accuracy: 0.9386 - val_loss: 0.2435 - val_accuracy: 0.9173\n",
            "Epoch 8/20\n",
            "1500/1500 [==============================] - 29s 20ms/step - loss: 0.1453 - accuracy: 0.9470 - val_loss: 0.2600 - val_accuracy: 0.9132\n",
            "Epoch 9/20\n",
            "1500/1500 [==============================] - 29s 20ms/step - loss: 0.1317 - accuracy: 0.9511 - val_loss: 0.2612 - val_accuracy: 0.9162\n",
            "Epoch 10/20\n",
            "1500/1500 [==============================] - 29s 19ms/step - loss: 0.1170 - accuracy: 0.9569 - val_loss: 0.2820 - val_accuracy: 0.9107\n",
            "Epoch 11/20\n",
            "1500/1500 [==============================] - 29s 19ms/step - loss: 0.1042 - accuracy: 0.9619 - val_loss: 0.2856 - val_accuracy: 0.9118\n",
            "Epoch 12/20\n",
            "1500/1500 [==============================] - 29s 20ms/step - loss: 0.0928 - accuracy: 0.9661 - val_loss: 0.2812 - val_accuracy: 0.9181\n",
            "Epoch 13/20\n",
            "1500/1500 [==============================] - 29s 20ms/step - loss: 0.0815 - accuracy: 0.9704 - val_loss: 0.2958 - val_accuracy: 0.9180\n",
            "Epoch 14/20\n",
            "1500/1500 [==============================] - 32s 21ms/step - loss: 0.0750 - accuracy: 0.9737 - val_loss: 0.3588 - val_accuracy: 0.9079\n",
            "Epoch 15/20\n",
            "1500/1500 [==============================] - 36s 24ms/step - loss: 0.0642 - accuracy: 0.9779 - val_loss: 0.3340 - val_accuracy: 0.9151\n",
            "Epoch 16/20\n",
            "1500/1500 [==============================] - 36s 24ms/step - loss: 0.0583 - accuracy: 0.9791 - val_loss: 0.3452 - val_accuracy: 0.9137\n",
            "Epoch 17/20\n",
            "1500/1500 [==============================] - 40s 27ms/step - loss: 0.0521 - accuracy: 0.9816 - val_loss: 0.3709 - val_accuracy: 0.9106\n",
            "Epoch 18/20\n",
            "1500/1500 [==============================] - 34s 22ms/step - loss: 0.0470 - accuracy: 0.9834 - val_loss: 0.3682 - val_accuracy: 0.9165\n",
            "Epoch 19/20\n",
            "1500/1500 [==============================] - 32s 21ms/step - loss: 0.0429 - accuracy: 0.9849 - val_loss: 0.4008 - val_accuracy: 0.9142\n",
            "Epoch 20/20\n",
            "1500/1500 [==============================] - 32s 21ms/step - loss: 0.0377 - accuracy: 0.9866 - val_loss: 0.4562 - val_accuracy: 0.9076\n"
          ],
          "name": "stdout"
        }
      ]
    },
    {
      "cell_type": "code",
      "metadata": {
        "colab": {
          "base_uri": "https://localhost:8080/",
          "height": 279
        },
        "id": "Fi2Tg1vlVmSq",
        "outputId": "8d819c4b-e50a-4240-80e9-5c77d36f5e0e"
      },
      "source": [
        "plt.plot(history.history['loss'])\n",
        "plt.plot(history.history['val_loss'])\n",
        "plt.ylabel('loss')\n",
        "plt.xlabel('epoch')\n",
        "plt.legend(['train_loss', 'val_loss'])\n",
        "plt.show()"
      ],
      "execution_count": 43,
      "outputs": [
        {
          "output_type": "display_data",
          "data": {
            "image/png": "[encoded data removed]",
            "text/plain": [
              "<Figure size 432x288 with 1 Axes>"
            ]
          },
          "metadata": {
            "tags": [],
            "needs_background": "light"
          }
        }
      ]
    },
    {
      "cell_type": "code",
      "metadata": {
        "colab": {
          "base_uri": "https://localhost:8080/",
          "height": 279
        },
        "id": "XkyHV1t3VmU-",
        "outputId": "646a09fe-80e8-4428-a0d6-0e6c9c8d1274"
      },
      "source": [
        "plt.plot(history.history['accuracy'])\n",
        "plt.plot(history.history['val_accuracy'])\n",
        "plt.ylabel('accuracy')\n",
        "plt.xlabel('epoch')\n",
        "plt.legend(['train_accuracy', 'val_accuracy'])\n",
        "plt.show()"
      ],
      "execution_count": 44,
      "outputs": [
        {
          "output_type": "display_data",
          "data": {
            "image/png": "[encoded data removed]",
            "text/plain": [
              "<Figure size 432x288 with 1 Axes>"
            ]
          },
          "metadata": {
            "tags": [],
            "needs_background": "light"
          }
        }
      ]
    },
    {
      "cell_type": "code",
      "metadata": {
        "id": "ObFgcRboVmXB"
      },
      "source": [
        "loss, accuracy = conv1.evaluate(x_val, y_val_encoded, verbose=0)"
      ],
      "execution_count": 45,
      "outputs": []
    },
    {
      "cell_type": "code",
      "metadata": {
        "colab": {
          "base_uri": "https://localhost:8080/"
        },
        "id": "PBu1GpabVqYm",
        "outputId": "e95eff49-ec2d-4232-8d41-0860e31d126f"
      },
      "source": [
        "print(accuracy)"
      ],
      "execution_count": 46,
      "outputs": [
        {
          "output_type": "stream",
          "text": [
            "0.9075833559036255\n"
          ],
          "name": "stdout"
        }
      ]
    },
    {
      "cell_type": "markdown",
      "metadata": {
        "id": "XOynIR39nkwy"
      },
      "source": [
        "**드롭 아웃** : 무작위로 일부 뉴런을 비활성화 시켜, 특정 뉴런에 과도하게 의존하여 훈련하는 것을 예방해 과대 적합 발생 감소"
      ]
    },
    {
      "cell_type": "code",
      "metadata": {
        "id": "kLgiAS6uVqa5"
      },
      "source": [
        "from tensorflow.keras.layers import Dropout"
      ],
      "execution_count": 47,
      "outputs": []
    },
    {
      "cell_type": "code",
      "metadata": {
        "id": "o2OPp2e4Vqc4"
      },
      "source": [
        "conv2 = tf.keras.Sequential()\n",
        "conv2.add(Conv2D(10, (3, 3), activation='relu', padding='same', input_shape=(28, 28, 1)))\n",
        "conv2.add(MaxPooling2D((2, 2)))\n",
        "conv2.add(Flatten())\n",
        "conv2.add(Dropout(0.5)) #드롭아웃층 추가\n",
        "conv2.add(Dense(100, activation='relu'))\n",
        "conv2.add(Dense(10, activation='softmax'))"
      ],
      "execution_count": 48,
      "outputs": []
    },
    {
      "cell_type": "code",
      "metadata": {
        "colab": {
          "base_uri": "https://localhost:8080/"
        },
        "id": "ByWnH3WgVqe0",
        "outputId": "34dbd0a3-bc2f-4714-9d21-2f6f406e3fc3"
      },
      "source": [
        "#드롭아웃층 확인하기 : 훈련되는 가중치가 없고, 텐서의 차원을 바꾸지 않는다.\n",
        "conv2.summary()"
      ],
      "execution_count": 49,
      "outputs": [
        {
          "output_type": "stream",
          "text": [
            "Model: \"sequential_1\"\n",
            "_________________________________________________________________\n",
            "Layer (type)                 Output Shape              Param #   \n",
            "=================================================================\n",
            "conv2d_1 (Conv2D)            (None, 28, 28, 10)        100       \n",
            "_________________________________________________________________\n",
            "max_pooling2d_1 (MaxPooling2 (None, 14, 14, 10)        0         \n",
            "_________________________________________________________________\n",
            "flatten_1 (Flatten)          (None, 1960)              0         \n",
            "_________________________________________________________________\n",
            "dropout (Dropout)            (None, 1960)              0         \n",
            "_________________________________________________________________\n",
            "dense_2 (Dense)              (None, 100)               196100    \n",
            "_________________________________________________________________\n",
            "dense_3 (Dense)              (None, 10)                1010      \n",
            "=================================================================\n",
            "Total params: 197,210\n",
            "Trainable params: 197,210\n",
            "Non-trainable params: 0\n",
            "_________________________________________________________________\n"
          ],
          "name": "stdout"
        }
      ]
    },
    {
      "cell_type": "code",
      "metadata": {
        "id": "ka2h4jecVv2c"
      },
      "source": [
        "conv2.compile(optimizer='adam', loss='categorical_crossentropy',\n",
        "              metrics=['accuracy'])"
      ],
      "execution_count": 50,
      "outputs": []
    },
    {
      "cell_type": "code",
      "metadata": {
        "colab": {
          "base_uri": "https://localhost:8080/"
        },
        "id": "h--7YOx6Vv9g",
        "outputId": "c243a583-fc24-4f4c-ec4a-f06f231189c2"
      },
      "source": [
        "history = conv2.fit(x_train, y_train_encoded, epochs=20, \n",
        "                    validation_data=(x_val, y_val_encoded))"
      ],
      "execution_count": 51,
      "outputs": [
        {
          "output_type": "stream",
          "text": [
            "Epoch 1/20\n",
            "1500/1500 [==============================] - 23s 15ms/step - loss: 0.5067 - accuracy: 0.8171 - val_loss: 0.3524 - val_accuracy: 0.8749\n",
            "Epoch 2/20\n",
            "1500/1500 [==============================] - 23s 15ms/step - loss: 0.3614 - accuracy: 0.8673 - val_loss: 0.3096 - val_accuracy: 0.8878\n",
            "Epoch 3/20\n",
            "1500/1500 [==============================] - 23s 15ms/step - loss: 0.3257 - accuracy: 0.8804 - val_loss: 0.2842 - val_accuracy: 0.8957\n",
            "Epoch 4/20\n",
            "1500/1500 [==============================] - 23s 15ms/step - loss: 0.3045 - accuracy: 0.8885 - val_loss: 0.2622 - val_accuracy: 0.9050\n",
            "Epoch 5/20\n",
            "1500/1500 [==============================] - 23s 15ms/step - loss: 0.2861 - accuracy: 0.8924 - val_loss: 0.2635 - val_accuracy: 0.9016\n",
            "Epoch 6/20\n",
            "1500/1500 [==============================] - 23s 15ms/step - loss: 0.2704 - accuracy: 0.8982 - val_loss: 0.2484 - val_accuracy: 0.9089\n",
            "Epoch 7/20\n",
            "1500/1500 [==============================] - 23s 15ms/step - loss: 0.2557 - accuracy: 0.9035 - val_loss: 0.2478 - val_accuracy: 0.9087\n",
            "Epoch 8/20\n",
            "1500/1500 [==============================] - 22s 15ms/step - loss: 0.2462 - accuracy: 0.9079 - val_loss: 0.2466 - val_accuracy: 0.9088\n",
            "Epoch 9/20\n",
            "1500/1500 [==============================] - 23s 15ms/step - loss: 0.2375 - accuracy: 0.9110 - val_loss: 0.2308 - val_accuracy: 0.9158\n",
            "Epoch 10/20\n",
            "1500/1500 [==============================] - 23s 15ms/step - loss: 0.2304 - accuracy: 0.9129 - val_loss: 0.2406 - val_accuracy: 0.9112\n",
            "Epoch 11/20\n",
            "1500/1500 [==============================] - 23s 15ms/step - loss: 0.2204 - accuracy: 0.9175 - val_loss: 0.2343 - val_accuracy: 0.9119\n",
            "Epoch 12/20\n",
            "1500/1500 [==============================] - 23s 15ms/step - loss: 0.2158 - accuracy: 0.9182 - val_loss: 0.2246 - val_accuracy: 0.9204\n",
            "Epoch 13/20\n",
            "1500/1500 [==============================] - 23s 15ms/step - loss: 0.2087 - accuracy: 0.9214 - val_loss: 0.2274 - val_accuracy: 0.9192\n",
            "Epoch 14/20\n",
            "1500/1500 [==============================] - 23s 15ms/step - loss: 0.2000 - accuracy: 0.9254 - val_loss: 0.2243 - val_accuracy: 0.9206\n",
            "Epoch 15/20\n",
            "1500/1500 [==============================] - 23s 15ms/step - loss: 0.1966 - accuracy: 0.9251 - val_loss: 0.2238 - val_accuracy: 0.9200\n",
            "Epoch 16/20\n",
            "1500/1500 [==============================] - 23s 15ms/step - loss: 0.1912 - accuracy: 0.9267 - val_loss: 0.2254 - val_accuracy: 0.9205\n",
            "Epoch 17/20\n",
            "1500/1500 [==============================] - 23s 15ms/step - loss: 0.1865 - accuracy: 0.9299 - val_loss: 0.2330 - val_accuracy: 0.9184\n",
            "Epoch 18/20\n",
            "1500/1500 [==============================] - 23s 15ms/step - loss: 0.1868 - accuracy: 0.9294 - val_loss: 0.2240 - val_accuracy: 0.9208\n",
            "Epoch 19/20\n",
            "1500/1500 [==============================] - 23s 15ms/step - loss: 0.1776 - accuracy: 0.9324 - val_loss: 0.2264 - val_accuracy: 0.9222\n",
            "Epoch 20/20\n",
            "1500/1500 [==============================] - 23s 15ms/step - loss: 0.1783 - accuracy: 0.9317 - val_loss: 0.2292 - val_accuracy: 0.9206\n"
          ],
          "name": "stdout"
        }
      ]
    },
    {
      "cell_type": "code",
      "metadata": {
        "colab": {
          "base_uri": "https://localhost:8080/",
          "height": 279
        },
        "id": "kXMjukvMVv_r",
        "outputId": "61707905-748d-4739-a5e8-b4af8dcad7b8"
      },
      "source": [
        "plt.plot(history.history['loss'])\n",
        "plt.plot(history.history['val_loss'])\n",
        "plt.ylabel('loss')\n",
        "plt.xlabel('epoch')\n",
        "plt.legend(['train_loss', 'val_loss'])\n",
        "plt.show()"
      ],
      "execution_count": 52,
      "outputs": [
        {
          "output_type": "display_data",
          "data": {
            "image/png": "[encoded data removed]",
            "text/plain": [
              "<Figure size 432x288 with 1 Axes>"
            ]
          },
          "metadata": {
            "tags": [],
            "needs_background": "light"
          }
        }
      ]
    },
    {
      "cell_type": "code",
      "metadata": {
        "colab": {
          "base_uri": "https://localhost:8080/",
          "height": 279
        },
        "id": "roHcTzViVmch",
        "outputId": "91051b48-a519-4685-f50d-cd3f21fcb633"
      },
      "source": [
        "plt.plot(history.history['accuracy'])\n",
        "plt.plot(history.history['val_accuracy'])\n",
        "plt.ylabel('accuracy')\n",
        "plt.xlabel('epoch')\n",
        "plt.legend(['train_accuracy', 'val_accuracy'])\n",
        "plt.show()"
      ],
      "execution_count": 53,
      "outputs": [
        {
          "output_type": "display_data",
          "data": {
            "image/png": "[encoded data removed]",
            "text/plain": [
              "<Figure size 432x288 with 1 Axes>"
            ]
          },
          "metadata": {
            "tags": [],
            "needs_background": "light"
          }
        }
      ]
    },
    {
      "cell_type": "code",
      "metadata": {
        "id": "WkPVs29aV2Ko"
      },
      "source": [
        "loss, accuracy = conv2.evaluate(x_val, y_val_encoded, verbose=0)"
      ],
      "execution_count": 54,
      "outputs": []
    },
    {
      "cell_type": "code",
      "metadata": {
        "colab": {
          "base_uri": "https://localhost:8080/"
        },
        "id": "6fQuGAFKV2NI",
        "outputId": "5aa62156-9294-4bbc-d16f-bc471c4ded03"
      },
      "source": [
        "print(accuracy)"
      ],
      "execution_count": 55,
      "outputs": [
        {
          "output_type": "stream",
          "text": [
            "0.9205833077430725\n"
          ],
          "name": "stdout"
        }
      ]
    }
  ]
}