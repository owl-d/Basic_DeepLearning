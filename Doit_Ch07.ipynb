{
  "nbformat": 4,
  "nbformat_minor": 0,
  "metadata": {
    "colab": {
      "name": "Doit_Ch07.ipynb",
      "provenance": [],
      "collapsed_sections": [],
      "authorship_tag": "ABX9TyMnzcF8l8ud5q7joFAgSSvN",
      "include_colab_link": true
    },
    "kernelspec": {
      "name": "python3",
      "display_name": "Python 3"
    },
    "language_info": {
      "name": "python"
    }
  },
  "cells": [
    {
      "cell_type": "markdown",
      "metadata": {
        "id": "view-in-github",
        "colab_type": "text"
      },
      "source": [
        "<a href=\"https://colab.research.google.com/github/owl-d/Basic_DeepLearning/blob/main/Doit_Ch07.ipynb\" target=\"_parent\"><img src=\"https://colab.research.google.com/assets/colab-badge.svg\" alt=\"Open In Colab\"/></a>"
      ]
    },
    {
      "cell_type": "markdown",
      "metadata": {
        "id": "h4YVJT4Z12t_"
      },
      "source": [
        "# 07 다중 분류"
      ]
    },
    {
      "cell_type": "markdown",
      "metadata": {
        "id": "MbIY6c_r1-F1"
      },
      "source": [
        "***07-1 다중 분류하는 다층 신경망***"
      ]
    },
    {
      "cell_type": "code",
      "metadata": {
        "id": "_ZXg3Q7D10O_"
      },
      "source": [
        "#06장에서 다룬 class 모음\n",
        "\n",
        "import numpy as np\n",
        "\n",
        "class SingleLayer:\n",
        "\n",
        "  def __init__(self, learning_rate=0.1, l1=0, l2=0):\n",
        "    self.w = None\n",
        "    self.b = None\n",
        "    self.losses = []\n",
        "    self.val_losses = []\n",
        "    self.w_history = []\n",
        "    self.lr = learning_rate\n",
        "    self.l1 = l1\n",
        "    self.l2 = l2\n",
        "\n",
        "  def forpass(self, x): #정방향 계산\n",
        "    z = np.dot(x, self.w) + self.b\n",
        "    return z\n",
        "\n",
        "  def backprop(self, x, err): #역방향 계산\n",
        "    m = len(x)                    #샘플의 개수\n",
        "    w_grad = np.dot(x.T, err) / m #가중치에 대한 평균 그레디언트\n",
        "    b_grad = np.sum(err) / m      #절편에 대한 평균 그레디언트\n",
        "    return w_grad, b_grad\n",
        "\n",
        "  def activation(self, z):  #활성화 함수 메서드\n",
        "    z = np.clip(z, -100, None)\n",
        "    a = 1 / (1 + np.exp(-z))  #시그모이드 계산\n",
        "    return a\n",
        "\n",
        "  def fit(self, x, y, epochs=100, x_val=None, y_val=None):  #forpass(), backprop() 메서드에서 전체 샘플 한 번에 계산하므로 각 샘플에 대한 두 번쨰 for문 사라짐\n",
        "    y = y.reshape(-1, 1)  #target을 열 벡터로 바꾼다.\n",
        "    y_val = y_val.reshape(-1, 1)\n",
        "    m = len(x)            #샘플 개수\n",
        "    self.w = np.ones((x.shape[1], 1))  #가중치 초기화\n",
        "    self.b = 0                    #절편 초기화\n",
        "    self.w_history.append(self.w.copy()) #가중치 기록\n",
        "    for i in range(epochs):\n",
        "      z = self.forpass(x)   #정방향 계산\n",
        "      a = self.activation(z)   #활성화 함수 적용\n",
        "      err = -(y - a)        #오차 계산\n",
        "      w_grad, b_grad = self.backprop(x, err)  #역방향 계산\n",
        "      w_grad += (self.l1 * np.sign(self.w) + self.l2 * self.w) / m #L1규제와 L2규제 하나의 식으로 작성\n",
        "      self.w -= self.lr * w_grad\n",
        "      self.b -= self.lr * b_grad\n",
        "      self.w_history.append(self.w.copy())\n",
        "      a = np.clip(a, 1e-10, 1-1e-10)  #안전한 로그 계산 위해 클리핑 한 후 손실 누적\n",
        "      \n",
        "      loss = np.sum(-(y*np.log(a) + (1-y)*np.log(1-a)))\n",
        "      self.losses.append((loss + self.reg_loss()) / m) #로그 손실과 규제 손실 더해 리스트에 추가\n",
        "\n",
        "      self.update_val_loss(x_val, y_val) #검증 세트에 대한 손실 계산\n",
        "\n",
        "  def predict(self, x):\n",
        "    z = self.forpass(x)  #정방향 계산\n",
        "    return z > 0         #계단 함수 적용(sigmoid 함수 적용하지 않아도 z의 값으로 알 수 있음)\n",
        "\n",
        "  def score(self, x, y):  #모델의 정확도\n",
        "    return np.mean(self.predict(x)==y.reshape(-1, 1)) #예측과 타깃 열 벡터 비교해 True의 비율 반환\n",
        "\n",
        "  def reg_loss(self): #가중치에 규제 적용\n",
        "    return self.l1 * np.sum(np.abs(self.w)) + self.l2 / 2 * np.sum(self.w**2)\n",
        "\n",
        "  def update_val_loss(self, x_val, y_val): #검증 세트 손실 계산\n",
        "    z = self.forpass(x_val) #정방향 계산\n",
        "    a = self.activation(z)     #활성화 함수 적용\n",
        "    a = np.clip(a, 1e-10, 1-1e-10) #출력값 클리핑\n",
        "    val_loss = np.sum(-(y_val*np.log(a) + (1-y_val)*np.log(1-a))) #로지스틱 손실 함수의 값 계산\n",
        "    self.val_losses.append((val_loss + self.reg_loss()) / len(y_val)) #계산한 손실 함수 값 추가(L1, L2 규제 패널티 함수 포함)\n",
        "\n",
        "class DualLayer(SingleLayer):\n",
        "\n",
        "  def __init__(self, units=10, learning_rate=0.1, l1=0, l2=0):\n",
        "    self.units = units    #은닉층의 뉴런 개수\n",
        "    self.w1 = None\n",
        "    self.b1 = None\n",
        "    self.w2 = None\n",
        "    self.b2 = None\n",
        "    self.a1 = None\n",
        "    self.losses = []      #훈련 손실\n",
        "    self.val_losses = []  #검증 손실\n",
        "    self.lr = learning_rate\n",
        "    self.l1 = l1\n",
        "    self.l2 = l2\n",
        "\n",
        "  def forpass(self, x):\n",
        "    z1 = np.dot(x, self.w1) + self.b1       #첫 번째 층의 선형식 계산\n",
        "    self.a1 = self.activation(z1)           #활성화 함수 적용(SingleLayer클래스로부터 상속)\n",
        "    z2 = np.dot(self.a1, self.w2) + self.b2 #두 번째 층의 선형식 계산\n",
        "    return z2\n",
        "\n",
        "  def backprop(self, x, err):\n",
        "    m = len(x)      #샘플 개수\n",
        "    #출력층의 가중치, 절편에 대한 gradient 계산\n",
        "    w2_grad = np.dot(self.a1.T, err) / m\n",
        "    b2_grad = np.sum(err) / m\n",
        "    #sigmoid 함수까지 gradient 계산\n",
        "    err_to_hidden = np.dot(err, self.w2.T) * self.a1 * (1-self.a1)\n",
        "    #은닉층의 가중치, 절편에 대한 gradient 계산\n",
        "    w1_grad = np.dot(x.T, err_to_hidden) / m\n",
        "    b1_grad = np.sum(err_to_hidden, axis=0) / m\n",
        "    return w1_grad, b1_grad, w2_grad, b2_grad\n",
        "\n",
        "  #SingleLayer에서는 fit() 메서드를 한 덩어리로 작성했지만, DualLayer 클래스의 fit() 메서드는 3개의 작은 메서드로 쪼갠다.\n",
        "  #1. 은닉층과 출력층의 가중치, 절편을 초기화\n",
        "  #2. 에포크마다 정방향 계산 수행해 오차 계산\n",
        "  #3. 오차 역전파해 가중치와 절편의 그레디언트 계산 및 업데이트\n",
        "  #4. 손실 계산하여 누적\n",
        "\n",
        "  def init_weights(self, n_features): #1\n",
        "    self.w1 = np.ones((n_features, self.units)) #(특성 개수, 은닉층의 크기)\n",
        "    self.b1 = np.zeros(self.units)              #은닉층의 크기\n",
        "    self.w2 = np.ones((self.units, 1))          #(은닉층의 크기, 1(=출력층의 크기))\n",
        "    self.b2 = 0\n",
        "\n",
        "  def fit(self, x, y, epochs=100, x_val=None, y_val=None): #4\n",
        "    y = y.reshape(-1, 1)               #타깃을 열벡터로 바꾼다.\n",
        "    y_val = y_val.reshape(-1, 1)\n",
        "    m = len(y)                        #샘플 개수\n",
        "    self.init_weights(x.shape[1])     #은닉층, 출력층의 가중치 초기화\n",
        "    for i in range(epochs):\n",
        "      a = self.training(x, y, m)      #fit() 메서드의 for문 안에 있는 코드 중 일부를 training 메서드로 분리\n",
        "      a = np.clip(a, 1e-10, 1-1e-10)  #안전한 로그 계산 위해 클리핑\n",
        "      loss = np.sum(-(y*np.log(a) + (1-y)*np.log(1-a))) #로그 손실\n",
        "      self.losses.append((loss + self.reg_loss()) / m)  #로그 손실과 규제 손실 더해 리스트에 추가\n",
        "      self.update_val_loss(x_val, y_val)                #검증 세트에 대한 손실 계산\n",
        "\n",
        "  def training(self, x, y, m): #2,3\n",
        "    z = self.forpass(x)       #정방향 계산 수행\n",
        "    a = self.activation(z)    #활성화 함수 적용\n",
        "    err = -(y - a)            #오차 계산\n",
        "    w1_grad, b1_grad, w2_grad, b2_grad = self.backprop(x, err)      #오차 역전파 해 그레디언트 계산\n",
        "    w1_grad += (self.l1 * np.sign(self.w1) + self.l2 * self.w1) / m\n",
        "    w2_grad += (self.l1 * np.sign(self.w2) + self.l2 * self.w2) / m #그레디언트에서 패널티 항 미분값 뺀다\n",
        "    self.w1 -= self.lr * w1_grad\n",
        "    self.b1 -= self.lr * b1_grad  #은닉층 업데이트\n",
        "    self.w2 -= self.lr * w2_grad\n",
        "    self.b2 -= self.lr * b2_grad  #출력층 업데이트\n",
        "    return a  #출력층의 활성화 출력 a 반환\n",
        "\n",
        "  def reg_loss(self): #은닉층과 출력층의 가중치에 규제 적용\n",
        "    return self.l1 * (np.sum(np.abs(self.w1)) + np.sum(np.abs(self.w2))) + self.l2 / 2 * (np.sum(self.w1**2) + np.sum(self.w2**2))\n",
        "\n",
        "class RandomInitNetwork(DualLayer):\n",
        "\n",
        "  def init_weights(self, n_features):\n",
        "    np.random.seed(42)\n",
        "    self.w1 = np.random.normal(0, 1, (n_features, self.units)) #평균, 분산, (특성 개수, 은닉층의 크기)\n",
        "    self.b1 = np.zeros(self.units)                             #은닉층의 크기\n",
        "    self.w2 = np.random.normal(0, 1, (self.units, 1))          #평균, 분산, (은닉층의 크기, 1)\n",
        "    self.b2 = 0\n",
        "\n",
        "class MinibatchNetwork(RandomInitNetwork):\n",
        "\n",
        "  def __init__(self, units=10, batch_size=32, learning_rate=0.1, l1=0, l2=0):\n",
        "    super().__init__(units, learning_rate, l1, l2)\n",
        "    self.batch_size = batch_size  #배치 크기\n",
        "\n",
        "  def fit(self, x, y, epochs=100, x_val=None, y_val=None): #epoch 순회하는 for문 안에 미니 배치 순회하는 for문이 추가된다.\n",
        "    y_val = y_val.reshape(-1, 1)\n",
        "    self.init_weights(x.shape[1]) #은닉층과 출력층의 가중치 초기화\n",
        "    np.random.seed(42)\n",
        "    for i in range(epochs):\n",
        "      loss = 0    #손실 초기화\n",
        "      for x_batch, y_batch in self.gen_batch(x, y): #미니배치 순회\n",
        "        y_batch = y_batch.reshape(-1, 1)    #타겟을 열 벡터로 바꾼다.\n",
        "        m = len(x_batch)\n",
        "        a = self.training(x_batch, y_batch, m)\n",
        "        a = np.clip(a, 1e-10, 1-1e-10)\n",
        "        loss += np.sum(-(y_batch*np.log(a) + (1-y_batch)*np.log(1-a))) #매 미니배치마다 손실 누적\n",
        "      self.losses.append((loss + self.reg_loss()) / len(x))            #로그 손실과 규제 손실 더해 리스트에 추가\n",
        "      self.update_val_loss(x_val, y_val)\n",
        "\n",
        "  def gen_batch(self, x, y): #미니 배치 만들어 반환\n",
        "    length = len(x)\n",
        "    bins = length // self.batch_size  #미니 배치 횟수\n",
        "    if length % self.batch_size:\n",
        "      bins += 1                       #나누어 떨어지지 않을 때\n",
        "    indexes = np.random.permutation(np.arange(len(x)))  #인덱스를 섞는다\n",
        "    x = x[indexes]\n",
        "    y = y[indexes]\n",
        "    for i in range(bins):\n",
        "      start = self.batch_size * i\n",
        "      end = self.batch_size * (i + 1)\n",
        "      yield x[start:end], y[start:end]  #batch_size만큼 슬라이싱하여 반환"
      ],
      "execution_count": null,
      "outputs": []
    },
    {
      "cell_type": "code",
      "metadata": {
        "id": "wF67D1CkCULH"
      },
      "source": [
        "#다중 분류의 경사 하강법 알고리즘은 이진 분류의 경사 하강법 알고리즘과 원리는 같고 소프트맥스 함수가 추가된 점만 다르다.\n",
        "\n",
        "import numpy as np\n",
        "import matplotlib.pyplot as plt\n",
        "\n",
        "class MultiClassNetwork:\n",
        "    \n",
        "    def __init__(self, units=10, batch_size=32, learning_rate=0.1, l1=0, l2=0):\n",
        "        self.units = units         # 은닉층의 뉴런 개수\n",
        "        self.batch_size = batch_size     # 배치 크기\n",
        "        self.w1 = None             # 은닉층의 가중치\n",
        "        self.b1 = None             # 은닉층의 절편\n",
        "        self.w2 = None             # 출력층의 가중치\n",
        "        self.b2 = None             # 출력층의 절편\n",
        "        self.a1 = None             # 은닉층의 활성화 출력\n",
        "        self.losses = []           # 훈련 손실\n",
        "        self.val_losses = []       # 검증 손실\n",
        "        self.lr = learning_rate    # 학습률\n",
        "        self.l1 = l1               # L1 손실 하이퍼파라미터\n",
        "        self.l2 = l2               # L2 손실 하이퍼파라미터\n",
        "\n",
        "    def forpass(self, x):\n",
        "        z1 = np.dot(x, self.w1) + self.b1        # 첫 번째 층의 선형 식을 계산합니다\n",
        "        self.a1 = self.sigmoid(z1)               # 활성화 함수를 적용합니다\n",
        "        z2 = np.dot(self.a1, self.w2) + self.b2  # 두 번째 층의 선형 식을 계산합니다.\n",
        "        return z2\n",
        "\n",
        "    def backprop(self, x, err):\n",
        "        m = len(x)       # 샘플 개수\n",
        "        # 출력층의 가중치와 절편에 대한 그래디언트를 계산합니다.\n",
        "        w2_grad = np.dot(self.a1.T, err) / m\n",
        "        b2_grad = np.sum(err) / m\n",
        "        # 시그모이드 함수까지 그래디언트를 계산합니다.\n",
        "        err_to_hidden = np.dot(err, self.w2.T) * self.a1 * (1 - self.a1)\n",
        "        # 은닉층의 가중치와 절편에 대한 그래디언트를 계산합니다.\n",
        "        w1_grad = np.dot(x.T, err_to_hidden) / m\n",
        "        b1_grad = np.sum(err_to_hidden, axis=0) / m\n",
        "        return w1_grad, b1_grad, w2_grad, b2_grad\n",
        "    \n",
        "    def sigmoid(self, z):\n",
        "        z = np.clip(z, -100, None)            # 안전한 np.exp() 계산을 위해\n",
        "        a = 1 / (1 + np.exp(-z))              # 시그모이드 계산\n",
        "        return a\n",
        "    \n",
        "    def softmax(self, z):\n",
        "        # 소프트맥스 함수\n",
        "        z = np.clip(z, -100, None)            # 안전한 np.exp() 계산을 위해\n",
        "        exp_z = np.exp(z)\n",
        "        return exp_z / np.sum(exp_z, axis=1).reshape(-1, 1)\n",
        " \n",
        "    def init_weights(self, n_features, n_classes):\n",
        "        self.w1 = np.random.normal(0, 1, \n",
        "                                   (n_features, self.units))  # (특성 개수, 은닉층의 크기)\n",
        "        self.b1 = np.zeros(self.units)                        # 은닉층의 크기\n",
        "        self.w2 = np.random.normal(0, 1, \n",
        "                                   (self.units, n_classes))   # (은닉층의 크기, 클래스 개수)\n",
        "        self.b2 = np.zeros(n_classes)\n",
        "        \n",
        "    def fit(self, x, y, epochs=100, x_val=None, y_val=None):\n",
        "        np.random.seed(42)\n",
        "        self.init_weights(x.shape[1], y.shape[1])    # 은닉층과 출력층의 가중치를 초기화합니다.\n",
        "        # epochs만큼 반복합니다.\n",
        "        for i in range(epochs):\n",
        "            loss = 0\n",
        "            print('.', end='')\n",
        "            # 제너레이터 함수에서 반환한 미니배치를 순환합니다.\n",
        "            for x_batch, y_batch in self.gen_batch(x, y):\n",
        "                a = self.training(x_batch, y_batch)\n",
        "                # 안전한 로그 계산을 위해 클리핑합니다.\n",
        "                a = np.clip(a, 1e-10, 1-1e-10)\n",
        "                # 로그 손실과 규제 손실을 더하여 리스트에 추가합니다.\n",
        "                loss += np.sum(-y_batch*np.log(a))\n",
        "            self.losses.append((loss + self.reg_loss()) / len(x))\n",
        "            # 검증 세트에 대한 손실을 계산합니다.\n",
        "            self.update_val_loss(x_val, y_val)\n",
        "\n",
        "    # 미니배치 제너레이터 함수\n",
        "    def gen_batch(self, x, y): #미니 배치 만들어 반환\n",
        "        length = len(x)\n",
        "        bins = length // self.batch_size # 미니배치 횟수\n",
        "        if length % self.batch_size:\n",
        "            bins += 1                    # 나누어 떨어지지 않을 때\n",
        "        indexes = np.random.permutation(np.arange(len(x))) # 인덱스를 섞습니다.\n",
        "        x = x[indexes]\n",
        "        y = y[indexes]\n",
        "        for i in range(bins):\n",
        "            start = self.batch_size * i\n",
        "            end = self.batch_size * (i + 1)\n",
        "            yield x[start:end], y[start:end]   # batch_size만큼 슬라이싱하여 반환합니다.\n",
        "            \n",
        "    def training(self, x, y):\n",
        "        m = len(x)                # 샘플 개수를 저장합니다.\n",
        "        z = self.forpass(x)       # 정방향 계산을 수행합니다.\n",
        "        a = self.softmax(z)       # 활성화 함수를 적용합니다.\n",
        "        err = -(y - a)            # 오차를 계산합니다.\n",
        "        # 오차를 역전파하여 그래디언트를 계산합니다.\n",
        "        w1_grad, b1_grad, w2_grad, b2_grad = self.backprop(x, err)\n",
        "        # 그래디언트에서 페널티 항의 미분 값을 뺍니다\n",
        "        w1_grad += (self.l1 * np.sign(self.w1) + self.l2 * self.w1) / m\n",
        "        w2_grad += (self.l1 * np.sign(self.w2) + self.l2 * self.w2) / m\n",
        "        # 은닉층의 가중치와 절편을 업데이트합니다.\n",
        "        self.w1 -= self.lr * w1_grad\n",
        "        self.b1 -= self.lr * b1_grad\n",
        "        # 출력층의 가중치와 절편을 업데이트합니다.\n",
        "        self.w2 -= self.lr * w2_grad\n",
        "        self.b2 -= self.lr * b2_grad\n",
        "        return a #출력층의 활성화 출력 a 반환\n",
        "\n",
        "    def predict(self, x): #정방향 계산에서 얻은 출력 중 가장 큰 값의 인덱스를 구한다. 이 값이 예측 클래스가 된다.\n",
        "        z = self.forpass(x)          # 정방향 계산을 수행합니다.\n",
        "        return np.argmax(z, axis=1)  # 가장 큰 값의 인덱스를 반환합니다. #이진 분류에서와 마찬가지로 소프트맥스 거치지 않아도 z값만으로 클래스 예측 가능\n",
        "    \n",
        "    def score(self, x, y): #모델의 정확도 #predict() 매서드의 결과와 타깃 y(배열 y의 행을 따라 가장 큰 값의 인덱스 구하여) 비교\n",
        "        # 예측과 타깃 열 벡터를 비교하여 True의 비율을 반환합니다.\n",
        "        return np.mean(self.predict(x) == np.argmax(y, axis=1))\n",
        "\n",
        "    def reg_loss(self): #은닉층과 출력층의 가중치에 규제 적용\n",
        "        # 은닉층과 출력층의 가중치에 규제를 적용합니다.\n",
        "        return self.l1 * (np.sum(np.abs(self.w1)) + np.sum(np.abs(self.w2))) + \\\n",
        "               self.l2 / 2 * (np.sum(self.w1**2) + np.sum(self.w2**2))\n",
        "\n",
        "    def update_val_loss(self, x_val, y_val): #검증 세트 손실 계산\n",
        "        z = self.forpass(x_val)            # 정방향 계산을 수행합니다.\n",
        "        a = self.softmax(z)                # 활성화 함수를 적용합니다.\n",
        "        a = np.clip(a, 1e-10, 1-1e-10)     # 출력 값을 클리핑합니다.\n",
        "        # 크로스 엔트로피 손실과 규제 손실을 더하여 리스트에 추가합니다.\n",
        "        val_loss = np.sum(-y_val*np.log(a))\n",
        "        self.val_losses.append((val_loss + self.reg_loss()) / len(y_val))"
      ],
      "execution_count": null,
      "outputs": []
    },
    {
      "cell_type": "markdown",
      "metadata": {
        "id": "gorX-5ocCFyK"
      },
      "source": [
        "Fashion MNIST 데이터 세트 이용해 의류 이미지 분류하기(흑백)"
      ]
    },
    {
      "cell_type": "code",
      "metadata": {
        "colab": {
          "base_uri": "https://localhost:8080/"
        },
        "id": "hFfU8xu2Bisb",
        "outputId": "8ebcf532-87a7-4634-a260-9cf35f4b7c1d"
      },
      "source": [
        "#1. 텐서플로 최신 버전 설치\n",
        "!pip install tensorflow_gpu==2.0.0"
      ],
      "execution_count": null,
      "outputs": [
        {
          "output_type": "stream",
          "text": [
            "Collecting tensorflow_gpu==2.0.0\n",
            "  Downloading tensorflow_gpu-2.0.0-cp37-cp37m-manylinux2010_x86_64.whl (380.8 MB)\n",
            "\u001b[K     |████████████████████████████████| 380.8 MB 38 kB/s \n",
            "\u001b[?25hRequirement already satisfied: opt-einsum>=2.3.2 in /usr/local/lib/python3.7/dist-packages (from tensorflow_gpu==2.0.0) (3.3.0)\n",
            "Requirement already satisfied: protobuf>=3.6.1 in /usr/local/lib/python3.7/dist-packages (from tensorflow_gpu==2.0.0) (3.17.3)\n",
            "Requirement already satisfied: absl-py>=0.7.0 in /usr/local/lib/python3.7/dist-packages (from tensorflow_gpu==2.0.0) (0.12.0)\n",
            "Requirement already satisfied: termcolor>=1.1.0 in /usr/local/lib/python3.7/dist-packages (from tensorflow_gpu==2.0.0) (1.1.0)\n",
            "Requirement already satisfied: wrapt>=1.11.1 in /usr/local/lib/python3.7/dist-packages (from tensorflow_gpu==2.0.0) (1.12.1)\n",
            "Requirement already satisfied: google-pasta>=0.1.6 in /usr/local/lib/python3.7/dist-packages (from tensorflow_gpu==2.0.0) (0.2.0)\n",
            "Requirement already satisfied: keras-preprocessing>=1.0.5 in /usr/local/lib/python3.7/dist-packages (from tensorflow_gpu==2.0.0) (1.1.2)\n",
            "Requirement already satisfied: astor>=0.6.0 in /usr/local/lib/python3.7/dist-packages (from tensorflow_gpu==2.0.0) (0.8.1)\n",
            "Collecting tensorboard<2.1.0,>=2.0.0\n",
            "  Downloading tensorboard-2.0.2-py3-none-any.whl (3.8 MB)\n",
            "\u001b[K     |████████████████████████████████| 3.8 MB 30.7 MB/s \n",
            "\u001b[?25hRequirement already satisfied: grpcio>=1.8.6 in /usr/local/lib/python3.7/dist-packages (from tensorflow_gpu==2.0.0) (1.34.1)\n",
            "Requirement already satisfied: wheel>=0.26 in /usr/local/lib/python3.7/dist-packages (from tensorflow_gpu==2.0.0) (0.36.2)\n",
            "Collecting keras-applications>=1.0.8\n",
            "  Downloading Keras_Applications-1.0.8-py3-none-any.whl (50 kB)\n",
            "\u001b[K     |████████████████████████████████| 50 kB 6.4 MB/s \n",
            "\u001b[?25hCollecting gast==0.2.2\n",
            "  Downloading gast-0.2.2.tar.gz (10 kB)\n",
            "Requirement already satisfied: numpy<2.0,>=1.16.0 in /usr/local/lib/python3.7/dist-packages (from tensorflow_gpu==2.0.0) (1.19.5)\n",
            "Requirement already satisfied: six>=1.10.0 in /usr/local/lib/python3.7/dist-packages (from tensorflow_gpu==2.0.0) (1.15.0)\n",
            "Collecting tensorflow-estimator<2.1.0,>=2.0.0\n",
            "  Downloading tensorflow_estimator-2.0.1-py2.py3-none-any.whl (449 kB)\n",
            "\u001b[K     |████████████████████████████████| 449 kB 47.6 MB/s \n",
            "\u001b[?25hRequirement already satisfied: h5py in /usr/local/lib/python3.7/dist-packages (from keras-applications>=1.0.8->tensorflow_gpu==2.0.0) (3.1.0)\n",
            "Requirement already satisfied: markdown>=2.6.8 in /usr/local/lib/python3.7/dist-packages (from tensorboard<2.1.0,>=2.0.0->tensorflow_gpu==2.0.0) (3.3.4)\n",
            "Requirement already satisfied: google-auth<2,>=1.6.3 in /usr/local/lib/python3.7/dist-packages (from tensorboard<2.1.0,>=2.0.0->tensorflow_gpu==2.0.0) (1.32.1)\n",
            "Requirement already satisfied: setuptools>=41.0.0 in /usr/local/lib/python3.7/dist-packages (from tensorboard<2.1.0,>=2.0.0->tensorflow_gpu==2.0.0) (57.2.0)\n",
            "Requirement already satisfied: werkzeug>=0.11.15 in /usr/local/lib/python3.7/dist-packages (from tensorboard<2.1.0,>=2.0.0->tensorflow_gpu==2.0.0) (1.0.1)\n",
            "Requirement already satisfied: requests<3,>=2.21.0 in /usr/local/lib/python3.7/dist-packages (from tensorboard<2.1.0,>=2.0.0->tensorflow_gpu==2.0.0) (2.23.0)\n",
            "Requirement already satisfied: google-auth-oauthlib<0.5,>=0.4.1 in /usr/local/lib/python3.7/dist-packages (from tensorboard<2.1.0,>=2.0.0->tensorflow_gpu==2.0.0) (0.4.4)\n",
            "Requirement already satisfied: pyasn1-modules>=0.2.1 in /usr/local/lib/python3.7/dist-packages (from google-auth<2,>=1.6.3->tensorboard<2.1.0,>=2.0.0->tensorflow_gpu==2.0.0) (0.2.8)\n",
            "Requirement already satisfied: rsa<5,>=3.1.4 in /usr/local/lib/python3.7/dist-packages (from google-auth<2,>=1.6.3->tensorboard<2.1.0,>=2.0.0->tensorflow_gpu==2.0.0) (4.7.2)\n",
            "Requirement already satisfied: cachetools<5.0,>=2.0.0 in /usr/local/lib/python3.7/dist-packages (from google-auth<2,>=1.6.3->tensorboard<2.1.0,>=2.0.0->tensorflow_gpu==2.0.0) (4.2.2)\n",
            "Requirement already satisfied: requests-oauthlib>=0.7.0 in /usr/local/lib/python3.7/dist-packages (from google-auth-oauthlib<0.5,>=0.4.1->tensorboard<2.1.0,>=2.0.0->tensorflow_gpu==2.0.0) (1.3.0)\n",
            "Requirement already satisfied: importlib-metadata in /usr/local/lib/python3.7/dist-packages (from markdown>=2.6.8->tensorboard<2.1.0,>=2.0.0->tensorflow_gpu==2.0.0) (4.6.1)\n",
            "Requirement already satisfied: pyasn1<0.5.0,>=0.4.6 in /usr/local/lib/python3.7/dist-packages (from pyasn1-modules>=0.2.1->google-auth<2,>=1.6.3->tensorboard<2.1.0,>=2.0.0->tensorflow_gpu==2.0.0) (0.4.8)\n",
            "Requirement already satisfied: chardet<4,>=3.0.2 in /usr/local/lib/python3.7/dist-packages (from requests<3,>=2.21.0->tensorboard<2.1.0,>=2.0.0->tensorflow_gpu==2.0.0) (3.0.4)\n",
            "Requirement already satisfied: urllib3!=1.25.0,!=1.25.1,<1.26,>=1.21.1 in /usr/local/lib/python3.7/dist-packages (from requests<3,>=2.21.0->tensorboard<2.1.0,>=2.0.0->tensorflow_gpu==2.0.0) (1.24.3)\n",
            "Requirement already satisfied: certifi>=2017.4.17 in /usr/local/lib/python3.7/dist-packages (from requests<3,>=2.21.0->tensorboard<2.1.0,>=2.0.0->tensorflow_gpu==2.0.0) (2021.5.30)\n",
            "Requirement already satisfied: idna<3,>=2.5 in /usr/local/lib/python3.7/dist-packages (from requests<3,>=2.21.0->tensorboard<2.1.0,>=2.0.0->tensorflow_gpu==2.0.0) (2.10)\n",
            "Requirement already satisfied: oauthlib>=3.0.0 in /usr/local/lib/python3.7/dist-packages (from requests-oauthlib>=0.7.0->google-auth-oauthlib<0.5,>=0.4.1->tensorboard<2.1.0,>=2.0.0->tensorflow_gpu==2.0.0) (3.1.1)\n",
            "Requirement already satisfied: cached-property in /usr/local/lib/python3.7/dist-packages (from h5py->keras-applications>=1.0.8->tensorflow_gpu==2.0.0) (1.5.2)\n",
            "Requirement already satisfied: typing-extensions>=3.6.4 in /usr/local/lib/python3.7/dist-packages (from importlib-metadata->markdown>=2.6.8->tensorboard<2.1.0,>=2.0.0->tensorflow_gpu==2.0.0) (3.7.4.3)\n",
            "Requirement already satisfied: zipp>=0.5 in /usr/local/lib/python3.7/dist-packages (from importlib-metadata->markdown>=2.6.8->tensorboard<2.1.0,>=2.0.0->tensorflow_gpu==2.0.0) (3.5.0)\n",
            "Building wheels for collected packages: gast\n",
            "  Building wheel for gast (setup.py) ... \u001b[?25l\u001b[?25hdone\n",
            "  Created wheel for gast: filename=gast-0.2.2-py3-none-any.whl size=7553 sha256=6b821d62048c58243197cc0757d511e4b69dde73eb74b13e6c86bf9d5cf040fc\n",
            "  Stored in directory: /root/.cache/pip/wheels/21/7f/02/420f32a803f7d0967b48dd823da3f558c5166991bfd204eef3\n",
            "Successfully built gast\n",
            "Installing collected packages: tensorflow-estimator, tensorboard, keras-applications, gast, tensorflow-gpu\n",
            "  Attempting uninstall: tensorflow-estimator\n",
            "    Found existing installation: tensorflow-estimator 2.5.0\n",
            "    Uninstalling tensorflow-estimator-2.5.0:\n",
            "      Successfully uninstalled tensorflow-estimator-2.5.0\n",
            "  Attempting uninstall: tensorboard\n",
            "    Found existing installation: tensorboard 2.5.0\n",
            "    Uninstalling tensorboard-2.5.0:\n",
            "      Successfully uninstalled tensorboard-2.5.0\n",
            "  Attempting uninstall: gast\n",
            "    Found existing installation: gast 0.4.0\n",
            "    Uninstalling gast-0.4.0:\n",
            "      Successfully uninstalled gast-0.4.0\n",
            "\u001b[31mERROR: pip's dependency resolver does not currently take into account all the packages that are installed. This behaviour is the source of the following dependency conflicts.\n",
            "tensorflow 2.5.0 requires gast==0.4.0, but you have gast 0.2.2 which is incompatible.\n",
            "tensorflow 2.5.0 requires tensorboard~=2.5, but you have tensorboard 2.0.2 which is incompatible.\n",
            "tensorflow 2.5.0 requires tensorflow-estimator<2.6.0,>=2.5.0rc0, but you have tensorflow-estimator 2.0.1 which is incompatible.\n",
            "tensorflow-probability 0.13.0 requires gast>=0.3.2, but you have gast 0.2.2 which is incompatible.\u001b[0m\n",
            "Successfully installed gast-0.2.2 keras-applications-1.0.8 tensorboard-2.0.2 tensorflow-estimator-2.0.1 tensorflow-gpu-2.0.0\n"
          ],
          "name": "stdout"
        }
      ]
    },
    {
      "cell_type": "code",
      "metadata": {
        "colab": {
          "base_uri": "https://localhost:8080/",
          "height": 35
        },
        "id": "_NI7vaKsCNID",
        "outputId": "b82ea9c4-0d5d-402b-a90f-04bb4f28ff2f"
      },
      "source": [
        "#2. 텐서플로 버전 확인하기\n",
        "\n",
        "import tensorflow as tf\n",
        "\n",
        "tf.__version__"
      ],
      "execution_count": null,
      "outputs": [
        {
          "output_type": "execute_result",
          "data": {
            "application/vnd.google.colaboratory.intrinsic+json": {
              "type": "string"
            },
            "text/plain": [
              "'2.5.0'"
            ]
          },
          "metadata": {
            "tags": []
          },
          "execution_count": 1
        }
      ]
    },
    {
      "cell_type": "code",
      "metadata": {
        "id": "Nq63KK61CjIF",
        "colab": {
          "base_uri": "https://localhost:8080/"
        },
        "outputId": "c73e6601-b505-44ef-b566-e4c3024c2354"
      },
      "source": [
        "#3. 패션 MNIST 데이터 세트 불러오기\n",
        "\n",
        "(x_train_all, y_train_all), (x_test, y_test) = tf.keras.datasets.fashion_mnist.load_data()"
      ],
      "execution_count": null,
      "outputs": [
        {
          "output_type": "stream",
          "text": [
            "Downloading data from https://storage.googleapis.com/tensorflow/tf-keras-datasets/train-labels-idx1-ubyte.gz\n",
            "32768/29515 [=================================] - 0s 0us/step\n",
            "Downloading data from https://storage.googleapis.com/tensorflow/tf-keras-datasets/train-images-idx3-ubyte.gz\n",
            "26427392/26421880 [==============================] - 1s 0us/step\n",
            "Downloading data from https://storage.googleapis.com/tensorflow/tf-keras-datasets/t10k-labels-idx1-ubyte.gz\n",
            "8192/5148 [===============================================] - 0s 0us/step\n",
            "Downloading data from https://storage.googleapis.com/tensorflow/tf-keras-datasets/t10k-images-idx3-ubyte.gz\n",
            "4423680/4422102 [==============================] - 0s 0us/step\n"
          ],
          "name": "stdout"
        }
      ]
    },
    {
      "cell_type": "code",
      "metadata": {
        "colab": {
          "base_uri": "https://localhost:8080/"
        },
        "id": "84iE7m0HDD0S",
        "outputId": "16cd86f2-d037-446b-a2dd-d00a8f9808dc"
      },
      "source": [
        "#4. 훈련 세트의 크기 확인하기\n",
        "\n",
        "print(x_train_all.shape, y_train_all.shape)"
      ],
      "execution_count": null,
      "outputs": [
        {
          "output_type": "stream",
          "text": [
            "(60000, 28, 28) (60000,)\n"
          ],
          "name": "stdout"
        }
      ]
    },
    {
      "cell_type": "code",
      "metadata": {
        "colab": {
          "base_uri": "https://localhost:8080/",
          "height": 265
        },
        "id": "rSM0D4m_EhyJ",
        "outputId": "4aa4749d-b229-402a-ed63-a57643ed2736"
      },
      "source": [
        "#5. imshow() 함수로 샘플 이미지 확인하기\n",
        "\n",
        "import matplotlib.pyplot as plt\n",
        "plt.imshow(x_train_all[0], cmap='gray') #0번쨰 요소 확인\n",
        "plt.show()"
      ],
      "execution_count": null,
      "outputs": [
        {
          "output_type": "display_data",
          "data": {
            "image/png": "[encoded data removed]",
            "text/plain": [
              "<Figure size 432x288 with 1 Axes>"
            ]
          },
          "metadata": {
            "tags": [],
            "needs_background": "light"
          }
        }
      ]
    },
    {
      "cell_type": "code",
      "metadata": {
        "colab": {
          "base_uri": "https://localhost:8080/"
        },
        "id": "BPY2-X60FHdK",
        "outputId": "508358b2-562c-4a51-a323-3689d36b67ba"
      },
      "source": [
        "#6. 타깃의 내용과 의미 확인하기\n",
        "\n",
        "print(y_train_all[:10]) #가장 앞에 있는 데이터 10개의 target의 class label 출력"
      ],
      "execution_count": null,
      "outputs": [
        {
          "output_type": "stream",
          "text": [
            "[9 0 0 3 0 2 7 2 5 5]\n"
          ],
          "name": "stdout"
        }
      ]
    },
    {
      "cell_type": "code",
      "metadata": {
        "colab": {
          "base_uri": "https://localhost:8080/"
        },
        "id": "aHkKbDCeGB4G",
        "outputId": "45c549fd-bdc7-4d4f-cd4c-d6b7c04e1ba1"
      },
      "source": [
        "class_names = ['티셔츠/윗도리', '바지', '스웨터', '드레스', '코트', '샌들', '셔츠', '스니커즈', '가방', '앵클부츠']\n",
        "\n",
        "print(class_names[y_train_all[0]]) #첫 번째 샘플의 클래스"
      ],
      "execution_count": null,
      "outputs": [
        {
          "output_type": "stream",
          "text": [
            "앵클부츠\n"
          ],
          "name": "stdout"
        }
      ]
    },
    {
      "cell_type": "code",
      "metadata": {
        "colab": {
          "base_uri": "https://localhost:8080/"
        },
        "id": "gWHG7-dDGS7P",
        "outputId": "e325fe11-7366-4bae-d683-bf419c77d8e5"
      },
      "source": [
        "#7. 타깃 분포 확인하기\n",
        "\n",
        "np.bincount(y_train_all) #각 클래스 당 샘플이 몇 개씩 있는지 확인\n",
        "\n",
        "#label 당 6000개의 데이터가 존재한다."
      ],
      "execution_count": null,
      "outputs": [
        {
          "output_type": "execute_result",
          "data": {
            "text/plain": [
              "array([6000, 6000, 6000, 6000, 6000, 6000, 6000, 6000, 6000, 6000])"
            ]
          },
          "metadata": {
            "tags": []
          },
          "execution_count": 10
        }
      ]
    },
    {
      "cell_type": "code",
      "metadata": {
        "colab": {
          "base_uri": "https://localhost:8080/"
        },
        "id": "XbLJ5NrqG61w",
        "outputId": "4ba102ca-5601-46d9-a748-8b1bfb98a22b"
      },
      "source": [
        "#8. 훈련 세트와 검증 세트 고르게 나누기\n",
        "\n",
        "from sklearn.model_selection import train_test_split\n",
        "x_train, x_val, y_train, y_val = train_test_split(x_train_all, y_train_all, stratify=y_train_all, test_size=0.2, random_state=42)\n",
        "\n",
        "#훈련, 검증 세트의 레이블이 잘 나누어졌는지 확인 -> 80:20의 비율로 나누어짐\n",
        "print(np.bincount(y_train))\n",
        "print(np.bincount(y_val))"
      ],
      "execution_count": null,
      "outputs": [
        {
          "output_type": "stream",
          "text": [
            "[4800 4800 4800 4800 4800 4800 4800 4800 4800 4800]\n",
            "[1200 1200 1200 1200 1200 1200 1200 1200 1200 1200]\n"
          ],
          "name": "stdout"
        }
      ]
    },
    {
      "cell_type": "code",
      "metadata": {
        "id": "yh5qtez_L8F6"
      },
      "source": [
        "#9. 입력 데이터 정규화하기 : '표준화'했다고 말할 수 없지만 잘 작동\n",
        "\n",
        "x_train = x_train / 255\n",
        "x_val = x_val / 255"
      ],
      "execution_count": null,
      "outputs": []
    },
    {
      "cell_type": "code",
      "metadata": {
        "colab": {
          "base_uri": "https://localhost:8080/"
        },
        "id": "wsWEGVliMPd1",
        "outputId": "ba8b37cc-021f-4940-8d2c-62dfd0a73760"
      },
      "source": [
        "#10. 훈련 세트와 검증 세트의 차원 변경하기\n",
        "#기존 28X28 크기의 2차원 배열이나, 네트워크에는 1차원 배열의 샘플을 입력해야 하므로 이어붙인다.\n",
        "\n",
        "x_train = x_train.reshape(-1, 784)\n",
        "x_val = x_val.reshape(-1, 784)\n",
        "\n",
        "print(x_train.shape, x_val.shape)"
      ],
      "execution_count": null,
      "outputs": [
        {
          "output_type": "stream",
          "text": [
            "(48000, 784) (12000, 784)\n"
          ],
          "name": "stdout"
        }
      ]
    },
    {
      "cell_type": "markdown",
      "metadata": {
        "id": "PX7r5ZZPUG-6"
      },
      "source": [
        "타깃 데이터 변환"
      ]
    },
    {
      "cell_type": "code",
      "metadata": {
        "colab": {
          "base_uri": "https://localhost:8080/"
        },
        "id": "lj_n2r37UNAW",
        "outputId": "1d291372-fe25-4117-db0b-7dd0e35b7f3c"
      },
      "source": [
        "#1. 타깃을 원-핫 인코딩으로 변환\n",
        "#타깃값들은 0~9 사이의 정수값 중 하나로 10개의 출력 뉴런에 대응되지 않는다. 따라서 이에 대응하는 배열로 변환한다.\n",
        "#타깃의 정수값에 해당하는 원소는 1, 나머지 원소는 모두 0으로 하여 10개의 원소를 가진 배열로 만든다.\n",
        "\n",
        "#아래는 to_categorical을 사용해 원-핫 인코딩을 하는 예시\n",
        "print(tf.keras.utils.to_categorical([0, 1, 3]))\n",
        "\n",
        "y_train_encoded = tf.keras.utils.to_categorical(y_train)\n",
        "y_val_encoded = tf.keras.utils.to_categorical(y_val)\n",
        "print(y_train_encoded.shape, y_val_encoded.shape) #변환된 원-핫 인코딩 배열의 크기"
      ],
      "execution_count": null,
      "outputs": [
        {
          "output_type": "stream",
          "text": [
            "[[1. 0. 0. 0.]\n",
            " [0. 1. 0. 0.]\n",
            " [0. 0. 0. 1.]]\n",
            "(48000, 10) (12000, 10)\n"
          ],
          "name": "stdout"
        }
      ]
    },
    {
      "cell_type": "code",
      "metadata": {
        "colab": {
          "base_uri": "https://localhost:8080/"
        },
        "id": "gWlSl5Lr_taK",
        "outputId": "d52c9cc3-e156-4a56-f0d7-118c6346ef5c"
      },
      "source": [
        "#2. 만든 배열의 각 원소를 뉴런의 출력값과 비교하여, 가장 큰 출력값이 인덱스가 타깃과 동일한지 비교\n",
        "\n",
        "print(y_train[0], y_train_encoded[0]) #첫 번째 label 6 출력해보기"
      ],
      "execution_count": null,
      "outputs": [
        {
          "output_type": "stream",
          "text": [
            "6 [0. 0. 0. 0. 0. 0. 1. 0. 0. 0.]\n"
          ],
          "name": "stdout"
        }
      ]
    },
    {
      "cell_type": "markdown",
      "metadata": {
        "id": "78MsKQ01XBya"
      },
      "source": [
        "MultiClassNetwork 클래스로 다중 분류 신경망 훈련하기"
      ]
    },
    {
      "cell_type": "code",
      "metadata": {
        "colab": {
          "base_uri": "https://localhost:8080/"
        },
        "id": "vEF2z8PXVLC_",
        "outputId": "401adbbe-3ca4-40a6-a508-8bb8a1ebaadf"
      },
      "source": [
        "#MultiClassNetwork 클래스로 다중 분류 신경망 훈련하기\n",
        "\n",
        "fc = MultiClassNetwork(units=100, batch_size=256)\n",
        "fc.fit(x_train, y_train_encoded, x_val=x_val, y_val=y_val_encoded, epochs=40)"
      ],
      "execution_count": null,
      "outputs": [
        {
          "output_type": "stream",
          "text": [
            "........................................"
          ],
          "name": "stdout"
        }
      ]
    },
    {
      "cell_type": "code",
      "metadata": {
        "colab": {
          "base_uri": "https://localhost:8080/",
          "height": 279
        },
        "id": "k977J7WXXLk8",
        "outputId": "c2cf6480-cad0-48a8-a401-07b7c0a46611"
      },
      "source": [
        "#훈련 손실, 검증 손실 그래프 확인하기\n",
        "\n",
        "plt.plot(fc.losses)\n",
        "plt.plot(fc.val_losses)\n",
        "plt.ylabel('loss')\n",
        "plt.xlabel('iteration')\n",
        "plt.legend(['train_loss', 'val_loss'])\n",
        "plt.show()\n",
        "\n",
        "#손실 그래프가 초기에는 빠르게 감소하다가 완만하게 수렴"
      ],
      "execution_count": null,
      "outputs": [
        {
          "output_type": "display_data",
          "data": {
            "image/png": "[encoded data removed]",
            "text/plain": [
              "<Figure size 432x288 with 1 Axes>"
            ]
          },
          "metadata": {
            "tags": [],
            "needs_background": "light"
          }
        }
      ]
    },
    {
      "cell_type": "code",
      "metadata": {
        "colab": {
          "base_uri": "https://localhost:8080/"
        },
        "id": "rpBXa5QFXlMm",
        "outputId": "30282bda-58c5-420d-b87f-8b46294955dc"
      },
      "source": [
        "#훈련 모델 점수 확인\n",
        "\n",
        "fc.score(x_val, y_val_encoded)"
      ],
      "execution_count": null,
      "outputs": [
        {
          "output_type": "execute_result",
          "data": {
            "text/plain": [
              "0.8150833333333334"
            ]
          },
          "metadata": {
            "tags": []
          },
          "execution_count": 19
        }
      ]
    },
    {
      "cell_type": "markdown",
      "metadata": {
        "id": "yyXNEhAf2DYH"
      },
      "source": [
        "***07-2 텐서플로와 케라스 이용해 신경망 만들기***"
      ]
    },
    {
      "cell_type": "code",
      "metadata": {
        "id": "EvG-GSb2drRQ"
      },
      "source": [
        "#간단한 신경망을 텐서플로로 구현 #왜 안 돼\n",
        "\n",
        "#훈련할 가중치 변수 선언\n",
        "w = tf.Variable(tf.zeros(shape=(1)))\n",
        "b = tf.Variable(tf.zeros(shape=(1)))\n",
        "\n",
        "#경사하강법 옵티마이저 설정\n",
        "optimizer = tf.optimizers.SGD(lr = 0.01)\n",
        "#epoch 만큼 훈련\n",
        "num_epochs = 10\n",
        "for step in range(num_epochs):\n",
        "\n",
        "  #자동 미분을 위해 연산 과정 기록\n",
        "  with tf.GradientTape() as tape:\n",
        "    z_net = w * x_train + b\n",
        "    z_net = tf.reshape(z_net, [-1])\n",
        "    sqr_errors = tf.square(y_train - z_net)\n",
        "    mean_cost = tf.reduce_mean(sqr_errors)\n",
        "  #손실 함수에 대한 가중치의 gradient 계산\n",
        "  grads = tape.gradient(mean_cost, [w, b])\n",
        "  #옵티마이저에 그레디언트 반영\n",
        "  optimizer.apply_gradients(zip(grads, [w, b]))"
      ],
      "execution_count": null,
      "outputs": []
    },
    {
      "cell_type": "code",
      "metadata": {
        "colab": {
          "base_uri": "https://localhost:8080/"
        },
        "id": "AU4t7f47iMp0",
        "outputId": "a2d9a63d-7e3b-45ba-db57-481a41fce390"
      },
      "source": [
        "#신경망을 케라스로 구현 : 간단하다.\n",
        "\n",
        "#신경망 모델 만든다.\n",
        "model = tf.keras.models.Sequential()\n",
        "#완전 연결층 추가\n",
        "model.add(tf.keras.layers.Dense(1))\n",
        "#옵티마이저, 손실 함수 지정\n",
        "model.compile(optimizer='sgd', loss='mse')\n",
        "#훈련 데이터 사용해 epoch 횟수만큼 훈련\n",
        "model.fit(x_train, y_train, epochs=10)"
      ],
      "execution_count": null,
      "outputs": [
        {
          "output_type": "stream",
          "text": [
            "Epoch 1/10\n",
            "1500/1500 [==============================] - 3s 1ms/step - loss: nan\n",
            "Epoch 2/10\n",
            "1500/1500 [==============================] - 2s 1ms/step - loss: nan\n",
            "Epoch 3/10\n",
            "1500/1500 [==============================] - 2s 1ms/step - loss: nan\n",
            "Epoch 4/10\n",
            "1500/1500 [==============================] - 2s 1ms/step - loss: nan\n",
            "Epoch 5/10\n",
            "1500/1500 [==============================] - 2s 1ms/step - loss: nan\n",
            "Epoch 6/10\n",
            "1500/1500 [==============================] - 2s 1ms/step - loss: nan\n",
            "Epoch 7/10\n",
            "1500/1500 [==============================] - 2s 1ms/step - loss: nan\n",
            "Epoch 8/10\n",
            "1500/1500 [==============================] - 2s 1ms/step - loss: nan\n",
            "Epoch 9/10\n",
            "1500/1500 [==============================] - 2s 1ms/step - loss: nan\n",
            "Epoch 10/10\n",
            "1500/1500 [==============================] - 2s 1ms/step - loss: nan\n"
          ],
          "name": "stdout"
        },
        {
          "output_type": "execute_result",
          "data": {
            "text/plain": [
              "<tensorflow.python.keras.callbacks.History at 0x7fa4d3a7fb90>"
            ]
          },
          "metadata": {
            "tags": []
          },
          "execution_count": 32
        }
      ]
    },
    {
      "cell_type": "code",
      "metadata": {
        "id": "fbp84bnJjB9D"
      },
      "source": [
        "#Sequential 클래스 사용법 : 인공신경망 모델 만듦\n",
        "\n",
        "#1. Sequential 클래스의 객체를 생성할 때 Dense 클래스로 만든 층을 추가\n",
        "from tensorflow.keras import Sequential\n",
        "from tensorflow.keras.layers import Dense\n",
        "model = Sequential([Dense(...), ...]) #신경망 모델에 추가할 층을 파이썬 리스트로 만들어 전달하면 Sequential 클래스의 객체가 만들어질 때 층이 추가된다.\n",
        "\n",
        "#2. 객체를 생성한 후 add() method 사용해 층을 추가\n",
        "dense = Dense(...)\n",
        "model.add(dense)\n",
        "\n",
        "#or Dense 클래스 객체 만들어 바로 전달도 가능\n",
        "\n",
        "model = Sequential()\n",
        "model.add(Dense(...))\n",
        "model.add(Dense(...))"
      ],
      "execution_count": null,
      "outputs": []
    },
    {
      "cell_type": "code",
      "metadata": {
        "id": "B4cR2aN2m4oC"
      },
      "source": [
        "#Dense 클래스 사용법 : fully connected layer 만듦\n",
        "\n",
        "Dense(unit=100, activation='sigmoid')\n",
        "#units : 뉴런의 개수(하이퍼파라미터)\n",
        "#activation : 활성화 함수 지정. 기본값은 'None'이므로 지정하지 않으면 활성화 함수 적용되지 않는다."
      ],
      "execution_count": null,
      "outputs": []
    },
    {
      "cell_type": "markdown",
      "metadata": {
        "id": "wTBXuL7toQMW"
      },
      "source": [
        "케라스로 다중 분류 신경망 만들기"
      ]
    },
    {
      "cell_type": "code",
      "metadata": {
        "id": "9viaTfneoP0i"
      },
      "source": [
        "#1. 모델(Sequential 객체) 생성\n",
        "from tensorflow.keras import Sequential\n",
        "from tensorflow.keras.layers import Dense\n",
        "model = Sequential()"
      ],
      "execution_count": null,
      "outputs": []
    },
    {
      "cell_type": "code",
      "metadata": {
        "id": "y-q9lE4cpt_a"
      },
      "source": [
        "#2. 은닉층과 출력층을 모델에 추가\n",
        "model.add(Dense(100, activation='sigmoid', input_shape=(784,))) #은닉층의 유닛 개수는 100개, 활성화 함수는 sigmoid 함수,\n",
        "                                                #입력 데이터의 크기는 28X28=784, 입력 행렬의 첫번쨰 차원인 입력 데이터의\n",
        "                                                #개수는 신경망 구성에 불필요하므로 입력하지 않는다. \n",
        "model.add(Dense(10, activation='softmax'))                      #출력층의 유닛 개수는 10개, 활성화 함수는 softmax 함수"
      ],
      "execution_count": null,
      "outputs": []
    },
    {
      "cell_type": "code",
      "metadata": {
        "id": "c6n4WBbfqyRG"
      },
      "source": [
        "#3. 최적화 알고리즘과 손실 함수 지정하기\n",
        "model.compile(optimizer='sgd', loss='categorical_crossentropy', metrics=['accuracy'])\n",
        "\n",
        "#optimizer : 최적화 알고리즘. 'sgd'는 기본 경사 하강법이고, learning rate의 기본값은 0.01이다.\n",
        "#loss : 손실함수. 'categorical_crossentropy'는 크로스 엔트로피 손실 함수이다.\n",
        "#metrics : 훈련 과정 기록으로 정확도 남기기 위해 추가. 지정하지 않으면 기본값으로 손실값(loss)가 기록된다."
      ],
      "execution_count": null,
      "outputs": []
    },
    {
      "cell_type": "code",
      "metadata": {
        "colab": {
          "base_uri": "https://localhost:8080/"
        },
        "id": "Byio7Lo4rp1l",
        "outputId": "2c3ae30f-d70c-4846-c897-d521aae89058"
      },
      "source": [
        "#4. 모델 훈련하기\n",
        "#검증 세트에 대한 손실과 정확도 계산 위해 validation_data 매개변수에 검증 세트를 튜플로 전달\n",
        "#fit() mothod는 훈련 세트와 검증 세트에서 측정한 값들을 History 클래스 객체에 담아 반환\n",
        "\n",
        "history = model.fit(x_train, y_train_encoded, epochs=40, validation_data=(x_val, y_val_encoded))"
      ],
      "execution_count": null,
      "outputs": [
        {
          "output_type": "stream",
          "text": [
            "Epoch 1/40\n",
            "1500/1500 [==============================] - 4s 2ms/step - loss: 1.3973 - accuracy: 0.6417 - val_loss: 0.9689 - val_accuracy: 0.7369\n",
            "Epoch 2/40\n",
            "1500/1500 [==============================] - 3s 2ms/step - loss: 0.8472 - accuracy: 0.7449 - val_loss: 0.7541 - val_accuracy: 0.7608\n",
            "Epoch 3/40\n",
            "1500/1500 [==============================] - 3s 2ms/step - loss: 0.7132 - accuracy: 0.7634 - val_loss: 0.6649 - val_accuracy: 0.7805\n",
            "Epoch 4/40\n",
            "1500/1500 [==============================] - 3s 2ms/step - loss: 0.6475 - accuracy: 0.7791 - val_loss: 0.6147 - val_accuracy: 0.7867\n",
            "Epoch 5/40\n",
            "1500/1500 [==============================] - 3s 2ms/step - loss: 0.6057 - accuracy: 0.7926 - val_loss: 0.5792 - val_accuracy: 0.7977\n",
            "Epoch 6/40\n",
            "1500/1500 [==============================] - 3s 2ms/step - loss: 0.5753 - accuracy: 0.8031 - val_loss: 0.5514 - val_accuracy: 0.8093\n",
            "Epoch 7/40\n",
            "1500/1500 [==============================] - 3s 2ms/step - loss: 0.5523 - accuracy: 0.8100 - val_loss: 0.5315 - val_accuracy: 0.8163\n",
            "Epoch 8/40\n",
            "1500/1500 [==============================] - 3s 2ms/step - loss: 0.5344 - accuracy: 0.8169 - val_loss: 0.5150 - val_accuracy: 0.8194\n",
            "Epoch 9/40\n",
            "1500/1500 [==============================] - 3s 2ms/step - loss: 0.5196 - accuracy: 0.8202 - val_loss: 0.5017 - val_accuracy: 0.8246\n",
            "Epoch 10/40\n",
            "1500/1500 [==============================] - 3s 2ms/step - loss: 0.5074 - accuracy: 0.8246 - val_loss: 0.4912 - val_accuracy: 0.8282\n",
            "Epoch 11/40\n",
            "1500/1500 [==============================] - 3s 2ms/step - loss: 0.4970 - accuracy: 0.8273 - val_loss: 0.4829 - val_accuracy: 0.8299\n",
            "Epoch 12/40\n",
            "1500/1500 [==============================] - 3s 2ms/step - loss: 0.4880 - accuracy: 0.8306 - val_loss: 0.4742 - val_accuracy: 0.8320\n",
            "Epoch 13/40\n",
            "1500/1500 [==============================] - 3s 2ms/step - loss: 0.4803 - accuracy: 0.8329 - val_loss: 0.4669 - val_accuracy: 0.8357\n",
            "Epoch 14/40\n",
            "1500/1500 [==============================] - 3s 2ms/step - loss: 0.4733 - accuracy: 0.8357 - val_loss: 0.4608 - val_accuracy: 0.8368\n",
            "Epoch 15/40\n",
            "1500/1500 [==============================] - 3s 2ms/step - loss: 0.4669 - accuracy: 0.8373 - val_loss: 0.4529 - val_accuracy: 0.8417\n",
            "Epoch 16/40\n",
            "1500/1500 [==============================] - 3s 2ms/step - loss: 0.4612 - accuracy: 0.8393 - val_loss: 0.4469 - val_accuracy: 0.8428\n",
            "Epoch 17/40\n",
            "1500/1500 [==============================] - 3s 2ms/step - loss: 0.4557 - accuracy: 0.8405 - val_loss: 0.4437 - val_accuracy: 0.8425\n",
            "Epoch 18/40\n",
            "1500/1500 [==============================] - 3s 2ms/step - loss: 0.4509 - accuracy: 0.8421 - val_loss: 0.4390 - val_accuracy: 0.8432\n",
            "Epoch 19/40\n",
            "1500/1500 [==============================] - 3s 2ms/step - loss: 0.4465 - accuracy: 0.8438 - val_loss: 0.4345 - val_accuracy: 0.8449\n",
            "Epoch 20/40\n",
            "1500/1500 [==============================] - 3s 2ms/step - loss: 0.4421 - accuracy: 0.8454 - val_loss: 0.4302 - val_accuracy: 0.8479\n",
            "Epoch 21/40\n",
            "1500/1500 [==============================] - 3s 2ms/step - loss: 0.4384 - accuracy: 0.8468 - val_loss: 0.4283 - val_accuracy: 0.8498\n",
            "Epoch 22/40\n",
            "1500/1500 [==============================] - 3s 2ms/step - loss: 0.4346 - accuracy: 0.8469 - val_loss: 0.4246 - val_accuracy: 0.8488\n",
            "Epoch 23/40\n",
            "1500/1500 [==============================] - 3s 2ms/step - loss: 0.4312 - accuracy: 0.8487 - val_loss: 0.4206 - val_accuracy: 0.8501\n",
            "Epoch 24/40\n",
            "1500/1500 [==============================] - 3s 2ms/step - loss: 0.4276 - accuracy: 0.8493 - val_loss: 0.4204 - val_accuracy: 0.8512\n",
            "Epoch 25/40\n",
            "1500/1500 [==============================] - 3s 2ms/step - loss: 0.4246 - accuracy: 0.8505 - val_loss: 0.4163 - val_accuracy: 0.8531\n",
            "Epoch 26/40\n",
            "1500/1500 [==============================] - 3s 2ms/step - loss: 0.4217 - accuracy: 0.8516 - val_loss: 0.4121 - val_accuracy: 0.8545\n",
            "Epoch 27/40\n",
            "1500/1500 [==============================] - 3s 2ms/step - loss: 0.4186 - accuracy: 0.8538 - val_loss: 0.4119 - val_accuracy: 0.8544\n",
            "Epoch 28/40\n",
            "1500/1500 [==============================] - 3s 2ms/step - loss: 0.4158 - accuracy: 0.8547 - val_loss: 0.4085 - val_accuracy: 0.8562\n",
            "Epoch 29/40\n",
            "1500/1500 [==============================] - 3s 2ms/step - loss: 0.4134 - accuracy: 0.8550 - val_loss: 0.4065 - val_accuracy: 0.8552\n",
            "Epoch 30/40\n",
            "1500/1500 [==============================] - 3s 2ms/step - loss: 0.4109 - accuracy: 0.8558 - val_loss: 0.4061 - val_accuracy: 0.8561\n",
            "Epoch 31/40\n",
            "1500/1500 [==============================] - 3s 2ms/step - loss: 0.4085 - accuracy: 0.8562 - val_loss: 0.4037 - val_accuracy: 0.8574\n",
            "Epoch 32/40\n",
            "1500/1500 [==============================] - 3s 2ms/step - loss: 0.4061 - accuracy: 0.8579 - val_loss: 0.4017 - val_accuracy: 0.8580\n",
            "Epoch 33/40\n",
            "1500/1500 [==============================] - 3s 2ms/step - loss: 0.4038 - accuracy: 0.8580 - val_loss: 0.3985 - val_accuracy: 0.8600\n",
            "Epoch 34/40\n",
            "1500/1500 [==============================] - 3s 2ms/step - loss: 0.4016 - accuracy: 0.8579 - val_loss: 0.3959 - val_accuracy: 0.8602\n",
            "Epoch 35/40\n",
            "1500/1500 [==============================] - 3s 2ms/step - loss: 0.3995 - accuracy: 0.8593 - val_loss: 0.3948 - val_accuracy: 0.8611\n",
            "Epoch 36/40\n",
            "1500/1500 [==============================] - 3s 2ms/step - loss: 0.3975 - accuracy: 0.8594 - val_loss: 0.3925 - val_accuracy: 0.8614\n",
            "Epoch 37/40\n",
            "1500/1500 [==============================] - 3s 2ms/step - loss: 0.3957 - accuracy: 0.8605 - val_loss: 0.3918 - val_accuracy: 0.8623\n",
            "Epoch 38/40\n",
            "1500/1500 [==============================] - 3s 2ms/step - loss: 0.3936 - accuracy: 0.8613 - val_loss: 0.3894 - val_accuracy: 0.8628\n",
            "Epoch 39/40\n",
            "1500/1500 [==============================] - 3s 2ms/step - loss: 0.3916 - accuracy: 0.8615 - val_loss: 0.3887 - val_accuracy: 0.8625\n",
            "Epoch 40/40\n",
            "1500/1500 [==============================] - 3s 2ms/step - loss: 0.3899 - accuracy: 0.8626 - val_loss: 0.3874 - val_accuracy: 0.8633\n"
          ],
          "name": "stdout"
        }
      ]
    },
    {
      "cell_type": "code",
      "metadata": {
        "colab": {
          "base_uri": "https://localhost:8080/"
        },
        "id": "DHYBY1ISsX7d",
        "outputId": "f2920343-d1a8-451f-892c-8bbae409070f"
      },
      "source": [
        "#5. 손실과 정확도 그래프 그리기\n",
        "#반환된 history dictionary의 키를 출력해보면 어떤 측정 지표들이 들어가 있는지 확인 가능\n",
        "print(history.history.keys())\n",
        "\n",
        "#차례대로 훈련 세트에서의 손실, 검증 세트에서의 손실, 훈련 세트의 정확도, 검증 세트의 정확도"
      ],
      "execution_count": null,
      "outputs": [
        {
          "output_type": "stream",
          "text": [
            "dict_keys(['loss', 'accuracy', 'val_loss', 'val_accuracy'])\n"
          ],
          "name": "stdout"
        }
      ]
    },
    {
      "cell_type": "code",
      "metadata": {
        "colab": {
          "base_uri": "https://localhost:8080/",
          "height": 279
        },
        "id": "6-prol85ssDD",
        "outputId": "1f487f71-2283-4a8f-ed00-f5deaf6415e2"
      },
      "source": [
        "#훈련 세트와 검증 세트의 손실 그래프 나타낸 그래프\n",
        "\n",
        "plt.plot(history.history['loss'])\n",
        "plt.plot(history.history['val_loss'])\n",
        "plt.ylabel('loss')\n",
        "plt.xlabel('epoch')\n",
        "plt.legend(['train_loss', 'val_loss'])\n",
        "plt.show()\n",
        "\n",
        "#일정한 수준으로 감소"
      ],
      "execution_count": null,
      "outputs": [
        {
          "output_type": "display_data",
          "data": {
            "image/png": "[encoded data removed]",
            "text/plain": [
              "<Figure size 432x288 with 1 Axes>"
            ]
          },
          "metadata": {
            "tags": [],
            "needs_background": "light"
          }
        }
      ]
    },
    {
      "cell_type": "code",
      "metadata": {
        "colab": {
          "base_uri": "https://localhost:8080/",
          "height": 279
        },
        "id": "7EWrhp8BtRcS",
        "outputId": "d9d92ec8-2b0d-42a7-e5fe-bba01ddd09ba"
      },
      "source": [
        "#훈련 세트와 검증 세트의 정확도 나타낸 그래프\n",
        "\n",
        "plt.plot(history.history['accuracy'])\n",
        "plt.plot(history.history['val_accuracy'])\n",
        "plt.ylabel('accuracy')\n",
        "plt.xlabel('epoch')\n",
        "plt.legend(['train_accuracy', 'val_accuracy'])\n",
        "plt.show()\n",
        "\n",
        "#점진적으로 증가하는 추세"
      ],
      "execution_count": null,
      "outputs": [
        {
          "output_type": "display_data",
          "data": {
            "image/png": "[encoded data removed]",
            "text/plain": [
              "<Figure size 432x288 with 1 Axes>"
            ]
          },
          "metadata": {
            "tags": [],
            "needs_background": "light"
          }
        }
      ]
    },
    {
      "cell_type": "code",
      "metadata": {
        "colab": {
          "base_uri": "https://localhost:8080/"
        },
        "id": "GuuZmVdUtl9F",
        "outputId": "bac549c4-773c-4291-a60e-47d66982f4fa"
      },
      "source": [
        "#6. 검증 세트 정확도 계산하기\n",
        "loss, accuracy = model.evaluate(x_val, y_val_encoded, verbose=0)\n",
        "print(accuracy)"
      ],
      "execution_count": null,
      "outputs": [
        {
          "output_type": "stream",
          "text": [
            "0.8632500171661377\n"
          ],
          "name": "stdout"
        }
      ]
    },
    {
      "cell_type": "code",
      "metadata": {
        "id": "BS0Y5-dCuQXP"
      },
      "source": [
        "#7. 테스트 세트 정확도 계산하기"
      ],
      "execution_count": null,
      "outputs": []
    }
  ]
}