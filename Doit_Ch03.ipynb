{
  "nbformat": 4,
  "nbformat_minor": 0,
  "metadata": {
    "colab": {
      "name": "Doit_Ch03.ipynb",
      "provenance": [],
      "collapsed_sections": [],
      "authorship_tag": "ABX9TyOGxpQ+hvWnwB4PKnkNazgP",
      "include_colab_link": true
    },
    "kernelspec": {
      "name": "python3",
      "display_name": "Python 3"
    },
    "language_info": {
      "name": "python"
    },
    "accelerator": "GPU"
  },
  "cells": [
    {
      "cell_type": "markdown",
      "metadata": {
        "id": "view-in-github",
        "colab_type": "text"
      },
      "source": [
        "<a href=\"https://colab.research.google.com/github/owl-d/Basic_DeepLearning/blob/main/Doit_Ch03.ipynb\" target=\"_parent\"><img src=\"https://colab.research.google.com/assets/colab-badge.svg\" alt=\"Open In Colab\"/></a>"
      ]
    },
    {
      "cell_type": "code",
      "metadata": {
        "id": "dw6CyAU7ofZS"
      },
      "source": [
        "class Neuron:\n",
        "\n",
        "  def __init__(self):\n",
        "    self.w = 1.0  #가중치 초기화\n",
        "    self.b = 1.0  #절편 초기화\n",
        "\n",
        "  def forpass(self, x):\n",
        "    y_hat = x * self.w + self.b #직선 방정식 계산\n",
        "    return y_hat\n",
        "\n",
        "  def backprop(self, x, err):\n",
        "    w_grad = x * err          #w에 대한 gradient\n",
        "    b_grad = 1 * err          #b에 대한 gradient\n",
        "    return w_grad, b_grad\n",
        "\n",
        "  def fit(self, x, y, epochs=100):\n",
        "    for i in range(epochs):         #epoch만큼 반복\n",
        "      for x_i, y_i in zip(x, y):    #모든 sample에 대해 반복\n",
        "        y_hat = self.forpass(x_i)   #정방향 계산\n",
        "        err = -(y_i - y_hat)        #error 계산\n",
        "        w_grad, b_grad = self.backprop(x_i, err) #역방향 계산\n",
        "        self.w -= w_grad            #w 업데이트\n",
        "        self.b -= b_grad            #b 업데이트\n",
        "\n",
        "  "
      ],
      "execution_count": 1,
      "outputs": []
    },
    {
      "cell_type": "code",
      "metadata": {
        "id": "tjp2KEOfojpN"
      },
      "source": [
        "neuron = Neuron()\n",
        "neuron.fit(x, y) #아직 데이터 로드 안 함"
      ],
      "execution_count": null,
      "outputs": []
    }
  ]
}