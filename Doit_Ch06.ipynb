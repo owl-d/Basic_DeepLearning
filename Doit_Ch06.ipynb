{
  "nbformat": 4,
  "nbformat_minor": 0,
  "metadata": {
    "colab": {
      "name": "Doit_Ch06.ipynb",
      "provenance": [],
      "collapsed_sections": [],
      "authorship_tag": "ABX9TyPHXWB6/yneiz3i3JL8NW4M",
      "include_colab_link": true
    },
    "kernelspec": {
      "name": "python3",
      "display_name": "Python 3"
    },
    "language_info": {
      "name": "python"
    }
  },
  "cells": [
    {
      "cell_type": "markdown",
      "metadata": {
        "id": "view-in-github",
        "colab_type": "text"
      },
      "source": [
        "<a href=\"https://colab.research.google.com/github/owl-d/Basic_DeepLearning/blob/main/Doit_Ch06.ipynb\" target=\"_parent\"><img src=\"https://colab.research.google.com/assets/colab-badge.svg\" alt=\"Open In Colab\"/></a>"
      ]
    },
    {
      "cell_type": "markdown",
      "metadata": {
        "id": "75eJSPPDgECA"
      },
      "source": [
        "# ***06 : 2개의 층을 연결합니다 - 다층 신경망***"
      ]
    },
    {
      "cell_type": "markdown",
      "metadata": {
        "id": "MDQIYYqPgQ0A"
      },
      "source": [
        "***06-1 신경망 알고리즘의 벡터화해 한 번에 전체 샘플 사용***"
      ]
    },
    {
      "cell_type": "code",
      "metadata": {
        "colab": {
          "base_uri": "https://localhost:8080/"
        },
        "id": "flK7CCVf9Y8m",
        "outputId": "59035074-10d0-4529-e217-16a5efa459b5"
      },
      "source": [
        "#위스콘신 유방암 데이터\n",
        "\n",
        "import numpy as np\n",
        "import matplotlib.pyplot as plt\n",
        "\n",
        "from sklearn.datasets import load_breast_cancer\n",
        "from sklearn.model_selection import train_test_split\n",
        "\n",
        "cancer = load_breast_cancer()\n",
        "x = cancer.data\n",
        "y = cancer.target\n",
        "x_train_all, x_test, y_train_all, y_test = train_test_split(x, y, stratify=y, test_size=0.2, random_state=42)\n",
        "x_train, x_val, y_train, y_val = train_test_split(x_train_all, y_train_all, stratify=y_train_all, test_size=0.2, random_state=42)\n",
        "\n",
        "print(x_train.shape, x_val.shape)"
      ],
      "execution_count": 1,
      "outputs": [
        {
          "output_type": "stream",
          "text": [
            "(364, 30) (91, 30)\n"
          ],
          "name": "stdout"
        }
      ]
    },
    {
      "cell_type": "code",
      "metadata": {
        "id": "2L1Z7pnygA2u"
      },
      "source": [
        "class SingleLayer:\n",
        "\n",
        "  def __init__(self, learning_rate=0.1, l1=0, l2=0):\n",
        "    self.w = None\n",
        "    self.b = None\n",
        "    self.losses = []\n",
        "    self.val_losses = []\n",
        "    self.w_history = []\n",
        "    self.lr = learning_rate\n",
        "    self.l1 = l1\n",
        "    self.l2 = l2\n",
        "\n",
        "  def forpass(self, x): #정방향 계산\n",
        "    z = np.dot(x, self.w) + self.b\n",
        "    return z\n",
        "\n",
        "  def backprop(self, x, err): #역방향 계산\n",
        "    m = len(x)                    #샘플의 개수\n",
        "    w_grad = np.dot(x.T, err) / m #가중치에 대한 평균 그레디언트\n",
        "    b_grad = np.sum(err) / m      #절편에 대한 평균 그레디언트\n",
        "    return w_grad, b_grad\n",
        "\n",
        "  def activation(self, z):  #활성화 함수 메서드\n",
        "    z = np.clip(z, -100, None)\n",
        "    a = 1 / (1 + np.exp(-z))  #시그모이드 계산\n",
        "    return a\n",
        "\n",
        "  def fit(self, x, y, epochs=100, x_val=None, y_val=None):  #forpass(), backprop() 메서드에서 전체 샘플 한 번에 계산하므로 각 샘플에 대한 두 번쨰 for문 사라짐\n",
        "    y = y.reshape(-1, 1)  #target을 열 벡터로 바꾼다.\n",
        "    y_val = y_val.reshape(-1, 1)\n",
        "    m = len(x)            #샘플 개수\n",
        "    self.w = np.ones((x.shape[1], 1))  #가중치 초기화\n",
        "    self.b = 0                    #절편 초기화\n",
        "    self.w_history.append(self.w.copy()) #가중치 기록\n",
        "    for i in range(epochs):\n",
        "      z = self.forpass(x)   #정방향 계산\n",
        "      a = self.activation(z)   #활성화 함수 적용\n",
        "      err = -(y - a)        #오차 계산\n",
        "      w_grad, b_grad = self.backprop(x, err)  #역방향 계산\n",
        "      w_grad += (self.l1 * np.sign(self.w) + self.l2 * self.w) / m #L1규제와 L2규제 하나의 식으로 작성\n",
        "      self.w -= self.lr * w_grad\n",
        "      self.b -= self.lr * b_grad\n",
        "      self.w_history.append(self.w.copy())\n",
        "      a = np.clip(a, 1e-10, 1-1e-10)  #안전한 로그 계산 위해 클리핑 한 후 손실 누적\n",
        "      \n",
        "      loss = np.sum(-(y*np.log(a) + (1-y)*np.log(1-a)))\n",
        "      self.losses.append((loss + self.reg_loss()) / m) #로그 손실과 규제 손실 더해 리스트에 추가\n",
        "\n",
        "      self.update_val_loss(x_val, y_val) #검증 세트에 대한 손실 계산\n",
        "\n",
        "  def predict(self, x):\n",
        "    z = self.forpass(x)  #정방향 계산\n",
        "    return z > 0         #계단 함수 적용(sigmoid 함수 적용하지 않아도 z의 값으로 알 수 있음)\n",
        "\n",
        "  def score(self, x, y):  #모델의 정확도\n",
        "    return np.mean(self.predict(x)==y.reshape(-1, 1)) #예측과 타깃 열 벡터 비교해 True의 비율 반환\n",
        "\n",
        "  def reg_loss(self): #가중치에 규제 적용\n",
        "    return self.l1 * np.sum(np.abs(self.w)) + self.l2 / 2 * np.sum(self.w**2)\n",
        "\n",
        "  def update_val_loss(self, x_val, y_val): #검증 세트 손실 계산\n",
        "    z = self.forpass(x_val) #정방향 계산\n",
        "    a = self.activation(z)     #활성화 함수 적용\n",
        "    a = np.clip(a, 1e-10, 1-1e-10) #출력값 클리핑\n",
        "    val_loss = np.sum(-(y_val*np.log(a) + (1-y_val)*np.log(1-a))) #로지스틱 손실 함수의 값 계산\n",
        "    self.val_losses.append((val_loss + self.reg_loss()) / len(y_val)) #계산한 손실 함수 값 추가(L1, L2 규제 패널티 함수 포함)"
      ],
      "execution_count": 2,
      "outputs": []
    },
    {
      "cell_type": "code",
      "metadata": {
        "id": "33cGxfpAC-bm"
      },
      "source": [
        "#훈련 데이터 표준화 전처리\n",
        "\n",
        "import numpy as np\n",
        "import matplotlib.pyplot as plt\n",
        "from sklearn.preprocessing import StandardScaler\n",
        "\n",
        "scaler = StandardScaler()\n",
        "scaler.fit(x_train) #변환 규칙 익힘\n",
        "x_train_scaled = scaler.transform(x_train)  #훈련 세트에 표준화 적용\n",
        "x_val_scaled = scaler.transform(x_val)      #검증 세트에 표준화 적용"
      ],
      "execution_count": 3,
      "outputs": []
    },
    {
      "cell_type": "code",
      "metadata": {
        "colab": {
          "base_uri": "https://localhost:8080/"
        },
        "id": "Dm7HRRCBDxaK",
        "outputId": "56f341d9-b207-4f1a-9d06-b91637ad2f75"
      },
      "source": [
        "#배치 경사 하강법 적용\n",
        "\n",
        "single_layer = SingleLayer(l2=0.01)\n",
        "single_layer.fit(x_train_scaled, y_train, x_val=x_val_scaled, y_val=y_val, epochs=10000)\n",
        "single_layer.score(x_val_scaled, y_val)"
      ],
      "execution_count": 4,
      "outputs": [
        {
          "output_type": "execute_result",
          "data": {
            "text/plain": [
              "0.978021978021978"
            ]
          },
          "metadata": {
            "tags": []
          },
          "execution_count": 4
        }
      ]
    },
    {
      "cell_type": "code",
      "metadata": {
        "colab": {
          "base_uri": "https://localhost:8080/",
          "height": 283
        },
        "id": "X9F8Msz9FxlE",
        "outputId": "9c4d355b-bef2-432a-f8ce-1e070c763c9c"
      },
      "source": [
        "#검증 세트로 성능 측정\n",
        "\n",
        "#score() 메서드로 출력하면 검증 세트의 점수는 05장과 동일하지만 손실 함수 값의 변화는 다르다.\n",
        "\n",
        "plt.ylim(0, 0.3)\n",
        "plt.plot(single_layer.losses)\n",
        "plt.plot(single_layer.val_losses)\n",
        "plt.ylabel('loss')\n",
        "plt.xlabel('epoch')\n",
        "plt.legend(['train_loss', 'val_loss'])\n",
        "plt.show()\n",
        "\n",
        "#손실값이 안정적으로 감소한다."
      ],
      "execution_count": 5,
      "outputs": [
        {
          "output_type": "display_data",
          "data": {
            "image/png": "[encoded data removed]",
            "text/plain": [
              "<Figure size 432x288 with 1 Axes>"
            ]
          },
          "metadata": {
            "tags": [],
            "needs_background": "light"
          }
        }
      ]
    },
    {
      "cell_type": "code",
      "metadata": {
        "colab": {
          "base_uri": "https://localhost:8080/",
          "height": 279
        },
        "id": "9qGCyY3tGTED",
        "outputId": "cfea7158-35df-40cb-dc79-561835e91601"
      },
      "source": [
        "#가중치의 변화를 그래프로 나타내자\n",
        "\n",
        "w2 = []\n",
        "w3 = []\n",
        "for w in single_layer.w_history:\n",
        "  w2.append(w[2])\n",
        "  w3.append(w[3])\n",
        "plt.plot(w2, w3)\n",
        "plt.plot(w2[-1], w3[-1], 'ro')\n",
        "plt.xlabel('w[2]')\n",
        "plt.ylabel('w[3]')\n",
        "plt.show()\n",
        "\n",
        "#가중치를 찾는 경로가 다소 부드러운 곡선이다.\n",
        "#가중치의 변화가 연속적이므로 손실값도 안정적으로 수렴한다.\n",
        "#배치 경사 하강법의 단점 : 연산 비용이 많이 들고, 최솟값이 수렴하는 시간이 오래 걸린다."
      ],
      "execution_count": 6,
      "outputs": [
        {
          "output_type": "display_data",
          "data": {
            "image/png": "[encoded data removed]",
            "text/plain": [
              "<Figure size 432x288 with 1 Axes>"
            ]
          },
          "metadata": {
            "tags": [],
            "needs_background": "light"
          }
        }
      ]
    },
    {
      "cell_type": "markdown",
      "metadata": {
        "id": "5pePKX8PgC-S"
      },
      "source": [
        "***06-2 2개의 층을 가진 신경망 구현***"
      ]
    },
    {
      "cell_type": "code",
      "metadata": {
        "id": "rGZIQ8NUJZq1"
      },
      "source": [
        "#SingleLayer 클래스 상속해 DualLayer 클래스 만들고 필요한 메서드 재정의\n",
        "\n",
        "class DualLayer(SingleLayer):\n",
        "\n",
        "  def __init__(self, units=10, learning_rate=0.1, l1=0, l2=0):\n",
        "    self.units = units    #은닉층의 뉴런 개수\n",
        "    self.w1 = None\n",
        "    self.b1 = None\n",
        "    self.w2 = None\n",
        "    self.b2 = None\n",
        "    self.a1 = None\n",
        "    self.losses = []      #훈련 손실\n",
        "    self.val_losses = []  #검증 손실\n",
        "    self.lr = learning_rate\n",
        "    self.l1 = l1\n",
        "    self.l2 = l2\n",
        "\n",
        "  def forpass(self, x):\n",
        "    z1 = np.dot(x, self.w1) + self.b1       #첫 번째 층의 선형식 계산\n",
        "    self.a1 = self.activation(z1)           #활성화 함수 적용(SingleLayer클래스로부터 상속)\n",
        "    z2 = np.dot(self.a1, self.w2) + self.b2 #두 번째 층의 선형식 계산\n",
        "    return z2\n",
        "\n",
        "  def backprop(self, x, err):\n",
        "    m = len(x)      #샘플 개수\n",
        "    #출력층의 가중치, 절편에 대한 gradient 계산\n",
        "    w2_grad = np.dot(self.a1.T, err) / m\n",
        "    b2_grad = np.sum(err) / m\n",
        "    #sigmoid 함수까지 gradient 계산\n",
        "    err_to_hidden = np.dot(err, self.w2.T) * self.a1 * (1-self.a1)\n",
        "    #은닉층의 가중치, 절편에 대한 gradient 계산\n",
        "    w1_grad = np.dot(x.T, err_to_hidden) / m\n",
        "    b1_grad = np.sum(err_to_hidden, axis=0) / m\n",
        "    return w1_grad, b1_grad, w2_grad, b2_grad\n",
        "\n",
        "  #SingleLayer에서는 fit() 메서드를 한 덩어리로 작성했지만, DualLayer 클래스의 fit() 메서드는 3개의 작은 메서드로 쪼갠다.\n",
        "  #1. 은닉층과 출력층의 가중치, 절편을 초기화\n",
        "  #2. 에포크마다 정방향 계산 수행해 오차 계산\n",
        "  #3. 오차 역전파해 가중치와 절편의 그레디언트 계산 및 업데이트\n",
        "  #4. 손실 계산하여 누적\n",
        "\n",
        "  def init_weights(self, n_features): #1\n",
        "    self.w1 = np.ones((n_features, self.units)) #(특성 개수, 은닉층의 크기)\n",
        "    self.b1 = np.zeros(self.units)              #은닉층의 크기\n",
        "    self.w2 = np.ones((self.units, 1))          #(은닉층의 크기, 1(=출력층의 크기))\n",
        "    self.b2 = 0\n",
        "\n",
        "  def fit(self, x, y, epochs=100, x_val=None, y_val=None): #4\n",
        "    y = y.reshape(-1, 1)               #타깃을 열벡터로 바꾼다.\n",
        "    y_val = y_val.reshape(-1, 1)\n",
        "    m = len(y)                        #샘플 개수\n",
        "    self.init_weights(x.shape[1])     #은닉층, 출력층의 가중치 초기화\n",
        "    for i in range(epochs):\n",
        "      a = self.training(x, y, m)      #fit() 메서드의 for문 안에 있는 코드 중 일부를 training 메서드로 분리\n",
        "      a = np.clip(a, 1e-10, 1-1e-10)  #안전한 로그 계산 위해 클리핑\n",
        "      loss = np.sum(-(y*np.log(a) + (1-y)*np.log(1-a))) #로그 손실\n",
        "      self.losses.append((loss + self.reg_loss()) / m)  #로그 손실과 규제 손실 더해 리스트에 추가\n",
        "      self.update_val_loss(x_val, y_val)                #검증 세트에 대한 손실 계산\n",
        "\n",
        "  def training(self, x, y, m): #2,3\n",
        "    z = self.forpass(x)       #정방향 계산 수행\n",
        "    a = self.activation(z)    #활성화 함수 적용\n",
        "    err = -(y - a)            #오차 계산\n",
        "    w1_grad, b1_grad, w2_grad, b2_grad = self.backprop(x, err)      #오차 역전파 해 그레디언트 계산\n",
        "    w1_grad += (self.l1 * np.sign(self.w1) + self.l2 * self.w1) / m\n",
        "    w2_grad += (self.l1 * np.sign(self.w2) + self.l2 * self.w2) / m #그레디언트에서 패널티 항 미분값 뺀다\n",
        "    self.w1 -= self.lr * w1_grad\n",
        "    self.b1 -= self.lr * b1_grad  #은닉층 업데이트\n",
        "    self.w2 -= self.lr * w2_grad\n",
        "    self.b2 -= self.lr * b2_grad  #출력층 업데이트\n",
        "    return a  #출력층의 활성화 출력 a 반환\n",
        "\n",
        "  def reg_loss(self): #은닉층과 출력층의 가중치에 규제 적용\n",
        "    return self.l1 * (np.sum(np.abs(self.w1)) + np.sum(np.abs(self.w2))) + self.l2 / 2 * (np.sum(self.w1**2) + np.sum(self.w2**2))"
      ],
      "execution_count": 7,
      "outputs": []
    },
    {
      "cell_type": "code",
      "metadata": {
        "colab": {
          "base_uri": "https://localhost:8080/"
        },
        "id": "8vKC5IWzOV3l",
        "outputId": "dc8a614a-4207-4b09-8d14-8e8322095815"
      },
      "source": [
        "#모델 훈련\n",
        "\n",
        "dual_layer = DualLayer(l2=0.01)\n",
        "dual_layer.fit(x_train_scaled, y_train, x_val=x_val_scaled, y_val=y_val, epochs=20000)\n",
        "dual_layer.score(x_val_scaled, y_val)"
      ],
      "execution_count": 8,
      "outputs": [
        {
          "output_type": "execute_result",
          "data": {
            "text/plain": [
              "0.978021978021978"
            ]
          },
          "metadata": {
            "tags": []
          },
          "execution_count": 8
        }
      ]
    },
    {
      "cell_type": "code",
      "metadata": {
        "colab": {
          "base_uri": "https://localhost:8080/",
          "height": 283
        },
        "id": "Ifju0XKLUq0_",
        "outputId": "2d21807f-f23d-48bc-d635-4b212595da36"
      },
      "source": [
        "#훈련 손실 그래프 : 훈련 데이터로 손실 함수의 최솟값 찾아가는 과정\n",
        "#검증 손실 그래프 : 검증 데이터로 손실 함수의 최솟값 찾아가는 과정\n",
        "\n",
        "plt.ylim(0, 0.3)\n",
        "plt.plot(dual_layer.losses)\n",
        "plt.plot(dual_layer.val_losses)\n",
        "plt.ylabel('loss')\n",
        "plt.xlabel('epoch')\n",
        "plt.legend(['train_loss', 'val_loss'])\n",
        "plt.show()\n",
        "\n",
        "#가중치의 개수가 훨씬 많아져 학습하는 데 시간이 오래걸려 손실 그래프가 SingleLayer클래스보다 천천히 감소한다.\n",
        "#SingleLayer : 위스콘신 유방암 데이터의 특성이 30개이므로 가중치 30개와 절편 1개 = 31개의 변수 학습\n",
        "#DualLayer : 은닉층 뉴런이 10개이므로 은닉층에 30*10개의 가중치와 10개의 절편, 출력층에 10개의 가중치와 1개의 절편 = 321개의 변수 학습"
      ],
      "execution_count": 9,
      "outputs": [
        {
          "output_type": "display_data",
          "data": {
            "image/png": "[encoded data removed]",
            "text/plain": [
              "<Figure size 432x288 with 1 Axes>"
            ]
          },
          "metadata": {
            "tags": [],
            "needs_background": "light"
          }
        }
      ]
    },
    {
      "cell_type": "code",
      "metadata": {
        "id": "rtASMvkjVE3h"
      },
      "source": [
        "#가중치 초기화 개선\n",
        "#초기 손실값이 감소하는 곡선이 매끄럽지 않다. (=손실 함수가 감소하는 방향을 올바르게 찾는 데 시간이 많이 소요되었다)\n",
        "#가중치를 1로 초기화하지 않고 정규 분포 따르는 무작위 수로 초기화한다.\n",
        "\n",
        "#DualLayer 클래스 상속한 클래스 만들어 init_weights() 메서드 수정\n",
        "class RandomInitNetwork(DualLayer):\n",
        "\n",
        "  def init_weights(self, n_features):\n",
        "    np.random.seed(42)\n",
        "    self.w1 = np.random.normal(0, 1, (n_features, self.units)) #평균, 분산, (특성 개수, 은닉층의 크기)\n",
        "    self.b1 = np.zeros(self.units)                             #은닉층의 크기\n",
        "    self.w2 = np.random.normal(0, 1, (self.units, 1))          #평균, 분산, (은닉층의 크기, 1)\n",
        "    self.b2 = 0"
      ],
      "execution_count": 10,
      "outputs": []
    },
    {
      "cell_type": "code",
      "metadata": {
        "colab": {
          "base_uri": "https://localhost:8080/",
          "height": 283
        },
        "id": "Eb7eweciXnjp",
        "outputId": "9fabd600-9821-488b-da32-1abe41281ff6"
      },
      "source": [
        "#훈련 및 손실함수 그리기\n",
        "\n",
        "random_init_net = RandomInitNetwork(l2=0.01)\n",
        "random_init_net.fit(x_train_scaled, y_train, x_val=x_val_scaled, y_val=y_val, epochs=500)\n",
        "\n",
        "plt.ylim(0, 0.3)\n",
        "plt.plot(random_init_net.losses)\n",
        "plt.plot(random_init_net.val_losses)\n",
        "plt.ylabel('loss')\n",
        "plt.xlabel('epoch')\n",
        "plt.legend(['train_loss', 'val_loss'])\n",
        "plt.show()\n",
        "\n",
        "#손실함수가 감소하는 곡선이 매끄럽고 손실 함수 값이 빠르게 감소한다."
      ],
      "execution_count": 11,
      "outputs": [
        {
          "output_type": "display_data",
          "data": {
            "image/png": "[encoded data removed]",
            "text/plain": [
              "<Figure size 432x288 with 1 Axes>"
            ]
          },
          "metadata": {
            "tags": [],
            "needs_background": "light"
          }
        }
      ]
    },
    {
      "cell_type": "markdown",
      "metadata": {
        "id": "VTKdw4sOgpZc"
      },
      "source": [
        "***06-3 미니 배치 사용해 모델 훈련***"
      ]
    },
    {
      "cell_type": "code",
      "metadata": {
        "id": "fprOJCnkZCCO"
      },
      "source": [
        "class MinibatchNetwork(RandomInitNetwork):\n",
        "\n",
        "  def __init__(self, units=10, batch_size=32, learning_rate=0.1, l1=0, l2=0):\n",
        "    super().__init__(units, learning_rate, l1, l2)\n",
        "    self.batch_size = batch_size  #배치 크기\n",
        "\n",
        "  def fit(self, x, y, epochs=100, x_val=None, y_val=None): #epoch 순회하는 for문 안에 미니 배치 순회하는 for문이 추가된다.\n",
        "    y_val = y_val.reshape(-1, 1)\n",
        "    self.init_weights(x.shape[1]) #은닉층과 출력층의 가중치 초기화\n",
        "    np.random.seed(42)\n",
        "    for i in range(epochs):\n",
        "      loss = 0    #손실 초기화\n",
        "      for x_batch, y_batch in self.gen_batch(x, y): #미니배치 순회\n",
        "        y_batch = y_batch.reshape(-1, 1)    #타겟을 열 벡터로 바꾼다.\n",
        "        m = len(x_batch)\n",
        "        a = self.training(x_batch, y_batch, m)\n",
        "        a = np.clip(a, 1e-10, 1-1e-10)\n",
        "        loss += np.sum(-(y_batch*np.log(a) + (1-y_batch)*np.log(1-a))) #매 미니배치마다 손실 누적\n",
        "      self.losses.append((loss + self.reg_loss()) / len(x))            #로그 손실과 규제 손실 더해 리스트에 추가\n",
        "      self.update_val_loss(x_val, y_val)\n",
        "\n",
        "  def gen_batch(self, x, y): #미니 배치 만들어 반환\n",
        "    length = len(x)\n",
        "    bins = length // self.batch_size  #미니 배치 횟수\n",
        "    if length % self.batch_size:\n",
        "      bins += 1                       #나누어 떨어지지 않을 때\n",
        "    indexes = np.random.permutation(np.arange(len(x)))  #인덱스를 섞는다\n",
        "    x = x[indexes]\n",
        "    y = y[indexes]\n",
        "    for i in range(bins):\n",
        "      start = self.batch_size * i\n",
        "      end = self.batch_size * (i + 1)\n",
        "      yield x[start:end], y[start:end]  #batch_size만큼 슬라이싱하여 반환"
      ],
      "execution_count": 12,
      "outputs": []
    },
    {
      "cell_type": "code",
      "metadata": {
        "colab": {
          "base_uri": "https://localhost:8080/",
          "height": 296
        },
        "id": "fL8L1Rr3clXt",
        "outputId": "d11ec666-d2d4-4f25-d2e5-cc4f3eed8c48"
      },
      "source": [
        "#미니 배치 경사 하강법 적용(batch_size=32)\n",
        "\n",
        "minibatch_net = MinibatchNetwork(l2=0.01, batch_size=32)\n",
        "minibatch_net.fit(x_train_scaled, y_train, x_val=x_val_scaled, y_val=y_val, epochs=500)\n",
        "print(minibatch_net.score(x_val_scaled, y_val))\n",
        "\n",
        "plt.plot(minibatch_net.losses)\n",
        "plt.plot(minibatch_net.val_losses)\n",
        "plt.ylabel('loss')\n",
        "plt.xlabel('iteration')\n",
        "plt.legend(['train_loss', 'val_loss'])\n",
        "plt.show()\n",
        "\n",
        "#배치 경사 하강법보다 수렴 속도가 빠르다."
      ],
      "execution_count": 13,
      "outputs": [
        {
          "output_type": "stream",
          "text": [
            "0.978021978021978\n"
          ],
          "name": "stdout"
        },
        {
          "output_type": "display_data",
          "data": {
            "image/png": "[encoded data removed]",
            "text/plain": [
              "<Figure size 432x288 with 1 Axes>"
            ]
          },
          "metadata": {
            "tags": [],
            "needs_background": "light"
          }
        }
      ]
    },
    {
      "cell_type": "code",
      "metadata": {
        "colab": {
          "base_uri": "https://localhost:8080/",
          "height": 296
        },
        "id": "WAtfYfwTdSkr",
        "outputId": "2ffddea9-f4d0-4857-910e-2536ed4017dd"
      },
      "source": [
        "#미니 배치 경사 하강법 적용(batch_size=128)\n",
        "\n",
        "minibatch_net = MinibatchNetwork(l2=0.01, batch_size=32)\n",
        "minibatch_net.fit(x_train_scaled, y_train, x_val=x_val_scaled, y_val=y_val, epochs=500)\n",
        "print(minibatch_net.score(x_val_scaled, y_val))\n",
        "\n",
        "plt.plot(minibatch_net.losses)\n",
        "plt.plot(minibatch_net.val_losses)\n",
        "plt.ylabel('loss')\n",
        "plt.xlabel('iteration')\n",
        "plt.legend(['train_loss', 'val_loss'])\n",
        "plt.show()\n",
        "\n",
        "#batch_size=32 보다 손실 그래프는 조금 더 안정적으로 바뀌었지만, 손실값이 줄어드는 속도는 느려졌다."
      ],
      "execution_count": 14,
      "outputs": [
        {
          "output_type": "stream",
          "text": [
            "0.978021978021978\n"
          ],
          "name": "stdout"
        },
        {
          "output_type": "display_data",
          "data": {
            "image/png": "[encoded data removed]",
            "text/plain": [
              "<Figure size 432x288 with 1 Axes>"
            ]
          },
          "metadata": {
            "tags": [],
            "needs_background": "light"
          }
        }
      ]
    },
    {
      "cell_type": "markdown",
      "metadata": {
        "id": "_NGEqrsTdnsD"
      },
      "source": [
        "사이킷런 사용해 다층 신경망 훈련하기"
      ]
    },
    {
      "cell_type": "code",
      "metadata": {
        "id": "3QiG-siedp4R"
      },
      "source": [
        "from sklearn.neural_network import MLPClassifier\n",
        "mlp = MLPClassifier(hidden_layer_sizes=(10, ), activation='logistic', solver='sgd', alpha=0.01, batch_size=32, learning_rate_init=0.1, max_iter=500)\n",
        "\n",
        "#hidden_layer_sizes : 은닉층의 수와 뉴런의 개수 튜플로 전달. 기본값은 (100, )이다. 10개의 뉴런을 가진 2개의 은닉층 만들려면 (10, 10)과 같이 설정\n",
        "#activation : 활성화함수 설정. 기본값은 'ReLU'. 여기서는 시그모이드함수 사용 위해 'logistic' 전달. 사이킷런의 신경말 모델은 은닉층마다 다른 활성화 함수 지정 불가능\n",
        "#solver : 경사하강법 알고리즘 종류 지정. 기본값은 확률정 경사 하강법 의미하는 'sgd'\n",
        "#alpha : 규제 적용 위한 매개변수. 사이킷런 신경망 모델은 L2 규제만 지원한다. alpha 매개변수는 규제의 양을 제어. 기본값은 0.0001.\n",
        "#batch_size : 배치 크기 설정. 기본값 200\n"
      ],
      "execution_count": 15,
      "outputs": []
    },
    {
      "cell_type": "code",
      "metadata": {
        "colab": {
          "base_uri": "https://localhost:8080/"
        },
        "id": "yyiZvSuxfiX7",
        "outputId": "b785e8dc-a975-4e5f-f18c-579dfd5a9dfd"
      },
      "source": [
        "#모델 훈련\n",
        "mlp.fit(x_train_scaled, y_train)\n",
        "mlp.score(x_val_scaled, y_val)"
      ],
      "execution_count": 16,
      "outputs": [
        {
          "output_type": "execute_result",
          "data": {
            "text/plain": [
              "0.989010989010989"
            ]
          },
          "metadata": {
            "tags": []
          },
          "execution_count": 16
        }
      ]
    }
  ]
}